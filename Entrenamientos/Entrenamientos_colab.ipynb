{
  "nbformat": 4,
  "nbformat_minor": 0,
  "metadata": {
    "colab": {
      "name": "Entrenamientos_colab.ipynb",
      "provenance": [],
      "collapsed_sections": []
    },
    "kernelspec": {
      "name": "python3",
      "display_name": "Python 3"
    },
    "language_info": {
      "name": "python"
    }
  },
  "cells": [
    {
      "cell_type": "code",
      "metadata": {
        "colab": {
          "base_uri": "https://localhost:8080/"
        },
        "id": "ud0qYhkNbaho",
        "outputId": "27f26007-2bdf-465d-8ad1-2e7a40caeb3c"
      },
      "source": [
        "from google.colab import drive\n",
        "drive.mount('/content/gdrive')"
      ],
      "execution_count": 2,
      "outputs": [
        {
          "output_type": "stream",
          "name": "stdout",
          "text": [
            "Drive already mounted at /content/gdrive; to attempt to forcibly remount, call drive.mount(\"/content/gdrive\", force_remount=True).\n"
          ]
        }
      ]
    },
    {
      "cell_type": "code",
      "metadata": {
        "id": "Bt5MJ8Ltbelc"
      },
      "source": [
        "import pandas as pd\n",
        "import numpy as np"
      ],
      "execution_count": 3,
      "outputs": []
    },
    {
      "cell_type": "code",
      "metadata": {
        "id": "pCukRDlR8-xJ"
      },
      "source": [
        "\n"
      ],
      "execution_count": 3,
      "outputs": []
    },
    {
      "cell_type": "code",
      "metadata": {
        "id": "71ma8rPSblyw"
      },
      "source": [
        "dataset = pd.read_csv(\"/content/gdrive/MyDrive/dataset_ivo.csv\", low_memory=False)\n"
      ],
      "execution_count": 4,
      "outputs": []
    },
    {
      "cell_type": "code",
      "metadata": {
        "id": "uZNy8LsBcP2A",
        "colab": {
          "base_uri": "https://localhost:8080/",
          "height": 444
        },
        "outputId": "fa9ead55-d1e1-40f1-f1fe-fd0a0f7d2e1e"
      },
      "source": [
        "dataset"
      ],
      "execution_count": 5,
      "outputs": [
        {
          "output_type": "execute_result",
          "data": {
            "text/html": [
              "<div>\n",
              "<style scoped>\n",
              "    .dataframe tbody tr th:only-of-type {\n",
              "        vertical-align: middle;\n",
              "    }\n",
              "\n",
              "    .dataframe tbody tr th {\n",
              "        vertical-align: top;\n",
              "    }\n",
              "\n",
              "    .dataframe thead th {\n",
              "        text-align: right;\n",
              "    }\n",
              "</style>\n",
              "<table border=\"1\" class=\"dataframe\">\n",
              "  <thead>\n",
              "    <tr style=\"text-align: right;\">\n",
              "      <th></th>\n",
              "      <th>datapath_id</th>\n",
              "      <th>ip_src</th>\n",
              "      <th>tp_src</th>\n",
              "      <th>ip_dst</th>\n",
              "      <th>tp_dst</th>\n",
              "      <th>ip_proto</th>\n",
              "      <th>icmp_code</th>\n",
              "      <th>icmp_type</th>\n",
              "      <th>flow_duration_sec</th>\n",
              "      <th>flags</th>\n",
              "      <th>packet_count</th>\n",
              "      <th>byte_count</th>\n",
              "      <th>packet_count_per_second</th>\n",
              "      <th>packet_count_per_nanosec</th>\n",
              "      <th>byte_count_per_nanosec</th>\n",
              "      <th>label</th>\n",
              "    </tr>\n",
              "  </thead>\n",
              "  <tbody>\n",
              "    <tr>\n",
              "      <th>0</th>\n",
              "      <td>4</td>\n",
              "      <td>10.0.0.4</td>\n",
              "      <td>0</td>\n",
              "      <td>10.0.0.1</td>\n",
              "      <td>0</td>\n",
              "      <td>1</td>\n",
              "      <td>0</td>\n",
              "      <td>0</td>\n",
              "      <td>2</td>\n",
              "      <td>0</td>\n",
              "      <td>24</td>\n",
              "      <td>2928</td>\n",
              "      <td>0</td>\n",
              "      <td>0</td>\n",
              "      <td>5.545454545454545e-06</td>\n",
              "      <td>1</td>\n",
              "    </tr>\n",
              "    <tr>\n",
              "      <th>1</th>\n",
              "      <td>4</td>\n",
              "      <td>10.0.0.1</td>\n",
              "      <td>0</td>\n",
              "      <td>10.0.0.4</td>\n",
              "      <td>0</td>\n",
              "      <td>1</td>\n",
              "      <td>0</td>\n",
              "      <td>8</td>\n",
              "      <td>2</td>\n",
              "      <td>0</td>\n",
              "      <td>24</td>\n",
              "      <td>2928</td>\n",
              "      <td>0</td>\n",
              "      <td>0</td>\n",
              "      <td>5.534971644612476e-06</td>\n",
              "      <td>1</td>\n",
              "    </tr>\n",
              "    <tr>\n",
              "      <th>2</th>\n",
              "      <td>3</td>\n",
              "      <td>10.0.0.4</td>\n",
              "      <td>0</td>\n",
              "      <td>10.0.0.1</td>\n",
              "      <td>0</td>\n",
              "      <td>1</td>\n",
              "      <td>0</td>\n",
              "      <td>0</td>\n",
              "      <td>2</td>\n",
              "      <td>0</td>\n",
              "      <td>24</td>\n",
              "      <td>2928</td>\n",
              "      <td>0</td>\n",
              "      <td>0</td>\n",
              "      <td>5.555977229601518e-06</td>\n",
              "      <td>1</td>\n",
              "    </tr>\n",
              "    <tr>\n",
              "      <th>3</th>\n",
              "      <td>2</td>\n",
              "      <td>10.0.0.1</td>\n",
              "      <td>0</td>\n",
              "      <td>10.0.0.4</td>\n",
              "      <td>0</td>\n",
              "      <td>1</td>\n",
              "      <td>0</td>\n",
              "      <td>8</td>\n",
              "      <td>2</td>\n",
              "      <td>0</td>\n",
              "      <td>24</td>\n",
              "      <td>2928</td>\n",
              "      <td>0</td>\n",
              "      <td>0</td>\n",
              "      <td>5.514124293785311e-06</td>\n",
              "      <td>1</td>\n",
              "    </tr>\n",
              "    <tr>\n",
              "      <th>4</th>\n",
              "      <td>4</td>\n",
              "      <td>10.0.0.1</td>\n",
              "      <td>0</td>\n",
              "      <td>10.0.0.4</td>\n",
              "      <td>0</td>\n",
              "      <td>1</td>\n",
              "      <td>0</td>\n",
              "      <td>8</td>\n",
              "      <td>12</td>\n",
              "      <td>0</td>\n",
              "      <td>124</td>\n",
              "      <td>15128</td>\n",
              "      <td>0</td>\n",
              "      <td>0</td>\n",
              "      <td>2.843609022556391e-05</td>\n",
              "      <td>1</td>\n",
              "    </tr>\n",
              "    <tr>\n",
              "      <th>...</th>\n",
              "      <td>...</td>\n",
              "      <td>...</td>\n",
              "      <td>...</td>\n",
              "      <td>...</td>\n",
              "      <td>...</td>\n",
              "      <td>...</td>\n",
              "      <td>...</td>\n",
              "      <td>...</td>\n",
              "      <td>...</td>\n",
              "      <td>...</td>\n",
              "      <td>...</td>\n",
              "      <td>...</td>\n",
              "      <td>...</td>\n",
              "      <td>...</td>\n",
              "      <td>...</td>\n",
              "      <td>...</td>\n",
              "    </tr>\n",
              "    <tr>\n",
              "      <th>37512</th>\n",
              "      <td>2</td>\n",
              "      <td>81.198.226.242</td>\n",
              "      <td>3672</td>\n",
              "      <td>10.0.0.2</td>\n",
              "      <td>0</td>\n",
              "      <td>6</td>\n",
              "      <td>-1</td>\n",
              "      <td>-1</td>\n",
              "      <td>0</td>\n",
              "      <td>0</td>\n",
              "      <td>0</td>\n",
              "      <td>0</td>\n",
              "      <td>0</td>\n",
              "      <td>0</td>\n",
              "      <td>0.0</td>\n",
              "      <td>1</td>\n",
              "    </tr>\n",
              "    <tr>\n",
              "      <th>37513</th>\n",
              "      <td>2</td>\n",
              "      <td>82.210.216.138</td>\n",
              "      <td>3732</td>\n",
              "      <td>10.0.0.2</td>\n",
              "      <td>0</td>\n",
              "      <td>6</td>\n",
              "      <td>-1</td>\n",
              "      <td>-1</td>\n",
              "      <td>0</td>\n",
              "      <td>0</td>\n",
              "      <td>0</td>\n",
              "      <td>0</td>\n",
              "      <td>0</td>\n",
              "      <td>0</td>\n",
              "      <td>0.0</td>\n",
              "      <td>1</td>\n",
              "    </tr>\n",
              "    <tr>\n",
              "      <th>37514</th>\n",
              "      <td>2</td>\n",
              "      <td>83.233.209.218</td>\n",
              "      <td>3725</td>\n",
              "      <td>10.0.0.2</td>\n",
              "      <td>0</td>\n",
              "      <td>6</td>\n",
              "      <td>-1</td>\n",
              "      <td>-1</td>\n",
              "      <td>0</td>\n",
              "      <td>0</td>\n",
              "      <td>0</td>\n",
              "      <td>0</td>\n",
              "      <td>0</td>\n",
              "      <td>0</td>\n",
              "      <td>0.0</td>\n",
              "      <td>1</td>\n",
              "    </tr>\n",
              "    <tr>\n",
              "      <th>37515</th>\n",
              "      <td>2</td>\n",
              "      <td>9.233.176.107</td>\n",
              "      <td>3700</td>\n",
              "      <td>10.0.0.2</td>\n",
              "      <td>0</td>\n",
              "      <td>6</td>\n",
              "      <td>-1</td>\n",
              "      <td>-1</td>\n",
              "      <td>0</td>\n",
              "      <td>0</td>\n",
              "      <td>0</td>\n",
              "      <td>0</td>\n",
              "      <td>0</td>\n",
              "      <td>0</td>\n",
              "      <td>0.0</td>\n",
              "      <td>1</td>\n",
              "    </tr>\n",
              "    <tr>\n",
              "      <th>37516</th>\n",
              "      <td>2</td>\n",
              "      <td>95.212.242.126</td>\n",
              "      <td>3662</td>\n",
              "      <td>10.0.0.2</td>\n",
              "      <td>0</td>\n",
              "      <td>6</td>\n",
              "      <td>-1</td>\n",
              "      <td>-1</td>\n",
              "      <td>0</td>\n",
              "      <td>0</td>\n",
              "      <td>0</td>\n",
              "      <td>0</td>\n",
              "      <td>0</td>\n",
              "      <td>0</td>\n",
              "      <td>0.0</td>\n",
              "      <td>1</td>\n",
              "    </tr>\n",
              "  </tbody>\n",
              "</table>\n",
              "<p>37517 rows × 16 columns</p>\n",
              "</div>"
            ],
            "text/plain": [
              "       datapath_id          ip_src  ...  byte_count_per_nanosec label\n",
              "0                4        10.0.0.4  ...   5.545454545454545e-06     1\n",
              "1                4        10.0.0.1  ...   5.534971644612476e-06     1\n",
              "2                3        10.0.0.4  ...   5.555977229601518e-06     1\n",
              "3                2        10.0.0.1  ...   5.514124293785311e-06     1\n",
              "4                4        10.0.0.1  ...   2.843609022556391e-05     1\n",
              "...            ...             ...  ...                     ...   ...\n",
              "37512            2  81.198.226.242  ...                     0.0     1\n",
              "37513            2  82.210.216.138  ...                     0.0     1\n",
              "37514            2  83.233.209.218  ...                     0.0     1\n",
              "37515            2   9.233.176.107  ...                     0.0     1\n",
              "37516            2  95.212.242.126  ...                     0.0     1\n",
              "\n",
              "[37517 rows x 16 columns]"
            ]
          },
          "metadata": {},
          "execution_count": 5
        }
      ]
    },
    {
      "cell_type": "code",
      "metadata": {
        "id": "RVQ1OvDgzBDw"
      },
      "source": [
        ""
      ],
      "execution_count": 5,
      "outputs": []
    },
    {
      "cell_type": "code",
      "metadata": {
        "id": "_Z_BG1ShzBBO"
      },
      "source": [
        ""
      ],
      "execution_count": 5,
      "outputs": []
    },
    {
      "cell_type": "code",
      "metadata": {
        "id": "dMzys2SGzA-m"
      },
      "source": [
        ""
      ],
      "execution_count": 5,
      "outputs": []
    },
    {
      "cell_type": "markdown",
      "metadata": {
        "id": "Noi6lIpJmkjx"
      },
      "source": [
        "##KNN"
      ]
    },
    {
      "cell_type": "code",
      "metadata": {
        "id": "5-RS10Wger28"
      },
      "source": [
        "\n",
        "from sklearn.model_selection import train_test_split\n",
        "from sklearn.neighbors import KNeighborsClassifier\n",
        "from sklearn.metrics import confusion_matrix,classification_report\n",
        "from sklearn.metrics import accuracy_score\n",
        "import matplotlib.pyplot as plt\n",
        "import seaborn as sns\n",
        "\n",
        "\n",
        "dataset.iloc[:, 1] = dataset.iloc[:, 1].str.replace('.', '')\n",
        "dataset.iloc[:, 3] = dataset.iloc[:, 3].str.replace('.', '')\n",
        "dataset.iloc[:, -2] = dataset.iloc[:,-2].str.replace(\",\",\"\")\n",
        "\n",
        "X_flow = dataset.iloc[:, :-1].values\n",
        "X_flow = X_flow.astype('float32')\n",
        "y_flow = dataset.iloc[:, -1].values\n",
        "\n",
        "X_flow_train, X_flow_test, y_flow_train, y_flow_test = train_test_split(X_flow, y_flow, test_size=0.20, random_state=0)\n"
      ],
      "execution_count": 6,
      "outputs": []
    },
    {
      "cell_type": "code",
      "metadata": {
        "colab": {
          "base_uri": "https://localhost:8080/",
          "height": 1000
        },
        "id": "6FROFdOledEE",
        "outputId": "2981a3ce-196e-4b58-fcf7-4efe32fbafaf"
      },
      "source": [
        "metrics = ['minkowski','euclidean','manhattan','chebyshev']\n",
        "for i in range(1,8):\n",
        "  for metric in metrics:\n",
        "    X_flow_train, X_flow_test, y_flow_train, y_flow_test = train_test_split(X_flow, y_flow, test_size=0.2)\n",
        "    classifier = KNeighborsClassifier(n_neighbors=i, metric=metric)\n",
        "    flow_model = classifier.fit(X_flow_train, y_flow_train)\n",
        "    y_flow_pred = flow_model.predict(X_flow_test)\n",
        "    print(f\"Matríz de Confusión {metric} con N_NEIGHBORS = {i}\")\n",
        "    cm = confusion_matrix(y_flow_test, y_flow_pred)\n",
        "\n",
        "    sns.heatmap(cm, annot=True, \n",
        "              cmap='Blues', fmt='d')\n",
        "    plt.show()\n",
        "\n",
        "    acc = accuracy_score(y_flow_test, y_flow_pred)\n",
        "\n",
        "    print(\"success accuracy = {0:.02f} %\".format(acc*100))\n",
        "    fail = 1.0 - acc\n",
        "    print(\"fail accuracy = {0:.02f} %\".format(fail*100))\n",
        "    print(\"------------------------------------------------------------------------\")\n",
        "    print(\"\")\n",
        "    print(\" \")\n",
        "    print('Classification Report')\n",
        "    target_names = list(['BENIGNO','MALIGNO'])\n",
        "    print('')\n",
        "    print(classification_report(y_flow_test, y_flow_pred, target_names=target_names))\n",
        "\n"
      ],
      "execution_count": 7,
      "outputs": [
        {
          "output_type": "stream",
          "name": "stdout",
          "text": [
            "Matríz de Confusión minkowski con N_NEIGHBORS = 1\n"
          ]
        },
        {
          "output_type": "display_data",
          "data": {
            "image/png": "[encoded data removed]",
            "text/plain": [
              "<Figure size 432x288 with 2 Axes>"
            ]
          },
          "metadata": {
            "needs_background": "light"
          }
        },
        {
          "output_type": "stream",
          "name": "stdout",
          "text": [
            "success accuracy = 100.00 %\n",
            "fail accuracy = 0.00 %\n",
            "------------------------------------------------------------------------\n",
            "\n",
            " \n",
            "Classification Report\n",
            "\n",
            "              precision    recall  f1-score   support\n",
            "\n",
            "     BENIGNO       1.00      1.00      1.00      1525\n",
            "     MALIGNO       1.00      1.00      1.00      5979\n",
            "\n",
            "    accuracy                           1.00      7504\n",
            "   macro avg       1.00      1.00      1.00      7504\n",
            "weighted avg       1.00      1.00      1.00      7504\n",
            "\n",
            "Matríz de Confusión euclidean con N_NEIGHBORS = 1\n"
          ]
        },
        {
          "output_type": "display_data",
          "data": {
            "image/png": "[encoded data removed]",
            "text/plain": [
              "<Figure size 432x288 with 2 Axes>"
            ]
          },
          "metadata": {
            "needs_background": "light"
          }
        },
        {
          "output_type": "stream",
          "name": "stdout",
          "text": [
            "success accuracy = 100.00 %\n",
            "fail accuracy = 0.00 %\n",
            "------------------------------------------------------------------------\n",
            "\n",
            " \n",
            "Classification Report\n",
            "\n",
            "              precision    recall  f1-score   support\n",
            "\n",
            "     BENIGNO       1.00      1.00      1.00      1517\n",
            "     MALIGNO       1.00      1.00      1.00      5987\n",
            "\n",
            "    accuracy                           1.00      7504\n",
            "   macro avg       1.00      1.00      1.00      7504\n",
            "weighted avg       1.00      1.00      1.00      7504\n",
            "\n",
            "Matríz de Confusión manhattan con N_NEIGHBORS = 1\n"
          ]
        },
        {
          "output_type": "display_data",
          "data": {
            "image/png": "[encoded data removed]",
            "text/plain": [
              "<Figure size 432x288 with 2 Axes>"
            ]
          },
          "metadata": {
            "needs_background": "light"
          }
        },
        {
          "output_type": "stream",
          "name": "stdout",
          "text": [
            "success accuracy = 100.00 %\n",
            "fail accuracy = 0.00 %\n",
            "------------------------------------------------------------------------\n",
            "\n",
            " \n",
            "Classification Report\n",
            "\n",
            "              precision    recall  f1-score   support\n",
            "\n",
            "     BENIGNO       1.00      1.00      1.00      1493\n",
            "     MALIGNO       1.00      1.00      1.00      6011\n",
            "\n",
            "    accuracy                           1.00      7504\n",
            "   macro avg       1.00      1.00      1.00      7504\n",
            "weighted avg       1.00      1.00      1.00      7504\n",
            "\n",
            "Matríz de Confusión chebyshev con N_NEIGHBORS = 1\n"
          ]
        },
        {
          "output_type": "display_data",
          "data": {
            "image/png": "[encoded data removed]",
            "text/plain": [
              "<Figure size 432x288 with 2 Axes>"
            ]
          },
          "metadata": {
            "needs_background": "light"
          }
        },
        {
          "output_type": "stream",
          "name": "stdout",
          "text": [
            "success accuracy = 100.00 %\n",
            "fail accuracy = 0.00 %\n",
            "------------------------------------------------------------------------\n",
            "\n",
            " \n",
            "Classification Report\n",
            "\n",
            "              precision    recall  f1-score   support\n",
            "\n",
            "     BENIGNO       1.00      1.00      1.00      1486\n",
            "     MALIGNO       1.00      1.00      1.00      6018\n",
            "\n",
            "    accuracy                           1.00      7504\n",
            "   macro avg       1.00      1.00      1.00      7504\n",
            "weighted avg       1.00      1.00      1.00      7504\n",
            "\n",
            "Matríz de Confusión minkowski con N_NEIGHBORS = 2\n"
          ]
        },
        {
          "output_type": "display_data",
          "data": {
            "image/png": "[encoded data removed]",
            "text/plain": [
              "<Figure size 432x288 with 2 Axes>"
            ]
          },
          "metadata": {
            "needs_background": "light"
          }
        },
        {
          "output_type": "stream",
          "name": "stdout",
          "text": [
            "success accuracy = 100.00 %\n",
            "fail accuracy = 0.00 %\n",
            "------------------------------------------------------------------------\n",
            "\n",
            " \n",
            "Classification Report\n",
            "\n",
            "              precision    recall  f1-score   support\n",
            "\n",
            "     BENIGNO       1.00      1.00      1.00      1501\n",
            "     MALIGNO       1.00      1.00      1.00      6003\n",
            "\n",
            "    accuracy                           1.00      7504\n",
            "   macro avg       1.00      1.00      1.00      7504\n",
            "weighted avg       1.00      1.00      1.00      7504\n",
            "\n",
            "Matríz de Confusión euclidean con N_NEIGHBORS = 2\n"
          ]
        },
        {
          "output_type": "display_data",
          "data": {
            "image/png": "[encoded data removed]",
            "text/plain": [
              "<Figure size 432x288 with 2 Axes>"
            ]
          },
          "metadata": {
            "needs_background": "light"
          }
        },
        {
          "output_type": "stream",
          "name": "stdout",
          "text": [
            "success accuracy = 100.00 %\n",
            "fail accuracy = 0.00 %\n",
            "------------------------------------------------------------------------\n",
            "\n",
            " \n",
            "Classification Report\n",
            "\n",
            "              precision    recall  f1-score   support\n",
            "\n",
            "     BENIGNO       1.00      1.00      1.00      1447\n",
            "     MALIGNO       1.00      1.00      1.00      6057\n",
            "\n",
            "    accuracy                           1.00      7504\n",
            "   macro avg       1.00      1.00      1.00      7504\n",
            "weighted avg       1.00      1.00      1.00      7504\n",
            "\n",
            "Matríz de Confusión manhattan con N_NEIGHBORS = 2\n"
          ]
        },
        {
          "output_type": "display_data",
          "data": {
            "image/png": "[encoded data removed]",
            "text/plain": [
              "<Figure size 432x288 with 2 Axes>"
            ]
          },
          "metadata": {
            "needs_background": "light"
          }
        },
        {
          "output_type": "stream",
          "name": "stdout",
          "text": [
            "success accuracy = 100.00 %\n",
            "fail accuracy = 0.00 %\n",
            "------------------------------------------------------------------------\n",
            "\n",
            " \n",
            "Classification Report\n",
            "\n",
            "              precision    recall  f1-score   support\n",
            "\n",
            "     BENIGNO       1.00      1.00      1.00      1538\n",
            "     MALIGNO       1.00      1.00      1.00      5966\n",
            "\n",
            "    accuracy                           1.00      7504\n",
            "   macro avg       1.00      1.00      1.00      7504\n",
            "weighted avg       1.00      1.00      1.00      7504\n",
            "\n",
            "Matríz de Confusión chebyshev con N_NEIGHBORS = 2\n"
          ]
        },
        {
          "output_type": "display_data",
          "data": {
            "image/png": "[encoded data removed]",
            "text/plain": [
              "<Figure size 432x288 with 2 Axes>"
            ]
          },
          "metadata": {
            "needs_background": "light"
          }
        },
        {
          "output_type": "stream",
          "name": "stdout",
          "text": [
            "success accuracy = 100.00 %\n",
            "fail accuracy = 0.00 %\n",
            "------------------------------------------------------------------------\n",
            "\n",
            " \n",
            "Classification Report\n",
            "\n",
            "              precision    recall  f1-score   support\n",
            "\n",
            "     BENIGNO       1.00      1.00      1.00      1521\n",
            "     MALIGNO       1.00      1.00      1.00      5983\n",
            "\n",
            "    accuracy                           1.00      7504\n",
            "   macro avg       1.00      1.00      1.00      7504\n",
            "weighted avg       1.00      1.00      1.00      7504\n",
            "\n",
            "Matríz de Confusión minkowski con N_NEIGHBORS = 3\n"
          ]
        },
        {
          "output_type": "display_data",
          "data": {
            "image/png": "[encoded data removed]",
            "text/plain": [
              "<Figure size 432x288 with 2 Axes>"
            ]
          },
          "metadata": {
            "needs_background": "light"
          }
        },
        {
          "output_type": "stream",
          "name": "stdout",
          "text": [
            "success accuracy = 100.00 %\n",
            "fail accuracy = 0.00 %\n",
            "------------------------------------------------------------------------\n",
            "\n",
            " \n",
            "Classification Report\n",
            "\n",
            "              precision    recall  f1-score   support\n",
            "\n",
            "     BENIGNO       1.00      1.00      1.00      1513\n",
            "     MALIGNO       1.00      1.00      1.00      5991\n",
            "\n",
            "    accuracy                           1.00      7504\n",
            "   macro avg       1.00      1.00      1.00      7504\n",
            "weighted avg       1.00      1.00      1.00      7504\n",
            "\n",
            "Matríz de Confusión euclidean con N_NEIGHBORS = 3\n"
          ]
        },
        {
          "output_type": "display_data",
          "data": {
            "image/png": "[encoded data removed]",
            "text/plain": [
              "<Figure size 432x288 with 2 Axes>"
            ]
          },
          "metadata": {
            "needs_background": "light"
          }
        },
        {
          "output_type": "stream",
          "name": "stdout",
          "text": [
            "success accuracy = 100.00 %\n",
            "fail accuracy = 0.00 %\n",
            "------------------------------------------------------------------------\n",
            "\n",
            " \n",
            "Classification Report\n",
            "\n",
            "              precision    recall  f1-score   support\n",
            "\n",
            "     BENIGNO       1.00      1.00      1.00      1490\n",
            "     MALIGNO       1.00      1.00      1.00      6014\n",
            "\n",
            "    accuracy                           1.00      7504\n",
            "   macro avg       1.00      1.00      1.00      7504\n",
            "weighted avg       1.00      1.00      1.00      7504\n",
            "\n",
            "Matríz de Confusión manhattan con N_NEIGHBORS = 3\n"
          ]
        },
        {
          "output_type": "display_data",
          "data": {
            "image/png": "[encoded data removed]",
            "text/plain": [
              "<Figure size 432x288 with 2 Axes>"
            ]
          },
          "metadata": {
            "needs_background": "light"
          }
        },
        {
          "output_type": "stream",
          "name": "stdout",
          "text": [
            "success accuracy = 100.00 %\n",
            "fail accuracy = 0.00 %\n",
            "------------------------------------------------------------------------\n",
            "\n",
            " \n",
            "Classification Report\n",
            "\n",
            "              precision    recall  f1-score   support\n",
            "\n",
            "     BENIGNO       1.00      1.00      1.00      1602\n",
            "     MALIGNO       1.00      1.00      1.00      5902\n",
            "\n",
            "    accuracy                           1.00      7504\n",
            "   macro avg       1.00      1.00      1.00      7504\n",
            "weighted avg       1.00      1.00      1.00      7504\n",
            "\n",
            "Matríz de Confusión chebyshev con N_NEIGHBORS = 3\n"
          ]
        },
        {
          "output_type": "display_data",
          "data": {
            "image/png": "[encoded data removed]",
            "text/plain": [
              "<Figure size 432x288 with 2 Axes>"
            ]
          },
          "metadata": {
            "needs_background": "light"
          }
        },
        {
          "output_type": "stream",
          "name": "stdout",
          "text": [
            "success accuracy = 100.00 %\n",
            "fail accuracy = 0.00 %\n",
            "------------------------------------------------------------------------\n",
            "\n",
            " \n",
            "Classification Report\n",
            "\n",
            "              precision    recall  f1-score   support\n",
            "\n",
            "     BENIGNO       1.00      1.00      1.00      1535\n",
            "     MALIGNO       1.00      1.00      1.00      5969\n",
            "\n",
            "    accuracy                           1.00      7504\n",
            "   macro avg       1.00      1.00      1.00      7504\n",
            "weighted avg       1.00      1.00      1.00      7504\n",
            "\n",
            "Matríz de Confusión minkowski con N_NEIGHBORS = 4\n"
          ]
        },
        {
          "output_type": "display_data",
          "data": {
            "image/png": "[encoded data removed]",
            "text/plain": [
              "<Figure size 432x288 with 2 Axes>"
            ]
          },
          "metadata": {
            "needs_background": "light"
          }
        },
        {
          "output_type": "stream",
          "name": "stdout",
          "text": [
            "success accuracy = 100.00 %\n",
            "fail accuracy = 0.00 %\n",
            "------------------------------------------------------------------------\n",
            "\n",
            " \n",
            "Classification Report\n",
            "\n",
            "              precision    recall  f1-score   support\n",
            "\n",
            "     BENIGNO       1.00      1.00      1.00      1512\n",
            "     MALIGNO       1.00      1.00      1.00      5992\n",
            "\n",
            "    accuracy                           1.00      7504\n",
            "   macro avg       1.00      1.00      1.00      7504\n",
            "weighted avg       1.00      1.00      1.00      7504\n",
            "\n",
            "Matríz de Confusión euclidean con N_NEIGHBORS = 4\n"
          ]
        },
        {
          "output_type": "display_data",
          "data": {
            "image/png": "[encoded data removed]",
            "text/plain": [
              "<Figure size 432x288 with 2 Axes>"
            ]
          },
          "metadata": {
            "needs_background": "light"
          }
        },
        {
          "output_type": "stream",
          "name": "stdout",
          "text": [
            "success accuracy = 100.00 %\n",
            "fail accuracy = 0.00 %\n",
            "------------------------------------------------------------------------\n",
            "\n",
            " \n",
            "Classification Report\n",
            "\n",
            "              precision    recall  f1-score   support\n",
            "\n",
            "     BENIGNO       1.00      1.00      1.00      1486\n",
            "     MALIGNO       1.00      1.00      1.00      6018\n",
            "\n",
            "    accuracy                           1.00      7504\n",
            "   macro avg       1.00      1.00      1.00      7504\n",
            "weighted avg       1.00      1.00      1.00      7504\n",
            "\n",
            "Matríz de Confusión manhattan con N_NEIGHBORS = 4\n"
          ]
        },
        {
          "output_type": "display_data",
          "data": {
            "image/png": "[encoded data removed]",
            "text/plain": [
              "<Figure size 432x288 with 2 Axes>"
            ]
          },
          "metadata": {
            "needs_background": "light"
          }
        },
        {
          "output_type": "stream",
          "name": "stdout",
          "text": [
            "success accuracy = 100.00 %\n",
            "fail accuracy = 0.00 %\n",
            "------------------------------------------------------------------------\n",
            "\n",
            " \n",
            "Classification Report\n",
            "\n",
            "              precision    recall  f1-score   support\n",
            "\n",
            "     BENIGNO       1.00      1.00      1.00      1416\n",
            "     MALIGNO       1.00      1.00      1.00      6088\n",
            "\n",
            "    accuracy                           1.00      7504\n",
            "   macro avg       1.00      1.00      1.00      7504\n",
            "weighted avg       1.00      1.00      1.00      7504\n",
            "\n",
            "Matríz de Confusión chebyshev con N_NEIGHBORS = 4\n"
          ]
        },
        {
          "output_type": "display_data",
          "data": {
            "image/png": "[encoded data removed]",
            "text/plain": [
              "<Figure size 432x288 with 2 Axes>"
            ]
          },
          "metadata": {
            "needs_background": "light"
          }
        },
        {
          "output_type": "stream",
          "name": "stdout",
          "text": [
            "success accuracy = 99.97 %\n",
            "fail accuracy = 0.03 %\n",
            "------------------------------------------------------------------------\n",
            "\n",
            " \n",
            "Classification Report\n",
            "\n",
            "              precision    recall  f1-score   support\n",
            "\n",
            "     BENIGNO       1.00      1.00      1.00      1522\n",
            "     MALIGNO       1.00      1.00      1.00      5982\n",
            "\n",
            "    accuracy                           1.00      7504\n",
            "   macro avg       1.00      1.00      1.00      7504\n",
            "weighted avg       1.00      1.00      1.00      7504\n",
            "\n",
            "Matríz de Confusión minkowski con N_NEIGHBORS = 5\n"
          ]
        },
        {
          "output_type": "display_data",
          "data": {
            "image/png": "[encoded data removed]",
            "text/plain": [
              "<Figure size 432x288 with 2 Axes>"
            ]
          },
          "metadata": {
            "needs_background": "light"
          }
        },
        {
          "output_type": "stream",
          "name": "stdout",
          "text": [
            "success accuracy = 100.00 %\n",
            "fail accuracy = 0.00 %\n",
            "------------------------------------------------------------------------\n",
            "\n",
            " \n",
            "Classification Report\n",
            "\n",
            "              precision    recall  f1-score   support\n",
            "\n",
            "     BENIGNO       1.00      1.00      1.00      1524\n",
            "     MALIGNO       1.00      1.00      1.00      5980\n",
            "\n",
            "    accuracy                           1.00      7504\n",
            "   macro avg       1.00      1.00      1.00      7504\n",
            "weighted avg       1.00      1.00      1.00      7504\n",
            "\n",
            "Matríz de Confusión euclidean con N_NEIGHBORS = 5\n"
          ]
        },
        {
          "output_type": "display_data",
          "data": {
            "image/png": "[encoded data removed]",
            "text/plain": [
              "<Figure size 432x288 with 2 Axes>"
            ]
          },
          "metadata": {
            "needs_background": "light"
          }
        },
        {
          "output_type": "stream",
          "name": "stdout",
          "text": [
            "success accuracy = 100.00 %\n",
            "fail accuracy = 0.00 %\n",
            "------------------------------------------------------------------------\n",
            "\n",
            " \n",
            "Classification Report\n",
            "\n",
            "              precision    recall  f1-score   support\n",
            "\n",
            "     BENIGNO       1.00      1.00      1.00      1511\n",
            "     MALIGNO       1.00      1.00      1.00      5993\n",
            "\n",
            "    accuracy                           1.00      7504\n",
            "   macro avg       1.00      1.00      1.00      7504\n",
            "weighted avg       1.00      1.00      1.00      7504\n",
            "\n",
            "Matríz de Confusión manhattan con N_NEIGHBORS = 5\n"
          ]
        },
        {
          "output_type": "display_data",
          "data": {
            "image/png": "[encoded data removed]",
            "text/plain": [
              "<Figure size 432x288 with 2 Axes>"
            ]
          },
          "metadata": {
            "needs_background": "light"
          }
        },
        {
          "output_type": "stream",
          "name": "stdout",
          "text": [
            "success accuracy = 99.97 %\n",
            "fail accuracy = 0.03 %\n",
            "------------------------------------------------------------------------\n",
            "\n",
            " \n",
            "Classification Report\n",
            "\n",
            "              precision    recall  f1-score   support\n",
            "\n",
            "     BENIGNO       1.00      1.00      1.00      1496\n",
            "     MALIGNO       1.00      1.00      1.00      6008\n",
            "\n",
            "    accuracy                           1.00      7504\n",
            "   macro avg       1.00      1.00      1.00      7504\n",
            "weighted avg       1.00      1.00      1.00      7504\n",
            "\n",
            "Matríz de Confusión chebyshev con N_NEIGHBORS = 5\n"
          ]
        },
        {
          "output_type": "display_data",
          "data": {
            "image/png": "[encoded data removed]",
            "text/plain": [
              "<Figure size 432x288 with 2 Axes>"
            ]
          },
          "metadata": {
            "needs_background": "light"
          }
        },
        {
          "output_type": "stream",
          "name": "stdout",
          "text": [
            "success accuracy = 99.97 %\n",
            "fail accuracy = 0.03 %\n",
            "------------------------------------------------------------------------\n",
            "\n",
            " \n",
            "Classification Report\n",
            "\n",
            "              precision    recall  f1-score   support\n",
            "\n",
            "     BENIGNO       1.00      1.00      1.00      1501\n",
            "     MALIGNO       1.00      1.00      1.00      6003\n",
            "\n",
            "    accuracy                           1.00      7504\n",
            "   macro avg       1.00      1.00      1.00      7504\n",
            "weighted avg       1.00      1.00      1.00      7504\n",
            "\n",
            "Matríz de Confusión minkowski con N_NEIGHBORS = 6\n"
          ]
        },
        {
          "output_type": "display_data",
          "data": {
            "image/png": "[encoded data removed]",
            "text/plain": [
              "<Figure size 432x288 with 2 Axes>"
            ]
          },
          "metadata": {
            "needs_background": "light"
          }
        },
        {
          "output_type": "stream",
          "name": "stdout",
          "text": [
            "success accuracy = 99.95 %\n",
            "fail accuracy = 0.05 %\n",
            "------------------------------------------------------------------------\n",
            "\n",
            " \n",
            "Classification Report\n",
            "\n",
            "              precision    recall  f1-score   support\n",
            "\n",
            "     BENIGNO       1.00      1.00      1.00      1511\n",
            "     MALIGNO       1.00      1.00      1.00      5993\n",
            "\n",
            "    accuracy                           1.00      7504\n",
            "   macro avg       1.00      1.00      1.00      7504\n",
            "weighted avg       1.00      1.00      1.00      7504\n",
            "\n",
            "Matríz de Confusión euclidean con N_NEIGHBORS = 6\n"
          ]
        },
        {
          "output_type": "display_data",
          "data": {
            "image/png": "[encoded data removed]",
            "text/plain": [
              "<Figure size 432x288 with 2 Axes>"
            ]
          },
          "metadata": {
            "needs_background": "light"
          }
        },
        {
          "output_type": "stream",
          "name": "stdout",
          "text": [
            "success accuracy = 99.97 %\n",
            "fail accuracy = 0.03 %\n",
            "------------------------------------------------------------------------\n",
            "\n",
            " \n",
            "Classification Report\n",
            "\n",
            "              precision    recall  f1-score   support\n",
            "\n",
            "     BENIGNO       1.00      1.00      1.00      1467\n",
            "     MALIGNO       1.00      1.00      1.00      6037\n",
            "\n",
            "    accuracy                           1.00      7504\n",
            "   macro avg       1.00      1.00      1.00      7504\n",
            "weighted avg       1.00      1.00      1.00      7504\n",
            "\n",
            "Matríz de Confusión manhattan con N_NEIGHBORS = 6\n"
          ]
        },
        {
          "output_type": "display_data",
          "data": {
            "image/png": "[encoded data removed]",
            "text/plain": [
              "<Figure size 432x288 with 2 Axes>"
            ]
          },
          "metadata": {
            "needs_background": "light"
          }
        },
        {
          "output_type": "stream",
          "name": "stdout",
          "text": [
            "success accuracy = 99.99 %\n",
            "fail accuracy = 0.01 %\n",
            "------------------------------------------------------------------------\n",
            "\n",
            " \n",
            "Classification Report\n",
            "\n",
            "              precision    recall  f1-score   support\n",
            "\n",
            "     BENIGNO       1.00      1.00      1.00      1436\n",
            "     MALIGNO       1.00      1.00      1.00      6068\n",
            "\n",
            "    accuracy                           1.00      7504\n",
            "   macro avg       1.00      1.00      1.00      7504\n",
            "weighted avg       1.00      1.00      1.00      7504\n",
            "\n",
            "Matríz de Confusión chebyshev con N_NEIGHBORS = 6\n"
          ]
        },
        {
          "output_type": "display_data",
          "data": {
            "image/png": "[encoded data removed]",
            "text/plain": [
              "<Figure size 432x288 with 2 Axes>"
            ]
          },
          "metadata": {
            "needs_background": "light"
          }
        },
        {
          "output_type": "stream",
          "name": "stdout",
          "text": [
            "success accuracy = 99.99 %\n",
            "fail accuracy = 0.01 %\n",
            "------------------------------------------------------------------------\n",
            "\n",
            " \n",
            "Classification Report\n",
            "\n",
            "              precision    recall  f1-score   support\n",
            "\n",
            "     BENIGNO       1.00      1.00      1.00      1477\n",
            "     MALIGNO       1.00      1.00      1.00      6027\n",
            "\n",
            "    accuracy                           1.00      7504\n",
            "   macro avg       1.00      1.00      1.00      7504\n",
            "weighted avg       1.00      1.00      1.00      7504\n",
            "\n",
            "Matríz de Confusión minkowski con N_NEIGHBORS = 7\n"
          ]
        },
        {
          "output_type": "display_data",
          "data": {
            "image/png": "[encoded data removed]",
            "text/plain": [
              "<Figure size 432x288 with 2 Axes>"
            ]
          },
          "metadata": {
            "needs_background": "light"
          }
        },
        {
          "output_type": "stream",
          "name": "stdout",
          "text": [
            "success accuracy = 99.95 %\n",
            "fail accuracy = 0.05 %\n",
            "------------------------------------------------------------------------\n",
            "\n",
            " \n",
            "Classification Report\n",
            "\n",
            "              precision    recall  f1-score   support\n",
            "\n",
            "     BENIGNO       1.00      1.00      1.00      1448\n",
            "     MALIGNO       1.00      1.00      1.00      6056\n",
            "\n",
            "    accuracy                           1.00      7504\n",
            "   macro avg       1.00      1.00      1.00      7504\n",
            "weighted avg       1.00      1.00      1.00      7504\n",
            "\n",
            "Matríz de Confusión euclidean con N_NEIGHBORS = 7\n"
          ]
        },
        {
          "output_type": "display_data",
          "data": {
            "image/png": "[encoded data removed]",
            "text/plain": [
              "<Figure size 432x288 with 2 Axes>"
            ]
          },
          "metadata": {
            "needs_background": "light"
          }
        },
        {
          "output_type": "stream",
          "name": "stdout",
          "text": [
            "success accuracy = 99.99 %\n",
            "fail accuracy = 0.01 %\n",
            "------------------------------------------------------------------------\n",
            "\n",
            " \n",
            "Classification Report\n",
            "\n",
            "              precision    recall  f1-score   support\n",
            "\n",
            "     BENIGNO       1.00      1.00      1.00      1461\n",
            "     MALIGNO       1.00      1.00      1.00      6043\n",
            "\n",
            "    accuracy                           1.00      7504\n",
            "   macro avg       1.00      1.00      1.00      7504\n",
            "weighted avg       1.00      1.00      1.00      7504\n",
            "\n",
            "Matríz de Confusión manhattan con N_NEIGHBORS = 7\n"
          ]
        },
        {
          "output_type": "display_data",
          "data": {
            "image/png": "[encoded data removed]",
            "text/plain": [
              "<Figure size 432x288 with 2 Axes>"
            ]
          },
          "metadata": {
            "needs_background": "light"
          }
        },
        {
          "output_type": "stream",
          "name": "stdout",
          "text": [
            "success accuracy = 99.92 %\n",
            "fail accuracy = 0.08 %\n",
            "------------------------------------------------------------------------\n",
            "\n",
            " \n",
            "Classification Report\n",
            "\n",
            "              precision    recall  f1-score   support\n",
            "\n",
            "     BENIGNO       1.00      1.00      1.00      1541\n",
            "     MALIGNO       1.00      1.00      1.00      5963\n",
            "\n",
            "    accuracy                           1.00      7504\n",
            "   macro avg       1.00      1.00      1.00      7504\n",
            "weighted avg       1.00      1.00      1.00      7504\n",
            "\n",
            "Matríz de Confusión chebyshev con N_NEIGHBORS = 7\n"
          ]
        },
        {
          "output_type": "display_data",
          "data": {
            "image/png": "[encoded data removed]",
            "text/plain": [
              "<Figure size 432x288 with 2 Axes>"
            ]
          },
          "metadata": {
            "needs_background": "light"
          }
        },
        {
          "output_type": "stream",
          "name": "stdout",
          "text": [
            "success accuracy = 99.99 %\n",
            "fail accuracy = 0.01 %\n",
            "------------------------------------------------------------------------\n",
            "\n",
            " \n",
            "Classification Report\n",
            "\n",
            "              precision    recall  f1-score   support\n",
            "\n",
            "     BENIGNO       1.00      1.00      1.00      1495\n",
            "     MALIGNO       1.00      1.00      1.00      6009\n",
            "\n",
            "    accuracy                           1.00      7504\n",
            "   macro avg       1.00      1.00      1.00      7504\n",
            "weighted avg       1.00      1.00      1.00      7504\n",
            "\n"
          ]
        }
      ]
    },
    {
      "cell_type": "code",
      "metadata": {
        "id": "mOaP--LddwvV"
      },
      "source": [
        "k_range = range(1, 20)\n",
        "scores = []\n",
        "for k in k_range:\n",
        "    knn = KNeighborsClassifier(n_neighbors = k)\n",
        "    knn.fit(X_flow, y_flow)\n",
        "    scores.append(knn.score(X_flow_test, y_flow_test))"
      ],
      "execution_count": 8,
      "outputs": []
    },
    {
      "cell_type": "code",
      "metadata": {
        "id": "3Au3LK4Pd-8l",
        "colab": {
          "base_uri": "https://localhost:8080/",
          "height": 350
        },
        "outputId": "d346f74b-d0b9-41ee-bfd0-d4b7d1416944"
      },
      "source": [
        "plt.figure()\n",
        "plt.xlabel('k')\n",
        "plt.ylabel('accuracy')\n",
        "plt.scatter(k_range, scores)\n",
        "plt.grid(linewidth=0.3,color='black')\n",
        "plt.set_cmap('gray')\n",
        "ax = plt.axes()\n",
        "ax.set_facecolor(\"#F1EAEA\")\n",
        "plt.xticks([0,5,10,15,20])\n",
        "plt.margins(y=0.15)\n",
        "plt.title(\"Accuracy Respecto al Número de Vecinos\")\n",
        "plt.show()"
      ],
      "execution_count": 9,
      "outputs": [
        {
          "output_type": "stream",
          "name": "stderr",
          "text": [
            "/usr/local/lib/python3.7/dist-packages/ipykernel_launcher.py:7: MatplotlibDeprecationWarning: Adding an axes using the same arguments as a previous axes currently reuses the earlier instance.  In a future version, a new instance will always be created and returned.  Meanwhile, this warning can be suppressed, and the future behavior ensured, by passing a unique label to each axes instance.\n",
            "  import sys\n"
          ]
        },
        {
          "output_type": "display_data",
          "data": {
            "image/png": "[encoded data removed]",
            "text/plain": [
              "<Figure size 432x288 with 1 Axes>"
            ]
          },
          "metadata": {
            "needs_background": "light"
          }
        }
      ]
    },
    {
      "cell_type": "code",
      "metadata": {
        "id": "lRWALOV9cpF_"
      },
      "source": [
        "from sklearn.ensemble import RandomForestClassifier\n",
        "import seaborn as sns"
      ],
      "execution_count": 10,
      "outputs": []
    },
    {
      "cell_type": "code",
      "metadata": {
        "id": "QpDfVHA4cfuw"
      },
      "source": [
        "criterions = ['entropy','gini']\n",
        "n_estimators = [10,20,30,40,50,80,100]\n",
        "scores= []"
      ],
      "execution_count": 11,
      "outputs": []
    },
    {
      "cell_type": "code",
      "metadata": {
        "id": "GMkV7MjzcbYP",
        "colab": {
          "base_uri": "https://localhost:8080/",
          "height": 1000
        },
        "outputId": "f561771c-12c5-4641-8a75-7eb219a52567"
      },
      "source": [
        "criterions = ['entropy','gini']\n",
        "n_estimators = [10,20,30,40,50,80,100]\n",
        "for criterion in criterions:\n",
        "  for estim in n_estimators:\n",
        "    X_flow_train, X_flow_test, y_flow_train, y_flow_test = train_test_split(X_flow, y_flow,\n",
        "                                                                            test_size=0.2)\n",
        "    classifier = RandomForestClassifier(n_estimators=estim, criterion=criterion)\n",
        "    flow_model = classifier.fit(X_flow_train, y_flow_train)\n",
        "    y_flow_pred = flow_model.predict(X_flow_test)\n",
        "    print(f\"Matríz de Confusión {criterion} y n_estimators = {estim}\")\n",
        "    cm = confusion_matrix(y_flow_test, y_flow_pred)\n",
        "\n",
        "    sns.heatmap(cm, annot=True, \n",
        "              cmap='Blues', fmt='d')\n",
        "    plt.show()\n",
        "\n",
        "    acc = accuracy_score(y_flow_test, y_flow_pred)\n",
        "\n",
        "    print(\"success accuracy = {0:.2f} %\".format(acc*100))\n",
        "    fail = 1.0 - acc\n",
        "    print(\"fail accuracy = {0:.2f} %\".format(fail*100))\n",
        "    print(\"------------------------------------------------------------------------------\")\n",
        "    print(\" \")\n",
        "    print('Classification Report')\n",
        "    target_names = list(['BENIGNO','MALIGNO'])\n",
        "    print('')\n",
        "    print(classification_report(y_flow_test, y_flow_pred, target_names=target_names))"
      ],
      "execution_count": 12,
      "outputs": [
        {
          "output_type": "stream",
          "name": "stdout",
          "text": [
            "Matríz de Confusión entropy y n_estimators = 10\n"
          ]
        },
        {
          "output_type": "display_data",
          "data": {
            "image/png": "[encoded data removed]",
            "text/plain": [
              "<Figure size 432x288 with 2 Axes>"
            ]
          },
          "metadata": {
            "needs_background": "light"
          }
        },
        {
          "output_type": "stream",
          "name": "stdout",
          "text": [
            "success accuracy = 99.99 %\n",
            "fail accuracy = 0.01 %\n",
            "------------------------------------------------------------------------------\n",
            " \n",
            "Classification Report\n",
            "\n",
            "              precision    recall  f1-score   support\n",
            "\n",
            "     BENIGNO       1.00      1.00      1.00      1505\n",
            "     MALIGNO       1.00      1.00      1.00      5999\n",
            "\n",
            "    accuracy                           1.00      7504\n",
            "   macro avg       1.00      1.00      1.00      7504\n",
            "weighted avg       1.00      1.00      1.00      7504\n",
            "\n",
            "Matríz de Confusión entropy y n_estimators = 20\n"
          ]
        },
        {
          "output_type": "display_data",
          "data": {
            "image/png": "[encoded data removed]",
            "text/plain": [
              "<Figure size 432x288 with 2 Axes>"
            ]
          },
          "metadata": {
            "needs_background": "light"
          }
        },
        {
          "output_type": "stream",
          "name": "stdout",
          "text": [
            "success accuracy = 99.97 %\n",
            "fail accuracy = 0.03 %\n",
            "------------------------------------------------------------------------------\n",
            " \n",
            "Classification Report\n",
            "\n",
            "              precision    recall  f1-score   support\n",
            "\n",
            "     BENIGNO       1.00      1.00      1.00      1489\n",
            "     MALIGNO       1.00      1.00      1.00      6015\n",
            "\n",
            "    accuracy                           1.00      7504\n",
            "   macro avg       1.00      1.00      1.00      7504\n",
            "weighted avg       1.00      1.00      1.00      7504\n",
            "\n",
            "Matríz de Confusión entropy y n_estimators = 30\n"
          ]
        },
        {
          "output_type": "display_data",
          "data": {
            "image/png": "[encoded data removed]",
            "text/plain": [
              "<Figure size 432x288 with 2 Axes>"
            ]
          },
          "metadata": {
            "needs_background": "light"
          }
        },
        {
          "output_type": "stream",
          "name": "stdout",
          "text": [
            "success accuracy = 99.99 %\n",
            "fail accuracy = 0.01 %\n",
            "------------------------------------------------------------------------------\n",
            " \n",
            "Classification Report\n",
            "\n",
            "              precision    recall  f1-score   support\n",
            "\n",
            "     BENIGNO       1.00      1.00      1.00      1525\n",
            "     MALIGNO       1.00      1.00      1.00      5979\n",
            "\n",
            "    accuracy                           1.00      7504\n",
            "   macro avg       1.00      1.00      1.00      7504\n",
            "weighted avg       1.00      1.00      1.00      7504\n",
            "\n",
            "Matríz de Confusión entropy y n_estimators = 40\n"
          ]
        },
        {
          "output_type": "display_data",
          "data": {
            "image/png": "[encoded data removed]",
            "text/plain": [
              "<Figure size 432x288 with 2 Axes>"
            ]
          },
          "metadata": {
            "needs_background": "light"
          }
        },
        {
          "output_type": "stream",
          "name": "stdout",
          "text": [
            "success accuracy = 100.00 %\n",
            "fail accuracy = 0.00 %\n",
            "------------------------------------------------------------------------------\n",
            " \n",
            "Classification Report\n",
            "\n",
            "              precision    recall  f1-score   support\n",
            "\n",
            "     BENIGNO       1.00      1.00      1.00      1496\n",
            "     MALIGNO       1.00      1.00      1.00      6008\n",
            "\n",
            "    accuracy                           1.00      7504\n",
            "   macro avg       1.00      1.00      1.00      7504\n",
            "weighted avg       1.00      1.00      1.00      7504\n",
            "\n",
            "Matríz de Confusión entropy y n_estimators = 50\n"
          ]
        },
        {
          "output_type": "display_data",
          "data": {
            "image/png": "[encoded data removed]",
            "text/plain": [
              "<Figure size 432x288 with 2 Axes>"
            ]
          },
          "metadata": {
            "needs_background": "light"
          }
        },
        {
          "output_type": "stream",
          "name": "stdout",
          "text": [
            "success accuracy = 100.00 %\n",
            "fail accuracy = 0.00 %\n",
            "------------------------------------------------------------------------------\n",
            " \n",
            "Classification Report\n",
            "\n",
            "              precision    recall  f1-score   support\n",
            "\n",
            "     BENIGNO       1.00      1.00      1.00      1518\n",
            "     MALIGNO       1.00      1.00      1.00      5986\n",
            "\n",
            "    accuracy                           1.00      7504\n",
            "   macro avg       1.00      1.00      1.00      7504\n",
            "weighted avg       1.00      1.00      1.00      7504\n",
            "\n",
            "Matríz de Confusión entropy y n_estimators = 80\n"
          ]
        },
        {
          "output_type": "display_data",
          "data": {
            "image/png": "[encoded data removed]",
            "text/plain": [
              "<Figure size 432x288 with 2 Axes>"
            ]
          },
          "metadata": {
            "needs_background": "light"
          }
        },
        {
          "output_type": "stream",
          "name": "stdout",
          "text": [
            "success accuracy = 99.96 %\n",
            "fail accuracy = 0.04 %\n",
            "------------------------------------------------------------------------------\n",
            " \n",
            "Classification Report\n",
            "\n",
            "              precision    recall  f1-score   support\n",
            "\n",
            "     BENIGNO       1.00      1.00      1.00      1494\n",
            "     MALIGNO       1.00      1.00      1.00      6010\n",
            "\n",
            "    accuracy                           1.00      7504\n",
            "   macro avg       1.00      1.00      1.00      7504\n",
            "weighted avg       1.00      1.00      1.00      7504\n",
            "\n",
            "Matríz de Confusión entropy y n_estimators = 100\n"
          ]
        },
        {
          "output_type": "display_data",
          "data": {
            "image/png": "[encoded data removed]",
            "text/plain": [
              "<Figure size 432x288 with 2 Axes>"
            ]
          },
          "metadata": {
            "needs_background": "light"
          }
        },
        {
          "output_type": "stream",
          "name": "stdout",
          "text": [
            "success accuracy = 99.97 %\n",
            "fail accuracy = 0.03 %\n",
            "------------------------------------------------------------------------------\n",
            " \n",
            "Classification Report\n",
            "\n",
            "              precision    recall  f1-score   support\n",
            "\n",
            "     BENIGNO       1.00      1.00      1.00      1478\n",
            "     MALIGNO       1.00      1.00      1.00      6026\n",
            "\n",
            "    accuracy                           1.00      7504\n",
            "   macro avg       1.00      1.00      1.00      7504\n",
            "weighted avg       1.00      1.00      1.00      7504\n",
            "\n",
            "Matríz de Confusión gini y n_estimators = 10\n"
          ]
        },
        {
          "output_type": "display_data",
          "data": {
            "image/png": "[encoded data removed]",
            "text/plain": [
              "<Figure size 432x288 with 2 Axes>"
            ]
          },
          "metadata": {
            "needs_background": "light"
          }
        },
        {
          "output_type": "stream",
          "name": "stdout",
          "text": [
            "success accuracy = 99.99 %\n",
            "fail accuracy = 0.01 %\n",
            "------------------------------------------------------------------------------\n",
            " \n",
            "Classification Report\n",
            "\n",
            "              precision    recall  f1-score   support\n",
            "\n",
            "     BENIGNO       1.00      1.00      1.00      1497\n",
            "     MALIGNO       1.00      1.00      1.00      6007\n",
            "\n",
            "    accuracy                           1.00      7504\n",
            "   macro avg       1.00      1.00      1.00      7504\n",
            "weighted avg       1.00      1.00      1.00      7504\n",
            "\n",
            "Matríz de Confusión gini y n_estimators = 20\n"
          ]
        },
        {
          "output_type": "display_data",
          "data": {
            "image/png": "[encoded data removed]",
            "text/plain": [
              "<Figure size 432x288 with 2 Axes>"
            ]
          },
          "metadata": {
            "needs_background": "light"
          }
        },
        {
          "output_type": "stream",
          "name": "stdout",
          "text": [
            "success accuracy = 100.00 %\n",
            "fail accuracy = 0.00 %\n",
            "------------------------------------------------------------------------------\n",
            " \n",
            "Classification Report\n",
            "\n",
            "              precision    recall  f1-score   support\n",
            "\n",
            "     BENIGNO       1.00      1.00      1.00      1487\n",
            "     MALIGNO       1.00      1.00      1.00      6017\n",
            "\n",
            "    accuracy                           1.00      7504\n",
            "   macro avg       1.00      1.00      1.00      7504\n",
            "weighted avg       1.00      1.00      1.00      7504\n",
            "\n",
            "Matríz de Confusión gini y n_estimators = 30\n"
          ]
        },
        {
          "output_type": "display_data",
          "data": {
            "image/png": "[encoded data removed]",
            "text/plain": [
              "<Figure size 432x288 with 2 Axes>"
            ]
          },
          "metadata": {
            "needs_background": "light"
          }
        },
        {
          "output_type": "stream",
          "name": "stdout",
          "text": [
            "success accuracy = 99.99 %\n",
            "fail accuracy = 0.01 %\n",
            "------------------------------------------------------------------------------\n",
            " \n",
            "Classification Report\n",
            "\n",
            "              precision    recall  f1-score   support\n",
            "\n",
            "     BENIGNO       1.00      1.00      1.00      1512\n",
            "     MALIGNO       1.00      1.00      1.00      5992\n",
            "\n",
            "    accuracy                           1.00      7504\n",
            "   macro avg       1.00      1.00      1.00      7504\n",
            "weighted avg       1.00      1.00      1.00      7504\n",
            "\n",
            "Matríz de Confusión gini y n_estimators = 40\n"
          ]
        },
        {
          "output_type": "display_data",
          "data": {
            "image/png": "[encoded data removed]",
            "text/plain": [
              "<Figure size 432x288 with 2 Axes>"
            ]
          },
          "metadata": {
            "needs_background": "light"
          }
        },
        {
          "output_type": "stream",
          "name": "stdout",
          "text": [
            "success accuracy = 100.00 %\n",
            "fail accuracy = 0.00 %\n",
            "------------------------------------------------------------------------------\n",
            " \n",
            "Classification Report\n",
            "\n",
            "              precision    recall  f1-score   support\n",
            "\n",
            "     BENIGNO       1.00      1.00      1.00      1541\n",
            "     MALIGNO       1.00      1.00      1.00      5963\n",
            "\n",
            "    accuracy                           1.00      7504\n",
            "   macro avg       1.00      1.00      1.00      7504\n",
            "weighted avg       1.00      1.00      1.00      7504\n",
            "\n",
            "Matríz de Confusión gini y n_estimators = 50\n"
          ]
        },
        {
          "output_type": "display_data",
          "data": {
            "image/png": "[encoded data removed]",
            "text/plain": [
              "<Figure size 432x288 with 2 Axes>"
            ]
          },
          "metadata": {
            "needs_background": "light"
          }
        },
        {
          "output_type": "stream",
          "name": "stdout",
          "text": [
            "success accuracy = 100.00 %\n",
            "fail accuracy = 0.00 %\n",
            "------------------------------------------------------------------------------\n",
            " \n",
            "Classification Report\n",
            "\n",
            "              precision    recall  f1-score   support\n",
            "\n",
            "     BENIGNO       1.00      1.00      1.00      1463\n",
            "     MALIGNO       1.00      1.00      1.00      6041\n",
            "\n",
            "    accuracy                           1.00      7504\n",
            "   macro avg       1.00      1.00      1.00      7504\n",
            "weighted avg       1.00      1.00      1.00      7504\n",
            "\n",
            "Matríz de Confusión gini y n_estimators = 80\n"
          ]
        },
        {
          "output_type": "display_data",
          "data": {
            "image/png": "[encoded data removed]",
            "text/plain": [
              "<Figure size 432x288 with 2 Axes>"
            ]
          },
          "metadata": {
            "needs_background": "light"
          }
        },
        {
          "output_type": "stream",
          "name": "stdout",
          "text": [
            "success accuracy = 100.00 %\n",
            "fail accuracy = 0.00 %\n",
            "------------------------------------------------------------------------------\n",
            " \n",
            "Classification Report\n",
            "\n",
            "              precision    recall  f1-score   support\n",
            "\n",
            "     BENIGNO       1.00      1.00      1.00      1495\n",
            "     MALIGNO       1.00      1.00      1.00      6009\n",
            "\n",
            "    accuracy                           1.00      7504\n",
            "   macro avg       1.00      1.00      1.00      7504\n",
            "weighted avg       1.00      1.00      1.00      7504\n",
            "\n",
            "Matríz de Confusión gini y n_estimators = 100\n"
          ]
        },
        {
          "output_type": "display_data",
          "data": {
            "image/png": "[encoded data removed]",
            "text/plain": [
              "<Figure size 432x288 with 2 Axes>"
            ]
          },
          "metadata": {
            "needs_background": "light"
          }
        },
        {
          "output_type": "stream",
          "name": "stdout",
          "text": [
            "success accuracy = 99.99 %\n",
            "fail accuracy = 0.01 %\n",
            "------------------------------------------------------------------------------\n",
            " \n",
            "Classification Report\n",
            "\n",
            "              precision    recall  f1-score   support\n",
            "\n",
            "     BENIGNO       1.00      1.00      1.00      1462\n",
            "     MALIGNO       1.00      1.00      1.00      6042\n",
            "\n",
            "    accuracy                           1.00      7504\n",
            "   macro avg       1.00      1.00      1.00      7504\n",
            "weighted avg       1.00      1.00      1.00      7504\n",
            "\n"
          ]
        }
      ]
    },
    {
      "cell_type": "code",
      "metadata": {
        "id": "br9k66qSb8Bw"
      },
      "source": [
        "from sklearn import svm\n",
        "from sklearn.pipeline import make_pipeline\n",
        "from sklearn.preprocessing import StandardScaler"
      ],
      "execution_count": 13,
      "outputs": []
    },
    {
      "cell_type": "code",
      "metadata": {
        "id": "iZmAmfMQb18Y",
        "colab": {
          "base_uri": "https://localhost:8080/",
          "height": 300
        },
        "outputId": "78224f5b-53d4-44bb-d4c8-0130767fee3f"
      },
      "source": [
        "X_flow = dataset.iloc[:, :-1].values\n",
        "X_flow = X_flow.astype('float32')\n",
        "\n",
        "y_flow = dataset.iloc[:, -1].values\n",
        "\n",
        "X_flow_train, X_flow_test, y_flow_train, y_flow_test = train_test_split(X_flow, y_flow, test_size=0.25)\n",
        "\n",
        "clf = make_pipeline(StandardScaler(), svm.SVC(gamma='auto'))\n",
        "flow_model = clf.fit(X_flow_train, y_flow_train)\n",
        "y_flow_pred = flow_model.predict(X_flow_test)\n",
        "\n",
        "cm = confusion_matrix(y_flow_test, y_flow_pred)\n",
        "\n",
        "sns.heatmap(cm, annot=True, \n",
        "          cmap='Blues', fmt='d')\n",
        "plt.show()\n",
        "acc = accuracy_score(y_flow_test, y_flow_pred)\n",
        "\n",
        "print(\"success accuracy = {0:.2f} %\".format(acc*100))\n",
        "fail = 1.0 - acc\n",
        "print(\"fail accuracy = {0:.2f} %\".format(fail*100))"
      ],
      "execution_count": 14,
      "outputs": [
        {
          "output_type": "display_data",
          "data": {
            "image/png": "[encoded data removed]",
            "text/plain": [
              "<Figure size 432x288 with 2 Axes>"
            ]
          },
          "metadata": {
            "needs_background": "light"
          }
        },
        {
          "output_type": "stream",
          "name": "stdout",
          "text": [
            "success accuracy = 99.47 %\n",
            "fail accuracy = 0.53 %\n"
          ]
        }
      ]
    },
    {
      "cell_type": "code",
      "metadata": {
        "id": "S_LdKdwpbwZY",
        "colab": {
          "base_uri": "https://localhost:8080/"
        },
        "outputId": "f8d0e131-c4fc-48d6-dfad-7804d7716aa0"
      },
      "source": [
        " print(\" \")\n",
        "print('Classification Report')\n",
        "target_names = list(['BENIGNO','MALIGNO'])\n",
        "print('')\n",
        "print(classification_report(y_flow_test, y_flow_pred, target_names=target_names))"
      ],
      "execution_count": 15,
      "outputs": [
        {
          "output_type": "stream",
          "name": "stdout",
          "text": [
            " \n",
            "Classification Report\n",
            "\n",
            "              precision    recall  f1-score   support\n",
            "\n",
            "     BENIGNO       1.00      0.97      0.99      1878\n",
            "     MALIGNO       0.99      1.00      1.00      7502\n",
            "\n",
            "    accuracy                           0.99      9380\n",
            "   macro avg       1.00      0.99      0.99      9380\n",
            "weighted avg       0.99      0.99      0.99      9380\n",
            "\n"
          ]
        }
      ]
    },
    {
      "cell_type": "markdown",
      "metadata": {
        "id": "B27BL84PZgpk"
      },
      "source": [
        "#ANN"
      ]
    },
    {
      "cell_type": "code",
      "metadata": {
        "id": "A1GCvXSSdgBG"
      },
      "source": [
        "from sklearn.neural_network import MLPClassifier"
      ],
      "execution_count": 16,
      "outputs": []
    },
    {
      "cell_type": "code",
      "metadata": {
        "id": "0dGKlr_RcWZ-",
        "colab": {
          "base_uri": "https://localhost:8080/"
        },
        "outputId": "fcb81b00-0073-4ebc-a5b3-ba98ac60018a"
      },
      "source": [
        "clf = MLPClassifier(solver='lbfgs',max_iter=100, alpha=1e-5, batch_size=100,\n",
        "                    hidden_layer_sizes=(32,16,2), random_state=1,verbose=True)\n",
        "clf.fit(X_flow_train, y_flow_train)\n",
        "y_flow_pred = clf.predict(X_flow_test)"
      ],
      "execution_count": 17,
      "outputs": [
        {
          "output_type": "stream",
          "name": "stderr",
          "text": [
            "/usr/local/lib/python3.7/dist-packages/sklearn/neural_network/_multilayer_perceptron.py:549: ConvergenceWarning: lbfgs failed to converge (status=2):\n",
            "ABNORMAL_TERMINATION_IN_LNSRCH.\n",
            "\n",
            "Increase the number of iterations (max_iter) or scale the data as shown in:\n",
            "    https://scikit-learn.org/stable/modules/preprocessing.html\n",
            "  self.n_iter_ = _check_optimize_result(\"lbfgs\", opt_res, self.max_iter)\n"
          ]
        }
      ]
    },
    {
      "cell_type": "code",
      "metadata": {
        "colab": {
          "base_uri": "https://localhost:8080/",
          "height": 524
        },
        "id": "xz4Q7MG4ZwXC",
        "outputId": "a028bcd5-7307-425a-8976-d43caf110030"
      },
      "source": [
        "cm = confusion_matrix(y_flow_test, y_flow_pred)\n",
        "\n",
        "sns.heatmap(cm, annot=True, \n",
        "        cmap='Blues', fmt='d')\n",
        "plt.title('Matríz de confusión ANN')\n",
        "plt.show()\n",
        "\n",
        "acc = accuracy_score(y_flow_test, y_flow_pred)\n",
        "\n",
        "print(\"success accuracy = {0:.2f} %\".format(acc*100))\n",
        "fail = 1.0 - acc\n",
        "print(\"fail accuracy = {0:.2f} %\".format(fail*100))\n",
        "\n",
        "print(\" \")\n",
        "print('Classification Report')\n",
        "target_names = list(['BENIGNO','MALIGNO'])\n",
        "print('')\n",
        "print(classification_report(y_flow_test, y_flow_pred, target_names=target_names))"
      ],
      "execution_count": 18,
      "outputs": [
        {
          "output_type": "display_data",
          "data": {
            "image/png": "[encoded data removed]",
            "text/plain": [
              "<Figure size 432x288 with 2 Axes>"
            ]
          },
          "metadata": {
            "needs_background": "light"
          }
        },
        {
          "output_type": "stream",
          "name": "stdout",
          "text": [
            "success accuracy = 85.19 %\n",
            "fail accuracy = 14.81 %\n",
            " \n",
            "Classification Report\n",
            "\n",
            "              precision    recall  f1-score   support\n",
            "\n",
            "     BENIGNO       0.58      1.00      0.73      1878\n",
            "     MALIGNO       1.00      0.82      0.90      7502\n",
            "\n",
            "    accuracy                           0.85      9380\n",
            "   macro avg       0.79      0.91      0.81      9380\n",
            "weighted avg       0.91      0.85      0.86      9380\n",
            "\n"
          ]
        }
      ]
    },
    {
      "cell_type": "code",
      "metadata": {
        "id": "uq49KuUT1tP9"
      },
      "source": [
        ""
      ],
      "execution_count": 18,
      "outputs": []
    },
    {
      "cell_type": "markdown",
      "metadata": {
        "id": "R8XxC8pDD2p1"
      },
      "source": [
        "#DT"
      ]
    },
    {
      "cell_type": "code",
      "metadata": {
        "id": "H6YqYhmRD3Xo"
      },
      "source": [
        "from sklearn.tree import DecisionTreeClassifier"
      ],
      "execution_count": 19,
      "outputs": []
    },
    {
      "cell_type": "code",
      "metadata": {
        "id": "JtOWDthpcScP",
        "colab": {
          "base_uri": "https://localhost:8080/",
          "height": 1000
        },
        "outputId": "1e5f3587-13f9-48cd-9e47-9a9c1748f044"
      },
      "source": [
        "from sklearn.tree import DecisionTreeClassifier\n",
        "for criterion in criterions:\n",
        "  X_flow_train, X_flow_test, y_flow_train, y_flow_test = train_test_split(X_flow, y_flow, test_size=0.2)\n",
        "\n",
        "  classifier = DecisionTreeClassifier(criterion=criterion, random_state=0)\n",
        "  flow_model = classifier.fit(X_flow_train, y_flow_train)\n",
        "  y_flow_pred = flow_model.predict(X_flow_test)\n",
        "\n",
        "  cm = confusion_matrix(y_flow_test, y_flow_pred)\n",
        "  \n",
        "\n",
        "  sns.heatmap(cm, annot=True, \n",
        "            cmap='Blues', fmt='d')\n",
        "  plt.show()\n",
        "  acc = accuracy_score(y_flow_test, y_flow_pred)\n",
        "\n",
        "  print(\"success accuracy = {0:.2f} %\".format(acc*100))\n",
        "  fail = 1.0 - acc\n",
        "  print(\"fail accuracy = {0:.2f} %\".format(fail*100))\n",
        "\n",
        "  print(\" \")\n",
        "  print('Classification Report')\n",
        "  target_names = list(['BENIGNO','MALIGNO'])\n",
        "  print('')\n",
        "  print(classification_report(y_flow_test, y_flow_pred, target_names=target_names))"
      ],
      "execution_count": 20,
      "outputs": [
        {
          "output_type": "display_data",
          "data": {
            "image/png": "[encoded data removed]",
            "text/plain": [
              "<Figure size 432x288 with 2 Axes>"
            ]
          },
          "metadata": {
            "needs_background": "light"
          }
        },
        {
          "output_type": "stream",
          "name": "stdout",
          "text": [
            "success accuracy = 100.00 %\n",
            "fail accuracy = 0.00 %\n",
            " \n",
            "Classification Report\n",
            "\n",
            "              precision    recall  f1-score   support\n",
            "\n",
            "     BENIGNO       1.00      1.00      1.00      1447\n",
            "     MALIGNO       1.00      1.00      1.00      6057\n",
            "\n",
            "    accuracy                           1.00      7504\n",
            "   macro avg       1.00      1.00      1.00      7504\n",
            "weighted avg       1.00      1.00      1.00      7504\n",
            "\n"
          ]
        },
        {
          "output_type": "display_data",
          "data": {
            "image/png": "[encoded data removed]",
            "text/plain": [
              "<Figure size 432x288 with 2 Axes>"
            ]
          },
          "metadata": {
            "needs_background": "light"
          }
        },
        {
          "output_type": "stream",
          "name": "stdout",
          "text": [
            "success accuracy = 100.00 %\n",
            "fail accuracy = 0.00 %\n",
            " \n",
            "Classification Report\n",
            "\n",
            "              precision    recall  f1-score   support\n",
            "\n",
            "     BENIGNO       1.00      1.00      1.00      1499\n",
            "     MALIGNO       1.00      1.00      1.00      6005\n",
            "\n",
            "    accuracy                           1.00      7504\n",
            "   macro avg       1.00      1.00      1.00      7504\n",
            "weighted avg       1.00      1.00      1.00      7504\n",
            "\n"
          ]
        }
      ]
    },
    {
      "cell_type": "code",
      "metadata": {
        "id": "J3X5N9rAEWl7"
      },
      "source": [
        ""
      ],
      "execution_count": 20,
      "outputs": []
    },
    {
      "cell_type": "markdown",
      "metadata": {
        "id": "jYaCivv5sSBw"
      },
      "source": [
        "#Pickle"
      ]
    },
    {
      "cell_type": "code",
      "metadata": {
        "colab": {
          "base_uri": "https://localhost:8080/",
          "height": 560
        },
        "id": "K4PjhS7PsTxe",
        "outputId": "4b8b5050-99e7-4267-fe35-ac5c1e4d09d9"
      },
      "source": [
        "X_flow_train, X_flow_test, y_flow_train, y_flow_test = train_test_split(X_flow, y_flow, test_size=0.25, shuffle=True)\n",
        "classifier = KNeighborsClassifier(n_neighbors=5, metric='minkowski')\n",
        "flow_model = classifier.fit(X_flow_train, y_flow_train)\n",
        "y_flow_pred = flow_model.predict(X_flow_test)\n",
        "print(\"Matríz de Confusión con N_NEIGHBORS = 5\")\n",
        "cm = confusion_matrix(y_flow_test, y_flow_pred)\n",
        "\n",
        "sns.heatmap(cm, annot=True, \n",
        "          cmap='Blues', fmt='d')\n",
        "plt.show()\n",
        "\n",
        "acc = accuracy_score(y_flow_test, y_flow_pred)\n",
        "\n",
        "print(\"success accuracy = {0:.02f} %\".format(acc*100))\n",
        "fail = 1.0 - acc\n",
        "print(\"fail accuracy = {0:.02f} %\".format(fail*100))\n",
        "print(\"------------------------------------------------------------------------\")\n",
        "print(\"\")\n",
        "print(\" \")\n",
        "print('Classification Report')\n",
        "target_names = list(['BENIGNO','MALIGNO'])\n",
        "print('')\n",
        "print(classification_report(y_flow_test, y_flow_pred, target_names=target_names))\n"
      ],
      "execution_count": 21,
      "outputs": [
        {
          "output_type": "stream",
          "name": "stdout",
          "text": [
            "Matríz de Confusión con N_NEIGHBORS = 5\n"
          ]
        },
        {
          "output_type": "display_data",
          "data": {
            "image/png": "[encoded data removed]",
            "text/plain": [
              "<Figure size 432x288 with 2 Axes>"
            ]
          },
          "metadata": {
            "needs_background": "light"
          }
        },
        {
          "output_type": "stream",
          "name": "stdout",
          "text": [
            "success accuracy = 100.00 %\n",
            "fail accuracy = 0.00 %\n",
            "------------------------------------------------------------------------\n",
            "\n",
            " \n",
            "Classification Report\n",
            "\n",
            "              precision    recall  f1-score   support\n",
            "\n",
            "     BENIGNO       1.00      1.00      1.00      1942\n",
            "     MALIGNO       1.00      1.00      1.00      7438\n",
            "\n",
            "    accuracy                           1.00      9380\n",
            "   macro avg       1.00      1.00      1.00      9380\n",
            "weighted avg       1.00      1.00      1.00      9380\n",
            "\n"
          ]
        }
      ]
    },
    {
      "cell_type": "code",
      "metadata": {
        "id": "obLAj51oscIc"
      },
      "source": [
        "import pickle\n",
        "# save the model to disk\n",
        "filename = 'modelo_knn.sav'\n",
        "pickle.dump(flow_model, open(filename, 'wb'))"
      ],
      "execution_count": 22,
      "outputs": []
    },
    {
      "cell_type": "code",
      "metadata": {
        "id": "iDx4MIVFs0RP"
      },
      "source": [
        ""
      ],
      "execution_count": 22,
      "outputs": []
    },
    {
      "cell_type": "code",
      "metadata": {
        "colab": {
          "base_uri": "https://localhost:8080/",
          "height": 528
        },
        "id": "D5IZuxdKtPD9",
        "outputId": "dc3b0ac9-eed7-4f84-b2c4-d31de28fe64b"
      },
      "source": [
        "from sklearn.ensemble import RandomForestClassifier\n",
        "\n",
        "X_flow_train, X_flow_test, y_flow_train, y_flow_test = train_test_split(X_flow, y_flow,\n",
        "                                                                            test_size=0.2)\n",
        "classifier = RandomForestClassifier(n_estimators=100, criterion='gini', random_state=0)\n",
        "flow_model = classifier.fit(X_flow_train, y_flow_train)\n",
        "y_flow_pred = flow_model.predict(X_flow_test)\n",
        "cm = confusion_matrix(y_flow_test, y_flow_pred)\n",
        "\n",
        "sns.heatmap(cm, annot=True, \n",
        "            cmap='Blues', fmt='d')\n",
        "plt.show()\n",
        "\n",
        "acc = accuracy_score(y_flow_test, y_flow_pred)\n",
        "\n",
        "print(\"success accuracy = {0:.2f} %\".format(acc*100))\n",
        "fail = 1.0 - acc\n",
        "print(\"fail accuracy = {0:.2f} %\".format(fail*100))\n",
        "print(\"------------------------------------------------------------------------------\")\n",
        "print(\" \")\n",
        "print('Classification Report')\n",
        "target_names = list(['BENIGNO','MALIGNO'])\n",
        "print('')\n",
        "print(classification_report(y_flow_test, y_flow_pred, target_names=target_names))"
      ],
      "execution_count": 23,
      "outputs": [
        {
          "output_type": "display_data",
          "data": {
            "image/png": "[encoded data removed]",
            "text/plain": [
              "<Figure size 432x288 with 2 Axes>"
            ]
          },
          "metadata": {
            "needs_background": "light"
          }
        },
        {
          "output_type": "stream",
          "name": "stdout",
          "text": [
            "success accuracy = 100.00 %\n",
            "fail accuracy = 0.00 %\n",
            "------------------------------------------------------------------------------\n",
            " \n",
            "Classification Report\n",
            "\n",
            "              precision    recall  f1-score   support\n",
            "\n",
            "     BENIGNO       1.00      1.00      1.00      1474\n",
            "     MALIGNO       1.00      1.00      1.00      6030\n",
            "\n",
            "    accuracy                           1.00      7504\n",
            "   macro avg       1.00      1.00      1.00      7504\n",
            "weighted avg       1.00      1.00      1.00      7504\n",
            "\n"
          ]
        }
      ]
    },
    {
      "cell_type": "code",
      "metadata": {
        "id": "U2HUQ6_98ELv"
      },
      "source": [
        "import pickle\n",
        "# save the model to disk\n",
        "filename = 'modelo_RF.sav'\n",
        "pickle.dump(flow_model, open(filename, 'wb'))"
      ],
      "execution_count": 24,
      "outputs": []
    },
    {
      "cell_type": "code",
      "metadata": {
        "id": "QqSuYvm_8UhO"
      },
      "source": [
        "from sklearn import svm\n",
        "from sklearn.pipeline import make_pipeline\n",
        "from sklearn.preprocessing import StandardScaler"
      ],
      "execution_count": 25,
      "outputs": []
    },
    {
      "cell_type": "code",
      "metadata": {
        "colab": {
          "base_uri": "https://localhost:8080/",
          "height": 300
        },
        "id": "hZkM3e4_8dKM",
        "outputId": "77acef60-7ae0-4a88-eba1-b3c164c046fb"
      },
      "source": [
        "X_flow = dataset.iloc[:, :-1].values\n",
        "X_flow = X_flow.astype('float32')\n",
        "\n",
        "y_flow = dataset.iloc[:, -1].values\n",
        "\n",
        "X_flow_train, X_flow_test, y_flow_train, y_flow_test = train_test_split(X_flow, y_flow, test_size=0.2)\n",
        "\n",
        "clf = make_pipeline(StandardScaler(), svm.SVC(gamma='auto'))\n",
        "flow_model = clf.fit(X_flow_train, y_flow_train)\n",
        "y_flow_pred = flow_model.predict(X_flow_test)\n",
        "\n",
        "cm = confusion_matrix(y_flow_test, y_flow_pred)\n",
        "\n",
        "sns.heatmap(cm, annot=True, \n",
        "          cmap='Blues', fmt='d')\n",
        "plt.show()\n",
        "acc = accuracy_score(y_flow_test, y_flow_pred)\n",
        "\n",
        "print(\"success accuracy = {0:.2f} %\".format(acc*100))\n",
        "fail = 1.0 - acc\n",
        "print(\"fail accuracy = {0:.2f} %\".format(fail*100))"
      ],
      "execution_count": 26,
      "outputs": [
        {
          "output_type": "display_data",
          "data": {
            "image/png": "[encoded data removed]",
            "text/plain": [
              "<Figure size 432x288 with 2 Axes>"
            ]
          },
          "metadata": {
            "needs_background": "light"
          }
        },
        {
          "output_type": "stream",
          "name": "stdout",
          "text": [
            "success accuracy = 99.41 %\n",
            "fail accuracy = 0.59 %\n"
          ]
        }
      ]
    },
    {
      "cell_type": "code",
      "metadata": {
        "id": "XDXjUAAz8doh"
      },
      "source": [
        "import pickle\n",
        "# save the model to disk\n",
        "filename = 'modelo_SVM.sav'\n",
        "pickle.dump(flow_model, open(filename, 'wb'))"
      ],
      "execution_count": 27,
      "outputs": []
    },
    {
      "cell_type": "code",
      "source": [
        ""
      ],
      "metadata": {
        "id": "O7vUeh-Hjom0"
      },
      "execution_count": 27,
      "outputs": []
    },
    {
      "cell_type": "code",
      "source": [
        ""
      ],
      "metadata": {
        "id": "l-dv3HlzjovZ"
      },
      "execution_count": 27,
      "outputs": []
    },
    {
      "cell_type": "code",
      "source": [
        ""
      ],
      "metadata": {
        "id": "APJyJdYZjo1W"
      },
      "execution_count": 27,
      "outputs": []
    },
    {
      "cell_type": "code",
      "source": [
        "import pandas as pd\n",
        "import numpy as np\n",
        "import matplotlib.pyplot as plt\n",
        "import seaborn as sns\n",
        "import matplotlib.pyplot as plt\n",
        "%matplotlib inline \n",
        "from sklearn.model_selection import train_test_split\n",
        "from sklearn.neighbors import KNeighborsClassifier\n",
        "from sklearn.metrics import confusion_matrix,classification_report\n",
        "from sklearn.metrics import accuracy_score\n",
        "import matplotlib.pyplot as plt\n",
        "import seaborn as sns\n",
        "\n",
        "dataset"
      ],
      "metadata": {
        "colab": {
          "base_uri": "https://localhost:8080/",
          "height": 444
        },
        "id": "FJxLQJt3jo7f",
        "outputId": "b8454608-3991-4ea8-b242-bf0436aeab2b"
      },
      "execution_count": 28,
      "outputs": [
        {
          "output_type": "execute_result",
          "data": {
            "text/html": [
              "<div>\n",
              "<style scoped>\n",
              "    .dataframe tbody tr th:only-of-type {\n",
              "        vertical-align: middle;\n",
              "    }\n",
              "\n",
              "    .dataframe tbody tr th {\n",
              "        vertical-align: top;\n",
              "    }\n",
              "\n",
              "    .dataframe thead th {\n",
              "        text-align: right;\n",
              "    }\n",
              "</style>\n",
              "<table border=\"1\" class=\"dataframe\">\n",
              "  <thead>\n",
              "    <tr style=\"text-align: right;\">\n",
              "      <th></th>\n",
              "      <th>datapath_id</th>\n",
              "      <th>ip_src</th>\n",
              "      <th>tp_src</th>\n",
              "      <th>ip_dst</th>\n",
              "      <th>tp_dst</th>\n",
              "      <th>ip_proto</th>\n",
              "      <th>icmp_code</th>\n",
              "      <th>icmp_type</th>\n",
              "      <th>flow_duration_sec</th>\n",
              "      <th>flags</th>\n",
              "      <th>packet_count</th>\n",
              "      <th>byte_count</th>\n",
              "      <th>packet_count_per_second</th>\n",
              "      <th>packet_count_per_nanosec</th>\n",
              "      <th>byte_count_per_nanosec</th>\n",
              "      <th>label</th>\n",
              "    </tr>\n",
              "  </thead>\n",
              "  <tbody>\n",
              "    <tr>\n",
              "      <th>0</th>\n",
              "      <td>4</td>\n",
              "      <td>10004</td>\n",
              "      <td>0</td>\n",
              "      <td>10001</td>\n",
              "      <td>0</td>\n",
              "      <td>1</td>\n",
              "      <td>0</td>\n",
              "      <td>0</td>\n",
              "      <td>2</td>\n",
              "      <td>0</td>\n",
              "      <td>24</td>\n",
              "      <td>2928</td>\n",
              "      <td>0</td>\n",
              "      <td>0</td>\n",
              "      <td>5.545454545454545e-06</td>\n",
              "      <td>1</td>\n",
              "    </tr>\n",
              "    <tr>\n",
              "      <th>1</th>\n",
              "      <td>4</td>\n",
              "      <td>10001</td>\n",
              "      <td>0</td>\n",
              "      <td>10004</td>\n",
              "      <td>0</td>\n",
              "      <td>1</td>\n",
              "      <td>0</td>\n",
              "      <td>8</td>\n",
              "      <td>2</td>\n",
              "      <td>0</td>\n",
              "      <td>24</td>\n",
              "      <td>2928</td>\n",
              "      <td>0</td>\n",
              "      <td>0</td>\n",
              "      <td>5.534971644612476e-06</td>\n",
              "      <td>1</td>\n",
              "    </tr>\n",
              "    <tr>\n",
              "      <th>2</th>\n",
              "      <td>3</td>\n",
              "      <td>10004</td>\n",
              "      <td>0</td>\n",
              "      <td>10001</td>\n",
              "      <td>0</td>\n",
              "      <td>1</td>\n",
              "      <td>0</td>\n",
              "      <td>0</td>\n",
              "      <td>2</td>\n",
              "      <td>0</td>\n",
              "      <td>24</td>\n",
              "      <td>2928</td>\n",
              "      <td>0</td>\n",
              "      <td>0</td>\n",
              "      <td>5.555977229601518e-06</td>\n",
              "      <td>1</td>\n",
              "    </tr>\n",
              "    <tr>\n",
              "      <th>3</th>\n",
              "      <td>2</td>\n",
              "      <td>10001</td>\n",
              "      <td>0</td>\n",
              "      <td>10004</td>\n",
              "      <td>0</td>\n",
              "      <td>1</td>\n",
              "      <td>0</td>\n",
              "      <td>8</td>\n",
              "      <td>2</td>\n",
              "      <td>0</td>\n",
              "      <td>24</td>\n",
              "      <td>2928</td>\n",
              "      <td>0</td>\n",
              "      <td>0</td>\n",
              "      <td>5.514124293785311e-06</td>\n",
              "      <td>1</td>\n",
              "    </tr>\n",
              "    <tr>\n",
              "      <th>4</th>\n",
              "      <td>4</td>\n",
              "      <td>10001</td>\n",
              "      <td>0</td>\n",
              "      <td>10004</td>\n",
              "      <td>0</td>\n",
              "      <td>1</td>\n",
              "      <td>0</td>\n",
              "      <td>8</td>\n",
              "      <td>12</td>\n",
              "      <td>0</td>\n",
              "      <td>124</td>\n",
              "      <td>15128</td>\n",
              "      <td>0</td>\n",
              "      <td>0</td>\n",
              "      <td>2.843609022556391e-05</td>\n",
              "      <td>1</td>\n",
              "    </tr>\n",
              "    <tr>\n",
              "      <th>...</th>\n",
              "      <td>...</td>\n",
              "      <td>...</td>\n",
              "      <td>...</td>\n",
              "      <td>...</td>\n",
              "      <td>...</td>\n",
              "      <td>...</td>\n",
              "      <td>...</td>\n",
              "      <td>...</td>\n",
              "      <td>...</td>\n",
              "      <td>...</td>\n",
              "      <td>...</td>\n",
              "      <td>...</td>\n",
              "      <td>...</td>\n",
              "      <td>...</td>\n",
              "      <td>...</td>\n",
              "      <td>...</td>\n",
              "    </tr>\n",
              "    <tr>\n",
              "      <th>37512</th>\n",
              "      <td>2</td>\n",
              "      <td>81198226242</td>\n",
              "      <td>3672</td>\n",
              "      <td>10002</td>\n",
              "      <td>0</td>\n",
              "      <td>6</td>\n",
              "      <td>-1</td>\n",
              "      <td>-1</td>\n",
              "      <td>0</td>\n",
              "      <td>0</td>\n",
              "      <td>0</td>\n",
              "      <td>0</td>\n",
              "      <td>0</td>\n",
              "      <td>0</td>\n",
              "      <td>0.0</td>\n",
              "      <td>1</td>\n",
              "    </tr>\n",
              "    <tr>\n",
              "      <th>37513</th>\n",
              "      <td>2</td>\n",
              "      <td>82210216138</td>\n",
              "      <td>3732</td>\n",
              "      <td>10002</td>\n",
              "      <td>0</td>\n",
              "      <td>6</td>\n",
              "      <td>-1</td>\n",
              "      <td>-1</td>\n",
              "      <td>0</td>\n",
              "      <td>0</td>\n",
              "      <td>0</td>\n",
              "      <td>0</td>\n",
              "      <td>0</td>\n",
              "      <td>0</td>\n",
              "      <td>0.0</td>\n",
              "      <td>1</td>\n",
              "    </tr>\n",
              "    <tr>\n",
              "      <th>37514</th>\n",
              "      <td>2</td>\n",
              "      <td>83233209218</td>\n",
              "      <td>3725</td>\n",
              "      <td>10002</td>\n",
              "      <td>0</td>\n",
              "      <td>6</td>\n",
              "      <td>-1</td>\n",
              "      <td>-1</td>\n",
              "      <td>0</td>\n",
              "      <td>0</td>\n",
              "      <td>0</td>\n",
              "      <td>0</td>\n",
              "      <td>0</td>\n",
              "      <td>0</td>\n",
              "      <td>0.0</td>\n",
              "      <td>1</td>\n",
              "    </tr>\n",
              "    <tr>\n",
              "      <th>37515</th>\n",
              "      <td>2</td>\n",
              "      <td>9233176107</td>\n",
              "      <td>3700</td>\n",
              "      <td>10002</td>\n",
              "      <td>0</td>\n",
              "      <td>6</td>\n",
              "      <td>-1</td>\n",
              "      <td>-1</td>\n",
              "      <td>0</td>\n",
              "      <td>0</td>\n",
              "      <td>0</td>\n",
              "      <td>0</td>\n",
              "      <td>0</td>\n",
              "      <td>0</td>\n",
              "      <td>0.0</td>\n",
              "      <td>1</td>\n",
              "    </tr>\n",
              "    <tr>\n",
              "      <th>37516</th>\n",
              "      <td>2</td>\n",
              "      <td>95212242126</td>\n",
              "      <td>3662</td>\n",
              "      <td>10002</td>\n",
              "      <td>0</td>\n",
              "      <td>6</td>\n",
              "      <td>-1</td>\n",
              "      <td>-1</td>\n",
              "      <td>0</td>\n",
              "      <td>0</td>\n",
              "      <td>0</td>\n",
              "      <td>0</td>\n",
              "      <td>0</td>\n",
              "      <td>0</td>\n",
              "      <td>0.0</td>\n",
              "      <td>1</td>\n",
              "    </tr>\n",
              "  </tbody>\n",
              "</table>\n",
              "<p>37517 rows × 16 columns</p>\n",
              "</div>"
            ],
            "text/plain": [
              "       datapath_id       ip_src  ...  byte_count_per_nanosec label\n",
              "0                4        10004  ...   5.545454545454545e-06     1\n",
              "1                4        10001  ...   5.534971644612476e-06     1\n",
              "2                3        10004  ...   5.555977229601518e-06     1\n",
              "3                2        10001  ...   5.514124293785311e-06     1\n",
              "4                4        10001  ...   2.843609022556391e-05     1\n",
              "...            ...          ...  ...                     ...   ...\n",
              "37512            2  81198226242  ...                     0.0     1\n",
              "37513            2  82210216138  ...                     0.0     1\n",
              "37514            2  83233209218  ...                     0.0     1\n",
              "37515            2   9233176107  ...                     0.0     1\n",
              "37516            2  95212242126  ...                     0.0     1\n",
              "\n",
              "[37517 rows x 16 columns]"
            ]
          },
          "metadata": {},
          "execution_count": 28
        }
      ]
    },
    {
      "cell_type": "code",
      "source": [
        ""
      ],
      "metadata": {
        "id": "Jo6vpzh0laSq"
      },
      "execution_count": 28,
      "outputs": []
    },
    {
      "cell_type": "code",
      "source": [
        "dataset.iloc[:, 1] = dataset.iloc[:, 1].str.replace('.', '')\n",
        "dataset.iloc[:, 3] = dataset.iloc[:, 3].str.replace('.', '')\n",
        "dataset.iloc[:, -2] = dataset.iloc[:,-2].str.replace(\",\",\"\")\n",
        "\n",
        "X_flow = dataset.iloc[:, :-1].values\n",
        "X_flow = X_flow.astype('float32')\n",
        "y_flow = dataset.iloc[:, -1].values\n",
        "\n",
        "X_flow_train, X_flow_test, y_flow_train, y_flow_test = train_test_split(X_flow, y_flow, test_size=0.20, random_state=0)"
      ],
      "metadata": {
        "id": "ktUTOjxMlafi"
      },
      "execution_count": 29,
      "outputs": []
    },
    {
      "cell_type": "code",
      "source": [
        "from sklearn.ensemble import RandomForestClassifier\n",
        "\n",
        "X_flow_train, X_flow_test, y_flow_train, y_flow_test = train_test_split(X_flow, y_flow,\n",
        "                                                                            test_size=0.2)\n",
        "classifier = RandomForestClassifier(n_estimators=100, criterion='gini', random_state=0)\n",
        "flow_model = classifier.fit(X_flow_train, y_flow_train)\n",
        "y_flow_pred = flow_model.predict(X_flow_test)\n",
        "cm = confusion_matrix(y_flow_test, y_flow_pred)\n",
        "\n",
        "sns.heatmap(cm, annot=True, \n",
        "            cmap='Blues', fmt='d')\n",
        "plt.show()\n",
        "\n",
        "acc = accuracy_score(y_flow_test, y_flow_pred)\n",
        "\n",
        "print(\"success accuracy = {0:.2f} %\".format(acc*100))\n",
        "fail = 1.0 - acc\n",
        "print(\"fail accuracy = {0:.2f} %\".format(fail*100))\n",
        "print(\"------------------------------------------------------------------------------\")\n",
        "print(\" \")\n",
        "print('Classification Report')\n",
        "target_names = list(['BENIGNO','MALIGNO'])\n",
        "print('')\n",
        "print(classification_report(y_flow_test, y_flow_pred, target_names=target_names))"
      ],
      "metadata": {
        "colab": {
          "base_uri": "https://localhost:8080/",
          "height": 525
        },
        "id": "gekxz_iUlalz",
        "outputId": "36c7c1d7-b117-4251-aaf8-2e92225f238b"
      },
      "execution_count": 30,
      "outputs": [
        {
          "output_type": "display_data",
          "data": {
            "image/png": "[encoded data removed]",
            "text/plain": [
              "<Figure size 432x288 with 2 Axes>"
            ]
          },
          "metadata": {
            "needs_background": "light"
          }
        },
        {
          "output_type": "stream",
          "name": "stdout",
          "text": [
            "success accuracy = 99.99 %\n",
            "fail accuracy = 0.01 %\n",
            "------------------------------------------------------------------------------\n",
            " \n",
            "Classification Report\n",
            "\n",
            "              precision    recall  f1-score   support\n",
            "\n",
            "     BENIGNO       1.00      1.00      1.00      1528\n",
            "     MALIGNO       1.00      1.00      1.00      5976\n",
            "\n",
            "    accuracy                           1.00      7504\n",
            "   macro avg       1.00      1.00      1.00      7504\n",
            "weighted avg       1.00      1.00      1.00      7504\n",
            "\n"
          ]
        }
      ]
    },
    {
      "cell_type": "code",
      "source": [
        "X = dataset.drop([\"label\"],axis=1)"
      ],
      "metadata": {
        "id": "gH1gkDi6lar8"
      },
      "execution_count": 31,
      "outputs": []
    },
    {
      "cell_type": "code",
      "metadata": {
        "id": "P4boqlcW8ihQ",
        "colab": {
          "base_uri": "https://localhost:8080/",
          "height": 421
        },
        "outputId": "2f87287c-2279-4e55-ef14-ed1118982919"
      },
      "source": [
        "#Los menos importantes:\n",
        "feat_importances = pd.Series(flow_model.feature_importances_, index=X.columns) < 0.01\n",
        "figsize = plt.subplots(figsize = (9, 6))\n",
        "plt.barh(range(sum(feat_importances)), flow_model.feature_importances_[feat_importances], align = 'center')\n",
        "plt.yticks(np.arange(sum(feat_importances)), X.columns[feat_importances])\n",
        "plt.title(\"Características menos importantes\")\n",
        "plt.xlabel(\"Importancia\")\n",
        "plt.ylabel(\"Característica\")"
      ],
      "execution_count": 32,
      "outputs": [
        {
          "output_type": "execute_result",
          "data": {
            "text/plain": [
              "Text(0, 0.5, 'Característica')"
            ]
          },
          "metadata": {},
          "execution_count": 32
        },
        {
          "output_type": "display_data",
          "data": {
            "image/png": "[encoded data removed]",
            "text/plain": [
              "<Figure size 648x432 with 1 Axes>"
            ]
          },
          "metadata": {
            "needs_background": "light"
          }
        }
      ]
    },
    {
      "cell_type": "code",
      "source": [
        "dataset = dataset.drop([\"flags\",\"packet_count_per_nanosec\",\"packet_count_per_second\"], axis=1)\n",
        "dataset"
      ],
      "metadata": {
        "colab": {
          "base_uri": "https://localhost:8080/",
          "height": 424
        },
        "id": "Og7NhTFrjmlL",
        "outputId": "e85c9692-7018-4dc7-84ee-96f2780f1da1"
      },
      "execution_count": 33,
      "outputs": [
        {
          "output_type": "execute_result",
          "data": {
            "text/html": [
              "<div>\n",
              "<style scoped>\n",
              "    .dataframe tbody tr th:only-of-type {\n",
              "        vertical-align: middle;\n",
              "    }\n",
              "\n",
              "    .dataframe tbody tr th {\n",
              "        vertical-align: top;\n",
              "    }\n",
              "\n",
              "    .dataframe thead th {\n",
              "        text-align: right;\n",
              "    }\n",
              "</style>\n",
              "<table border=\"1\" class=\"dataframe\">\n",
              "  <thead>\n",
              "    <tr style=\"text-align: right;\">\n",
              "      <th></th>\n",
              "      <th>datapath_id</th>\n",
              "      <th>ip_src</th>\n",
              "      <th>tp_src</th>\n",
              "      <th>ip_dst</th>\n",
              "      <th>tp_dst</th>\n",
              "      <th>ip_proto</th>\n",
              "      <th>icmp_code</th>\n",
              "      <th>icmp_type</th>\n",
              "      <th>flow_duration_sec</th>\n",
              "      <th>packet_count</th>\n",
              "      <th>byte_count</th>\n",
              "      <th>byte_count_per_nanosec</th>\n",
              "      <th>label</th>\n",
              "    </tr>\n",
              "  </thead>\n",
              "  <tbody>\n",
              "    <tr>\n",
              "      <th>0</th>\n",
              "      <td>4</td>\n",
              "      <td>10004</td>\n",
              "      <td>0</td>\n",
              "      <td>10001</td>\n",
              "      <td>0</td>\n",
              "      <td>1</td>\n",
              "      <td>0</td>\n",
              "      <td>0</td>\n",
              "      <td>2</td>\n",
              "      <td>24</td>\n",
              "      <td>2928</td>\n",
              "      <td>5.545454545454545e-06</td>\n",
              "      <td>1</td>\n",
              "    </tr>\n",
              "    <tr>\n",
              "      <th>1</th>\n",
              "      <td>4</td>\n",
              "      <td>10001</td>\n",
              "      <td>0</td>\n",
              "      <td>10004</td>\n",
              "      <td>0</td>\n",
              "      <td>1</td>\n",
              "      <td>0</td>\n",
              "      <td>8</td>\n",
              "      <td>2</td>\n",
              "      <td>24</td>\n",
              "      <td>2928</td>\n",
              "      <td>5.534971644612476e-06</td>\n",
              "      <td>1</td>\n",
              "    </tr>\n",
              "    <tr>\n",
              "      <th>2</th>\n",
              "      <td>3</td>\n",
              "      <td>10004</td>\n",
              "      <td>0</td>\n",
              "      <td>10001</td>\n",
              "      <td>0</td>\n",
              "      <td>1</td>\n",
              "      <td>0</td>\n",
              "      <td>0</td>\n",
              "      <td>2</td>\n",
              "      <td>24</td>\n",
              "      <td>2928</td>\n",
              "      <td>5.555977229601518e-06</td>\n",
              "      <td>1</td>\n",
              "    </tr>\n",
              "    <tr>\n",
              "      <th>3</th>\n",
              "      <td>2</td>\n",
              "      <td>10001</td>\n",
              "      <td>0</td>\n",
              "      <td>10004</td>\n",
              "      <td>0</td>\n",
              "      <td>1</td>\n",
              "      <td>0</td>\n",
              "      <td>8</td>\n",
              "      <td>2</td>\n",
              "      <td>24</td>\n",
              "      <td>2928</td>\n",
              "      <td>5.514124293785311e-06</td>\n",
              "      <td>1</td>\n",
              "    </tr>\n",
              "    <tr>\n",
              "      <th>4</th>\n",
              "      <td>4</td>\n",
              "      <td>10001</td>\n",
              "      <td>0</td>\n",
              "      <td>10004</td>\n",
              "      <td>0</td>\n",
              "      <td>1</td>\n",
              "      <td>0</td>\n",
              "      <td>8</td>\n",
              "      <td>12</td>\n",
              "      <td>124</td>\n",
              "      <td>15128</td>\n",
              "      <td>2.843609022556391e-05</td>\n",
              "      <td>1</td>\n",
              "    </tr>\n",
              "    <tr>\n",
              "      <th>...</th>\n",
              "      <td>...</td>\n",
              "      <td>...</td>\n",
              "      <td>...</td>\n",
              "      <td>...</td>\n",
              "      <td>...</td>\n",
              "      <td>...</td>\n",
              "      <td>...</td>\n",
              "      <td>...</td>\n",
              "      <td>...</td>\n",
              "      <td>...</td>\n",
              "      <td>...</td>\n",
              "      <td>...</td>\n",
              "      <td>...</td>\n",
              "    </tr>\n",
              "    <tr>\n",
              "      <th>37512</th>\n",
              "      <td>2</td>\n",
              "      <td>81198226242</td>\n",
              "      <td>3672</td>\n",
              "      <td>10002</td>\n",
              "      <td>0</td>\n",
              "      <td>6</td>\n",
              "      <td>-1</td>\n",
              "      <td>-1</td>\n",
              "      <td>0</td>\n",
              "      <td>0</td>\n",
              "      <td>0</td>\n",
              "      <td>0.0</td>\n",
              "      <td>1</td>\n",
              "    </tr>\n",
              "    <tr>\n",
              "      <th>37513</th>\n",
              "      <td>2</td>\n",
              "      <td>82210216138</td>\n",
              "      <td>3732</td>\n",
              "      <td>10002</td>\n",
              "      <td>0</td>\n",
              "      <td>6</td>\n",
              "      <td>-1</td>\n",
              "      <td>-1</td>\n",
              "      <td>0</td>\n",
              "      <td>0</td>\n",
              "      <td>0</td>\n",
              "      <td>0.0</td>\n",
              "      <td>1</td>\n",
              "    </tr>\n",
              "    <tr>\n",
              "      <th>37514</th>\n",
              "      <td>2</td>\n",
              "      <td>83233209218</td>\n",
              "      <td>3725</td>\n",
              "      <td>10002</td>\n",
              "      <td>0</td>\n",
              "      <td>6</td>\n",
              "      <td>-1</td>\n",
              "      <td>-1</td>\n",
              "      <td>0</td>\n",
              "      <td>0</td>\n",
              "      <td>0</td>\n",
              "      <td>0.0</td>\n",
              "      <td>1</td>\n",
              "    </tr>\n",
              "    <tr>\n",
              "      <th>37515</th>\n",
              "      <td>2</td>\n",
              "      <td>9233176107</td>\n",
              "      <td>3700</td>\n",
              "      <td>10002</td>\n",
              "      <td>0</td>\n",
              "      <td>6</td>\n",
              "      <td>-1</td>\n",
              "      <td>-1</td>\n",
              "      <td>0</td>\n",
              "      <td>0</td>\n",
              "      <td>0</td>\n",
              "      <td>0.0</td>\n",
              "      <td>1</td>\n",
              "    </tr>\n",
              "    <tr>\n",
              "      <th>37516</th>\n",
              "      <td>2</td>\n",
              "      <td>95212242126</td>\n",
              "      <td>3662</td>\n",
              "      <td>10002</td>\n",
              "      <td>0</td>\n",
              "      <td>6</td>\n",
              "      <td>-1</td>\n",
              "      <td>-1</td>\n",
              "      <td>0</td>\n",
              "      <td>0</td>\n",
              "      <td>0</td>\n",
              "      <td>0.0</td>\n",
              "      <td>1</td>\n",
              "    </tr>\n",
              "  </tbody>\n",
              "</table>\n",
              "<p>37517 rows × 13 columns</p>\n",
              "</div>"
            ],
            "text/plain": [
              "       datapath_id       ip_src  ...  byte_count_per_nanosec label\n",
              "0                4        10004  ...   5.545454545454545e-06     1\n",
              "1                4        10001  ...   5.534971644612476e-06     1\n",
              "2                3        10004  ...   5.555977229601518e-06     1\n",
              "3                2        10001  ...   5.514124293785311e-06     1\n",
              "4                4        10001  ...   2.843609022556391e-05     1\n",
              "...            ...          ...  ...                     ...   ...\n",
              "37512            2  81198226242  ...                     0.0     1\n",
              "37513            2  82210216138  ...                     0.0     1\n",
              "37514            2  83233209218  ...                     0.0     1\n",
              "37515            2   9233176107  ...                     0.0     1\n",
              "37516            2  95212242126  ...                     0.0     1\n",
              "\n",
              "[37517 rows x 13 columns]"
            ]
          },
          "metadata": {},
          "execution_count": 33
        }
      ]
    },
    {
      "cell_type": "code",
      "source": [
        "dataset.to_csv(\"dataset_ivo2.csv\",index=False)"
      ],
      "metadata": {
        "id": "9Rtss4U9mMN7"
      },
      "execution_count": 36,
      "outputs": []
    },
    {
      "cell_type": "code",
      "source": [
        "dataset.iloc[:, 1] = dataset.iloc[:, 1].str.replace('.', '')\n",
        "dataset.iloc[:, 3] = dataset.iloc[:, 3].str.replace('.', '')\n",
        "dataset.iloc[:, -2] = dataset.iloc[:,-2].str.replace(\",\",\"\")\n",
        "\n",
        "X_flow = dataset.iloc[:, :-1].values\n",
        "X_flow = X_flow.astype('float32')\n",
        "y_flow = dataset.iloc[:, -1].values\n",
        "\n",
        "X_flow_train, X_flow_test, y_flow_train, y_flow_test = train_test_split(X_flow, y_flow, test_size=0.20, random_state=0)"
      ],
      "metadata": {
        "id": "HIiPt-JfmPRc"
      },
      "execution_count": 37,
      "outputs": []
    },
    {
      "cell_type": "code",
      "source": [
        "from sklearn.ensemble import RandomForestClassifier\n",
        "\n",
        "X_flow_train, X_flow_test, y_flow_train, y_flow_test = train_test_split(X_flow, y_flow,\n",
        "                                                                            test_size=0.2)\n",
        "classifier = RandomForestClassifier(n_estimators=100, criterion='gini', random_state=0)\n",
        "flow_model = classifier.fit(X_flow_train, y_flow_train)\n",
        "y_flow_pred = flow_model.predict(X_flow_test)\n",
        "cm = confusion_matrix(y_flow_test, y_flow_pred)\n",
        "\n",
        "sns.heatmap(cm, annot=True, \n",
        "            cmap='Blues', fmt='d')\n",
        "plt.show()\n",
        "\n",
        "acc = accuracy_score(y_flow_test, y_flow_pred)\n",
        "\n",
        "print(\"success accuracy = {0:.2f} %\".format(acc*100))\n",
        "fail = 1.0 - acc\n",
        "print(\"fail accuracy = {0:.2f} %\".format(fail*100))\n",
        "print(\"------------------------------------------------------------------------------\")\n",
        "print(\" \")\n",
        "print('Classification Report')\n",
        "target_names = list(['BENIGNO','MALIGNO'])\n",
        "print('')\n",
        "print(classification_report(y_flow_test, y_flow_pred, target_names=target_names))"
      ],
      "metadata": {
        "colab": {
          "base_uri": "https://localhost:8080/",
          "height": 525
        },
        "id": "My8cA3tfmWaW",
        "outputId": "a9f2eae1-76fc-455b-d1d5-a053b027c1c3"
      },
      "execution_count": 35,
      "outputs": [
        {
          "output_type": "display_data",
          "data": {
            "image/png": "[encoded data removed]",
            "text/plain": [
              "<Figure size 432x288 with 2 Axes>"
            ]
          },
          "metadata": {
            "needs_background": "light"
          }
        },
        {
          "output_type": "stream",
          "name": "stdout",
          "text": [
            "success accuracy = 100.00 %\n",
            "fail accuracy = 0.00 %\n",
            "------------------------------------------------------------------------------\n",
            " \n",
            "Classification Report\n",
            "\n",
            "              precision    recall  f1-score   support\n",
            "\n",
            "     BENIGNO       1.00      1.00      1.00      1541\n",
            "     MALIGNO       1.00      1.00      1.00      5963\n",
            "\n",
            "    accuracy                           1.00      7504\n",
            "   macro avg       1.00      1.00      1.00      7504\n",
            "weighted avg       1.00      1.00      1.00      7504\n",
            "\n"
          ]
        }
      ]
    },
    {
      "cell_type": "code",
      "source": [
        "\n",
        "from sklearn.model_selection import train_test_split\n",
        "from sklearn.neighbors import KNeighborsClassifier\n",
        "from sklearn.metrics import confusion_matrix,classification_report\n",
        "from sklearn.metrics import accuracy_score\n",
        "import matplotlib.pyplot as plt\n",
        "import seaborn as sns\n",
        "\n",
        "\n",
        "dataset.iloc[:, 1] = dataset.iloc[:, 1].str.replace('.', '')\n",
        "dataset.iloc[:, 3] = dataset.iloc[:, 3].str.replace('.', '')\n",
        "dataset.iloc[:, -2] = dataset.iloc[:,-2].str.replace(\",\",\"\")\n",
        "\n",
        "X_flow = dataset.iloc[:, :-1].values\n",
        "X_flow = X_flow.astype('float32')\n",
        "y_flow = dataset.iloc[:, -1].values\n",
        "\n",
        "X_flow_train, X_flow_test, y_flow_train, y_flow_test = train_test_split(X_flow, y_flow, test_size=0.20, random_state=0)"
      ],
      "metadata": {
        "id": "BdurOc1MmYcl"
      },
      "execution_count": 38,
      "outputs": []
    },
    {
      "cell_type": "code",
      "source": [
        "metrics = ['minkowski','euclidean','manhattan','chebyshev']\n",
        "for i in range(1,8):\n",
        "  for metric in metrics:\n",
        "    X_flow_train, X_flow_test, y_flow_train, y_flow_test = train_test_split(X_flow, y_flow, test_size=0.2)\n",
        "    classifier = KNeighborsClassifier(n_neighbors=i, metric=metric)\n",
        "    flow_model = classifier.fit(X_flow_train, y_flow_train)\n",
        "    y_flow_pred = flow_model.predict(X_flow_test)\n",
        "    print(f\"Matríz de Confusión {metric} con N_NEIGHBORS = {i}\")\n",
        "    cm = confusion_matrix(y_flow_test, y_flow_pred)\n",
        "\n",
        "    sns.heatmap(cm, annot=True, \n",
        "              cmap='Blues', fmt='d')\n",
        "    plt.show()\n",
        "\n",
        "    acc = accuracy_score(y_flow_test, y_flow_pred)\n",
        "\n",
        "    print(\"success accuracy = {0:.02f} %\".format(acc*100))\n",
        "    fail = 1.0 - acc\n",
        "    print(\"fail accuracy = {0:.02f} %\".format(fail*100))\n",
        "    print(\"------------------------------------------------------------------------\")\n",
        "    print(\"\")\n",
        "    print(\" \")\n",
        "    print('Classification Report')\n",
        "    target_names = list(['BENIGNO','MALIGNO'])\n",
        "    print('')\n",
        "    print(classification_report(y_flow_test, y_flow_pred, target_names=target_names))"
      ],
      "metadata": {
        "colab": {
          "base_uri": "https://localhost:8080/",
          "height": 1000
        },
        "id": "5sM-min-jFZq",
        "outputId": "7a335d72-0c20-4bbf-8566-f8d4f684e11e"
      },
      "execution_count": 39,
      "outputs": [
        {
          "output_type": "stream",
          "name": "stdout",
          "text": [
            "Matríz de Confusión minkowski con N_NEIGHBORS = 1\n"
          ]
        },
        {
          "output_type": "display_data",
          "data": {
            "image/png": "[encoded data removed]",
            "text/plain": [
              "<Figure size 432x288 with 2 Axes>"
            ]
          },
          "metadata": {
            "needs_background": "light"
          }
        },
        {
          "output_type": "stream",
          "name": "stdout",
          "text": [
            "success accuracy = 100.00 %\n",
            "fail accuracy = 0.00 %\n",
            "------------------------------------------------------------------------\n",
            "\n",
            " \n",
            "Classification Report\n",
            "\n",
            "              precision    recall  f1-score   support\n",
            "\n",
            "     BENIGNO       1.00      1.00      1.00      1536\n",
            "     MALIGNO       1.00      1.00      1.00      5968\n",
            "\n",
            "    accuracy                           1.00      7504\n",
            "   macro avg       1.00      1.00      1.00      7504\n",
            "weighted avg       1.00      1.00      1.00      7504\n",
            "\n",
            "Matríz de Confusión euclidean con N_NEIGHBORS = 1\n"
          ]
        },
        {
          "output_type": "display_data",
          "data": {
            "image/png": "[encoded data removed]",
            "text/plain": [
              "<Figure size 432x288 with 2 Axes>"
            ]
          },
          "metadata": {
            "needs_background": "light"
          }
        },
        {
          "output_type": "stream",
          "name": "stdout",
          "text": [
            "success accuracy = 100.00 %\n",
            "fail accuracy = 0.00 %\n",
            "------------------------------------------------------------------------\n",
            "\n",
            " \n",
            "Classification Report\n",
            "\n",
            "              precision    recall  f1-score   support\n",
            "\n",
            "     BENIGNO       1.00      1.00      1.00      1520\n",
            "     MALIGNO       1.00      1.00      1.00      5984\n",
            "\n",
            "    accuracy                           1.00      7504\n",
            "   macro avg       1.00      1.00      1.00      7504\n",
            "weighted avg       1.00      1.00      1.00      7504\n",
            "\n",
            "Matríz de Confusión manhattan con N_NEIGHBORS = 1\n"
          ]
        },
        {
          "output_type": "display_data",
          "data": {
            "image/png": "[encoded data removed]",
            "text/plain": [
              "<Figure size 432x288 with 2 Axes>"
            ]
          },
          "metadata": {
            "needs_background": "light"
          }
        },
        {
          "output_type": "stream",
          "name": "stdout",
          "text": [
            "success accuracy = 100.00 %\n",
            "fail accuracy = 0.00 %\n",
            "------------------------------------------------------------------------\n",
            "\n",
            " \n",
            "Classification Report\n",
            "\n",
            "              precision    recall  f1-score   support\n",
            "\n",
            "     BENIGNO       1.00      1.00      1.00      1441\n",
            "     MALIGNO       1.00      1.00      1.00      6063\n",
            "\n",
            "    accuracy                           1.00      7504\n",
            "   macro avg       1.00      1.00      1.00      7504\n",
            "weighted avg       1.00      1.00      1.00      7504\n",
            "\n",
            "Matríz de Confusión chebyshev con N_NEIGHBORS = 1\n"
          ]
        },
        {
          "output_type": "display_data",
          "data": {
            "image/png": "[encoded data removed]",
            "text/plain": [
              "<Figure size 432x288 with 2 Axes>"
            ]
          },
          "metadata": {
            "needs_background": "light"
          }
        },
        {
          "output_type": "stream",
          "name": "stdout",
          "text": [
            "success accuracy = 100.00 %\n",
            "fail accuracy = 0.00 %\n",
            "------------------------------------------------------------------------\n",
            "\n",
            " \n",
            "Classification Report\n",
            "\n",
            "              precision    recall  f1-score   support\n",
            "\n",
            "     BENIGNO       1.00      1.00      1.00      1520\n",
            "     MALIGNO       1.00      1.00      1.00      5984\n",
            "\n",
            "    accuracy                           1.00      7504\n",
            "   macro avg       1.00      1.00      1.00      7504\n",
            "weighted avg       1.00      1.00      1.00      7504\n",
            "\n",
            "Matríz de Confusión minkowski con N_NEIGHBORS = 2\n"
          ]
        },
        {
          "output_type": "display_data",
          "data": {
            "image/png": "[encoded data removed]",
            "text/plain": [
              "<Figure size 432x288 with 2 Axes>"
            ]
          },
          "metadata": {
            "needs_background": "light"
          }
        },
        {
          "output_type": "stream",
          "name": "stdout",
          "text": [
            "success accuracy = 100.00 %\n",
            "fail accuracy = 0.00 %\n",
            "------------------------------------------------------------------------\n",
            "\n",
            " \n",
            "Classification Report\n",
            "\n",
            "              precision    recall  f1-score   support\n",
            "\n",
            "     BENIGNO       1.00      1.00      1.00      1452\n",
            "     MALIGNO       1.00      1.00      1.00      6052\n",
            "\n",
            "    accuracy                           1.00      7504\n",
            "   macro avg       1.00      1.00      1.00      7504\n",
            "weighted avg       1.00      1.00      1.00      7504\n",
            "\n",
            "Matríz de Confusión euclidean con N_NEIGHBORS = 2\n"
          ]
        },
        {
          "output_type": "display_data",
          "data": {
            "image/png": "[encoded data removed]",
            "text/plain": [
              "<Figure size 432x288 with 2 Axes>"
            ]
          },
          "metadata": {
            "needs_background": "light"
          }
        },
        {
          "output_type": "stream",
          "name": "stdout",
          "text": [
            "success accuracy = 100.00 %\n",
            "fail accuracy = 0.00 %\n",
            "------------------------------------------------------------------------\n",
            "\n",
            " \n",
            "Classification Report\n",
            "\n",
            "              precision    recall  f1-score   support\n",
            "\n",
            "     BENIGNO       1.00      1.00      1.00      1485\n",
            "     MALIGNO       1.00      1.00      1.00      6019\n",
            "\n",
            "    accuracy                           1.00      7504\n",
            "   macro avg       1.00      1.00      1.00      7504\n",
            "weighted avg       1.00      1.00      1.00      7504\n",
            "\n",
            "Matríz de Confusión manhattan con N_NEIGHBORS = 2\n"
          ]
        },
        {
          "output_type": "display_data",
          "data": {
            "image/png": "[encoded data removed]",
            "text/plain": [
              "<Figure size 432x288 with 2 Axes>"
            ]
          },
          "metadata": {
            "needs_background": "light"
          }
        },
        {
          "output_type": "stream",
          "name": "stdout",
          "text": [
            "success accuracy = 99.96 %\n",
            "fail accuracy = 0.04 %\n",
            "------------------------------------------------------------------------\n",
            "\n",
            " \n",
            "Classification Report\n",
            "\n",
            "              precision    recall  f1-score   support\n",
            "\n",
            "     BENIGNO       1.00      1.00      1.00      1499\n",
            "     MALIGNO       1.00      1.00      1.00      6005\n",
            "\n",
            "    accuracy                           1.00      7504\n",
            "   macro avg       1.00      1.00      1.00      7504\n",
            "weighted avg       1.00      1.00      1.00      7504\n",
            "\n",
            "Matríz de Confusión chebyshev con N_NEIGHBORS = 2\n"
          ]
        },
        {
          "output_type": "display_data",
          "data": {
            "image/png": "[encoded data removed]",
            "text/plain": [
              "<Figure size 432x288 with 2 Axes>"
            ]
          },
          "metadata": {
            "needs_background": "light"
          }
        },
        {
          "output_type": "stream",
          "name": "stdout",
          "text": [
            "success accuracy = 100.00 %\n",
            "fail accuracy = 0.00 %\n",
            "------------------------------------------------------------------------\n",
            "\n",
            " \n",
            "Classification Report\n",
            "\n",
            "              precision    recall  f1-score   support\n",
            "\n",
            "     BENIGNO       1.00      1.00      1.00      1477\n",
            "     MALIGNO       1.00      1.00      1.00      6027\n",
            "\n",
            "    accuracy                           1.00      7504\n",
            "   macro avg       1.00      1.00      1.00      7504\n",
            "weighted avg       1.00      1.00      1.00      7504\n",
            "\n",
            "Matríz de Confusión minkowski con N_NEIGHBORS = 3\n"
          ]
        },
        {
          "output_type": "display_data",
          "data": {
            "image/png": "[encoded data removed]",
            "text/plain": [
              "<Figure size 432x288 with 2 Axes>"
            ]
          },
          "metadata": {
            "needs_background": "light"
          }
        },
        {
          "output_type": "stream",
          "name": "stdout",
          "text": [
            "success accuracy = 100.00 %\n",
            "fail accuracy = 0.00 %\n",
            "------------------------------------------------------------------------\n",
            "\n",
            " \n",
            "Classification Report\n",
            "\n",
            "              precision    recall  f1-score   support\n",
            "\n",
            "     BENIGNO       1.00      1.00      1.00      1494\n",
            "     MALIGNO       1.00      1.00      1.00      6010\n",
            "\n",
            "    accuracy                           1.00      7504\n",
            "   macro avg       1.00      1.00      1.00      7504\n",
            "weighted avg       1.00      1.00      1.00      7504\n",
            "\n",
            "Matríz de Confusión euclidean con N_NEIGHBORS = 3\n"
          ]
        },
        {
          "output_type": "display_data",
          "data": {
            "image/png": "[encoded data removed]",
            "text/plain": [
              "<Figure size 432x288 with 2 Axes>"
            ]
          },
          "metadata": {
            "needs_background": "light"
          }
        },
        {
          "output_type": "stream",
          "name": "stdout",
          "text": [
            "success accuracy = 100.00 %\n",
            "fail accuracy = 0.00 %\n",
            "------------------------------------------------------------------------\n",
            "\n",
            " \n",
            "Classification Report\n",
            "\n",
            "              precision    recall  f1-score   support\n",
            "\n",
            "     BENIGNO       1.00      1.00      1.00      1508\n",
            "     MALIGNO       1.00      1.00      1.00      5996\n",
            "\n",
            "    accuracy                           1.00      7504\n",
            "   macro avg       1.00      1.00      1.00      7504\n",
            "weighted avg       1.00      1.00      1.00      7504\n",
            "\n",
            "Matríz de Confusión manhattan con N_NEIGHBORS = 3\n"
          ]
        },
        {
          "output_type": "display_data",
          "data": {
            "image/png": "[encoded data removed]",
            "text/plain": [
              "<Figure size 432x288 with 2 Axes>"
            ]
          },
          "metadata": {
            "needs_background": "light"
          }
        },
        {
          "output_type": "stream",
          "name": "stdout",
          "text": [
            "success accuracy = 100.00 %\n",
            "fail accuracy = 0.00 %\n",
            "------------------------------------------------------------------------\n",
            "\n",
            " \n",
            "Classification Report\n",
            "\n",
            "              precision    recall  f1-score   support\n",
            "\n",
            "     BENIGNO       1.00      1.00      1.00      1507\n",
            "     MALIGNO       1.00      1.00      1.00      5997\n",
            "\n",
            "    accuracy                           1.00      7504\n",
            "   macro avg       1.00      1.00      1.00      7504\n",
            "weighted avg       1.00      1.00      1.00      7504\n",
            "\n",
            "Matríz de Confusión chebyshev con N_NEIGHBORS = 3\n"
          ]
        },
        {
          "output_type": "display_data",
          "data": {
            "image/png": "[encoded data removed]",
            "text/plain": [
              "<Figure size 432x288 with 2 Axes>"
            ]
          },
          "metadata": {
            "needs_background": "light"
          }
        },
        {
          "output_type": "stream",
          "name": "stdout",
          "text": [
            "success accuracy = 100.00 %\n",
            "fail accuracy = 0.00 %\n",
            "------------------------------------------------------------------------\n",
            "\n",
            " \n",
            "Classification Report\n",
            "\n",
            "              precision    recall  f1-score   support\n",
            "\n",
            "     BENIGNO       1.00      1.00      1.00      1468\n",
            "     MALIGNO       1.00      1.00      1.00      6036\n",
            "\n",
            "    accuracy                           1.00      7504\n",
            "   macro avg       1.00      1.00      1.00      7504\n",
            "weighted avg       1.00      1.00      1.00      7504\n",
            "\n",
            "Matríz de Confusión minkowski con N_NEIGHBORS = 4\n"
          ]
        },
        {
          "output_type": "display_data",
          "data": {
            "image/png": "[encoded data removed]",
            "text/plain": [
              "<Figure size 432x288 with 2 Axes>"
            ]
          },
          "metadata": {
            "needs_background": "light"
          }
        },
        {
          "output_type": "stream",
          "name": "stdout",
          "text": [
            "success accuracy = 99.99 %\n",
            "fail accuracy = 0.01 %\n",
            "------------------------------------------------------------------------\n",
            "\n",
            " \n",
            "Classification Report\n",
            "\n",
            "              precision    recall  f1-score   support\n",
            "\n",
            "     BENIGNO       1.00      1.00      1.00      1478\n",
            "     MALIGNO       1.00      1.00      1.00      6026\n",
            "\n",
            "    accuracy                           1.00      7504\n",
            "   macro avg       1.00      1.00      1.00      7504\n",
            "weighted avg       1.00      1.00      1.00      7504\n",
            "\n",
            "Matríz de Confusión euclidean con N_NEIGHBORS = 4\n"
          ]
        },
        {
          "output_type": "display_data",
          "data": {
            "image/png": "[encoded data removed]",
            "text/plain": [
              "<Figure size 432x288 with 2 Axes>"
            ]
          },
          "metadata": {
            "needs_background": "light"
          }
        },
        {
          "output_type": "stream",
          "name": "stdout",
          "text": [
            "success accuracy = 99.97 %\n",
            "fail accuracy = 0.03 %\n",
            "------------------------------------------------------------------------\n",
            "\n",
            " \n",
            "Classification Report\n",
            "\n",
            "              precision    recall  f1-score   support\n",
            "\n",
            "     BENIGNO       1.00      1.00      1.00      1531\n",
            "     MALIGNO       1.00      1.00      1.00      5973\n",
            "\n",
            "    accuracy                           1.00      7504\n",
            "   macro avg       1.00      1.00      1.00      7504\n",
            "weighted avg       1.00      1.00      1.00      7504\n",
            "\n",
            "Matríz de Confusión manhattan con N_NEIGHBORS = 4\n"
          ]
        },
        {
          "output_type": "display_data",
          "data": {
            "image/png": "[encoded data removed]",
            "text/plain": [
              "<Figure size 432x288 with 2 Axes>"
            ]
          },
          "metadata": {
            "needs_background": "light"
          }
        },
        {
          "output_type": "stream",
          "name": "stdout",
          "text": [
            "success accuracy = 100.00 %\n",
            "fail accuracy = 0.00 %\n",
            "------------------------------------------------------------------------\n",
            "\n",
            " \n",
            "Classification Report\n",
            "\n",
            "              precision    recall  f1-score   support\n",
            "\n",
            "     BENIGNO       1.00      1.00      1.00      1445\n",
            "     MALIGNO       1.00      1.00      1.00      6059\n",
            "\n",
            "    accuracy                           1.00      7504\n",
            "   macro avg       1.00      1.00      1.00      7504\n",
            "weighted avg       1.00      1.00      1.00      7504\n",
            "\n",
            "Matríz de Confusión chebyshev con N_NEIGHBORS = 4\n"
          ]
        },
        {
          "output_type": "display_data",
          "data": {
            "image/png": "[encoded data removed]",
            "text/plain": [
              "<Figure size 432x288 with 2 Axes>"
            ]
          },
          "metadata": {
            "needs_background": "light"
          }
        },
        {
          "output_type": "stream",
          "name": "stdout",
          "text": [
            "success accuracy = 99.97 %\n",
            "fail accuracy = 0.03 %\n",
            "------------------------------------------------------------------------\n",
            "\n",
            " \n",
            "Classification Report\n",
            "\n",
            "              precision    recall  f1-score   support\n",
            "\n",
            "     BENIGNO       1.00      1.00      1.00      1523\n",
            "     MALIGNO       1.00      1.00      1.00      5981\n",
            "\n",
            "    accuracy                           1.00      7504\n",
            "   macro avg       1.00      1.00      1.00      7504\n",
            "weighted avg       1.00      1.00      1.00      7504\n",
            "\n",
            "Matríz de Confusión minkowski con N_NEIGHBORS = 5\n"
          ]
        },
        {
          "output_type": "display_data",
          "data": {
            "image/png": "[encoded data removed]",
            "text/plain": [
              "<Figure size 432x288 with 2 Axes>"
            ]
          },
          "metadata": {
            "needs_background": "light"
          }
        },
        {
          "output_type": "stream",
          "name": "stdout",
          "text": [
            "success accuracy = 99.99 %\n",
            "fail accuracy = 0.01 %\n",
            "------------------------------------------------------------------------\n",
            "\n",
            " \n",
            "Classification Report\n",
            "\n",
            "              precision    recall  f1-score   support\n",
            "\n",
            "     BENIGNO       1.00      1.00      1.00      1532\n",
            "     MALIGNO       1.00      1.00      1.00      5972\n",
            "\n",
            "    accuracy                           1.00      7504\n",
            "   macro avg       1.00      1.00      1.00      7504\n",
            "weighted avg       1.00      1.00      1.00      7504\n",
            "\n",
            "Matríz de Confusión euclidean con N_NEIGHBORS = 5\n"
          ]
        },
        {
          "output_type": "display_data",
          "data": {
            "image/png": "[encoded data removed]",
            "text/plain": [
              "<Figure size 432x288 with 2 Axes>"
            ]
          },
          "metadata": {
            "needs_background": "light"
          }
        },
        {
          "output_type": "stream",
          "name": "stdout",
          "text": [
            "success accuracy = 100.00 %\n",
            "fail accuracy = 0.00 %\n",
            "------------------------------------------------------------------------\n",
            "\n",
            " \n",
            "Classification Report\n",
            "\n",
            "              precision    recall  f1-score   support\n",
            "\n",
            "     BENIGNO       1.00      1.00      1.00      1438\n",
            "     MALIGNO       1.00      1.00      1.00      6066\n",
            "\n",
            "    accuracy                           1.00      7504\n",
            "   macro avg       1.00      1.00      1.00      7504\n",
            "weighted avg       1.00      1.00      1.00      7504\n",
            "\n",
            "Matríz de Confusión manhattan con N_NEIGHBORS = 5\n"
          ]
        },
        {
          "output_type": "display_data",
          "data": {
            "image/png": "[encoded data removed]",
            "text/plain": [
              "<Figure size 432x288 with 2 Axes>"
            ]
          },
          "metadata": {
            "needs_background": "light"
          }
        },
        {
          "output_type": "stream",
          "name": "stdout",
          "text": [
            "success accuracy = 100.00 %\n",
            "fail accuracy = 0.00 %\n",
            "------------------------------------------------------------------------\n",
            "\n",
            " \n",
            "Classification Report\n",
            "\n",
            "              precision    recall  f1-score   support\n",
            "\n",
            "     BENIGNO       1.00      1.00      1.00      1476\n",
            "     MALIGNO       1.00      1.00      1.00      6028\n",
            "\n",
            "    accuracy                           1.00      7504\n",
            "   macro avg       1.00      1.00      1.00      7504\n",
            "weighted avg       1.00      1.00      1.00      7504\n",
            "\n",
            "Matríz de Confusión chebyshev con N_NEIGHBORS = 5\n"
          ]
        },
        {
          "output_type": "display_data",
          "data": {
            "image/png": "[encoded data removed]",
            "text/plain": [
              "<Figure size 432x288 with 2 Axes>"
            ]
          },
          "metadata": {
            "needs_background": "light"
          }
        },
        {
          "output_type": "stream",
          "name": "stdout",
          "text": [
            "success accuracy = 100.00 %\n",
            "fail accuracy = 0.00 %\n",
            "------------------------------------------------------------------------\n",
            "\n",
            " \n",
            "Classification Report\n",
            "\n",
            "              precision    recall  f1-score   support\n",
            "\n",
            "     BENIGNO       1.00      1.00      1.00      1498\n",
            "     MALIGNO       1.00      1.00      1.00      6006\n",
            "\n",
            "    accuracy                           1.00      7504\n",
            "   macro avg       1.00      1.00      1.00      7504\n",
            "weighted avg       1.00      1.00      1.00      7504\n",
            "\n",
            "Matríz de Confusión minkowski con N_NEIGHBORS = 6\n"
          ]
        },
        {
          "output_type": "display_data",
          "data": {
            "image/png": "[encoded data removed]",
            "text/plain": [
              "<Figure size 432x288 with 2 Axes>"
            ]
          },
          "metadata": {
            "needs_background": "light"
          }
        },
        {
          "output_type": "stream",
          "name": "stdout",
          "text": [
            "success accuracy = 99.96 %\n",
            "fail accuracy = 0.04 %\n",
            "------------------------------------------------------------------------\n",
            "\n",
            " \n",
            "Classification Report\n",
            "\n",
            "              precision    recall  f1-score   support\n",
            "\n",
            "     BENIGNO       1.00      1.00      1.00      1483\n",
            "     MALIGNO       1.00      1.00      1.00      6021\n",
            "\n",
            "    accuracy                           1.00      7504\n",
            "   macro avg       1.00      1.00      1.00      7504\n",
            "weighted avg       1.00      1.00      1.00      7504\n",
            "\n",
            "Matríz de Confusión euclidean con N_NEIGHBORS = 6\n"
          ]
        },
        {
          "output_type": "display_data",
          "data": {
            "image/png": "[encoded data removed]",
            "text/plain": [
              "<Figure size 432x288 with 2 Axes>"
            ]
          },
          "metadata": {
            "needs_background": "light"
          }
        },
        {
          "output_type": "stream",
          "name": "stdout",
          "text": [
            "success accuracy = 100.00 %\n",
            "fail accuracy = 0.00 %\n",
            "------------------------------------------------------------------------\n",
            "\n",
            " \n",
            "Classification Report\n",
            "\n",
            "              precision    recall  f1-score   support\n",
            "\n",
            "     BENIGNO       1.00      1.00      1.00      1521\n",
            "     MALIGNO       1.00      1.00      1.00      5983\n",
            "\n",
            "    accuracy                           1.00      7504\n",
            "   macro avg       1.00      1.00      1.00      7504\n",
            "weighted avg       1.00      1.00      1.00      7504\n",
            "\n",
            "Matríz de Confusión manhattan con N_NEIGHBORS = 6\n"
          ]
        },
        {
          "output_type": "display_data",
          "data": {
            "image/png": "[encoded data removed]",
            "text/plain": [
              "<Figure size 432x288 with 2 Axes>"
            ]
          },
          "metadata": {
            "needs_background": "light"
          }
        },
        {
          "output_type": "stream",
          "name": "stdout",
          "text": [
            "success accuracy = 99.99 %\n",
            "fail accuracy = 0.01 %\n",
            "------------------------------------------------------------------------\n",
            "\n",
            " \n",
            "Classification Report\n",
            "\n",
            "              precision    recall  f1-score   support\n",
            "\n",
            "     BENIGNO       1.00      1.00      1.00      1539\n",
            "     MALIGNO       1.00      1.00      1.00      5965\n",
            "\n",
            "    accuracy                           1.00      7504\n",
            "   macro avg       1.00      1.00      1.00      7504\n",
            "weighted avg       1.00      1.00      1.00      7504\n",
            "\n",
            "Matríz de Confusión chebyshev con N_NEIGHBORS = 6\n"
          ]
        },
        {
          "output_type": "display_data",
          "data": {
            "image/png": "[encoded data removed]",
            "text/plain": [
              "<Figure size 432x288 with 2 Axes>"
            ]
          },
          "metadata": {
            "needs_background": "light"
          }
        },
        {
          "output_type": "stream",
          "name": "stdout",
          "text": [
            "success accuracy = 99.99 %\n",
            "fail accuracy = 0.01 %\n",
            "------------------------------------------------------------------------\n",
            "\n",
            " \n",
            "Classification Report\n",
            "\n",
            "              precision    recall  f1-score   support\n",
            "\n",
            "     BENIGNO       1.00      1.00      1.00      1541\n",
            "     MALIGNO       1.00      1.00      1.00      5963\n",
            "\n",
            "    accuracy                           1.00      7504\n",
            "   macro avg       1.00      1.00      1.00      7504\n",
            "weighted avg       1.00      1.00      1.00      7504\n",
            "\n",
            "Matríz de Confusión minkowski con N_NEIGHBORS = 7\n"
          ]
        },
        {
          "output_type": "display_data",
          "data": {
            "image/png": "[encoded data removed]",
            "text/plain": [
              "<Figure size 432x288 with 2 Axes>"
            ]
          },
          "metadata": {
            "needs_background": "light"
          }
        },
        {
          "output_type": "stream",
          "name": "stdout",
          "text": [
            "success accuracy = 99.96 %\n",
            "fail accuracy = 0.04 %\n",
            "------------------------------------------------------------------------\n",
            "\n",
            " \n",
            "Classification Report\n",
            "\n",
            "              precision    recall  f1-score   support\n",
            "\n",
            "     BENIGNO       1.00      1.00      1.00      1519\n",
            "     MALIGNO       1.00      1.00      1.00      5985\n",
            "\n",
            "    accuracy                           1.00      7504\n",
            "   macro avg       1.00      1.00      1.00      7504\n",
            "weighted avg       1.00      1.00      1.00      7504\n",
            "\n",
            "Matríz de Confusión euclidean con N_NEIGHBORS = 7\n"
          ]
        },
        {
          "output_type": "display_data",
          "data": {
            "image/png": "[encoded data removed]",
            "text/plain": [
              "<Figure size 432x288 with 2 Axes>"
            ]
          },
          "metadata": {
            "needs_background": "light"
          }
        },
        {
          "output_type": "stream",
          "name": "stdout",
          "text": [
            "success accuracy = 99.99 %\n",
            "fail accuracy = 0.01 %\n",
            "------------------------------------------------------------------------\n",
            "\n",
            " \n",
            "Classification Report\n",
            "\n",
            "              precision    recall  f1-score   support\n",
            "\n",
            "     BENIGNO       1.00      1.00      1.00      1526\n",
            "     MALIGNO       1.00      1.00      1.00      5978\n",
            "\n",
            "    accuracy                           1.00      7504\n",
            "   macro avg       1.00      1.00      1.00      7504\n",
            "weighted avg       1.00      1.00      1.00      7504\n",
            "\n",
            "Matríz de Confusión manhattan con N_NEIGHBORS = 7\n"
          ]
        },
        {
          "output_type": "display_data",
          "data": {
            "image/png": "[encoded data removed]",
            "text/plain": [
              "<Figure size 432x288 with 2 Axes>"
            ]
          },
          "metadata": {
            "needs_background": "light"
          }
        },
        {
          "output_type": "stream",
          "name": "stdout",
          "text": [
            "success accuracy = 99.96 %\n",
            "fail accuracy = 0.04 %\n",
            "------------------------------------------------------------------------\n",
            "\n",
            " \n",
            "Classification Report\n",
            "\n",
            "              precision    recall  f1-score   support\n",
            "\n",
            "     BENIGNO       1.00      1.00      1.00      1472\n",
            "     MALIGNO       1.00      1.00      1.00      6032\n",
            "\n",
            "    accuracy                           1.00      7504\n",
            "   macro avg       1.00      1.00      1.00      7504\n",
            "weighted avg       1.00      1.00      1.00      7504\n",
            "\n",
            "Matríz de Confusión chebyshev con N_NEIGHBORS = 7\n"
          ]
        },
        {
          "output_type": "display_data",
          "data": {
            "image/png": "[encoded data removed]",
            "text/plain": [
              "<Figure size 432x288 with 2 Axes>"
            ]
          },
          "metadata": {
            "needs_background": "light"
          }
        },
        {
          "output_type": "stream",
          "name": "stdout",
          "text": [
            "success accuracy = 99.96 %\n",
            "fail accuracy = 0.04 %\n",
            "------------------------------------------------------------------------\n",
            "\n",
            " \n",
            "Classification Report\n",
            "\n",
            "              precision    recall  f1-score   support\n",
            "\n",
            "     BENIGNO       1.00      1.00      1.00      1465\n",
            "     MALIGNO       1.00      1.00      1.00      6039\n",
            "\n",
            "    accuracy                           1.00      7504\n",
            "   macro avg       1.00      1.00      1.00      7504\n",
            "weighted avg       1.00      1.00      1.00      7504\n",
            "\n"
          ]
        }
      ]
    },
    {
      "cell_type": "code",
      "source": [
        "from sklearn.tree import DecisionTreeClassifier\n",
        "for criterion in criterions:\n",
        "  X_flow_train, X_flow_test, y_flow_train, y_flow_test = train_test_split(X_flow, y_flow, test_size=0.2)\n",
        "\n",
        "  classifier = DecisionTreeClassifier(criterion=criterion, random_state=0)\n",
        "  flow_model = classifier.fit(X_flow_train, y_flow_train)\n",
        "  y_flow_pred = flow_model.predict(X_flow_test)\n",
        "\n",
        "  cm = confusion_matrix(y_flow_test, y_flow_pred)\n",
        "  \n",
        "\n",
        "  sns.heatmap(cm, annot=True, \n",
        "            cmap='Blues', fmt='d')\n",
        "  plt.show()\n",
        "  acc = accuracy_score(y_flow_test, y_flow_pred)\n",
        "\n",
        "  print(\"success accuracy = {0:.2f} %\".format(acc*100))\n",
        "  fail = 1.0 - acc\n",
        "  print(\"fail accuracy = {0:.2f} %\".format(fail*100))\n",
        "\n",
        "  print(\" \")\n",
        "  print('Classification Report')\n",
        "  target_names = list(['BENIGNO','MALIGNO'])\n",
        "  print('')\n",
        "  print(classification_report(y_flow_test, y_flow_pred, target_names=target_names))"
      ],
      "metadata": {
        "colab": {
          "base_uri": "https://localhost:8080/",
          "height": 1000
        },
        "id": "WZdCvm2SjI-K",
        "outputId": "dc239088-e767-45e4-b6ce-ecdff4c37487"
      },
      "execution_count": 40,
      "outputs": [
        {
          "output_type": "display_data",
          "data": {
            "image/png": "[encoded data removed]",
            "text/plain": [
              "<Figure size 432x288 with 2 Axes>"
            ]
          },
          "metadata": {
            "needs_background": "light"
          }
        },
        {
          "output_type": "stream",
          "name": "stdout",
          "text": [
            "success accuracy = 100.00 %\n",
            "fail accuracy = 0.00 %\n",
            " \n",
            "Classification Report\n",
            "\n",
            "              precision    recall  f1-score   support\n",
            "\n",
            "     BENIGNO       1.00      1.00      1.00      1491\n",
            "     MALIGNO       1.00      1.00      1.00      6013\n",
            "\n",
            "    accuracy                           1.00      7504\n",
            "   macro avg       1.00      1.00      1.00      7504\n",
            "weighted avg       1.00      1.00      1.00      7504\n",
            "\n"
          ]
        },
        {
          "output_type": "display_data",
          "data": {
            "image/png": "[encoded data removed]",
            "text/plain": [
              "<Figure size 432x288 with 2 Axes>"
            ]
          },
          "metadata": {
            "needs_background": "light"
          }
        },
        {
          "output_type": "stream",
          "name": "stdout",
          "text": [
            "success accuracy = 100.00 %\n",
            "fail accuracy = 0.00 %\n",
            " \n",
            "Classification Report\n",
            "\n",
            "              precision    recall  f1-score   support\n",
            "\n",
            "     BENIGNO       1.00      1.00      1.00      1484\n",
            "     MALIGNO       1.00      1.00      1.00      6020\n",
            "\n",
            "    accuracy                           1.00      7504\n",
            "   macro avg       1.00      1.00      1.00      7504\n",
            "weighted avg       1.00      1.00      1.00      7504\n",
            "\n"
          ]
        }
      ]
    },
    {
      "cell_type": "code",
      "source": [
        ""
      ],
      "metadata": {
        "id": "Fy4JL6n70R3m"
      },
      "execution_count": null,
      "outputs": []
    }
  ]
}