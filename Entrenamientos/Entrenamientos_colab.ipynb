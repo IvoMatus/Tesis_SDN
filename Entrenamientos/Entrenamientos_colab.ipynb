{
  "nbformat": 4,
  "nbformat_minor": 0,
  "metadata": {
    "colab": {
      "name": "Entrenamientos_colab.ipynb",
      "provenance": [],
      "collapsed_sections": []
    },
    "kernelspec": {
      "name": "python3",
      "display_name": "Python 3"
    },
    "language_info": {
      "name": "python"
    }
  },
  "cells": [
    {
      "cell_type": "code",
      "metadata": {
        "colab": {
          "base_uri": "https://localhost:8080/"
        },
        "id": "ud0qYhkNbaho",
        "outputId": "f694a07c-b7c0-4395-e11d-351139291aca"
      },
      "source": [
        "from google.colab import drive\n",
        "drive.mount('/content/gdrive')"
      ],
      "execution_count": 1,
      "outputs": [
        {
          "output_type": "stream",
          "name": "stdout",
          "text": [
            "Mounted at /content/gdrive\n"
          ]
        }
      ]
    },
    {
      "cell_type": "code",
      "metadata": {
        "id": "Bt5MJ8Ltbelc"
      },
      "source": [
        "import pandas as pd\n",
        "import numpy as np"
      ],
      "execution_count": 2,
      "outputs": []
    },
    {
      "cell_type": "code",
      "metadata": {
        "id": "pCukRDlR8-xJ"
      },
      "source": [
        ""
      ],
      "execution_count": null,
      "outputs": []
    },
    {
      "cell_type": "code",
      "metadata": {
        "id": "71ma8rPSblyw"
      },
      "source": [
        "dataset = pd.read_csv(\"/content/gdrive/MyDrive/dataset_ivo.csv\", low_memory=False)"
      ],
      "execution_count": 4,
      "outputs": []
    },
    {
      "cell_type": "code",
      "metadata": {
        "id": "T8isisodb3bk"
      },
      "source": [
        "#dataset.columns\n"
      ],
      "execution_count": null,
      "outputs": []
    },
    {
      "cell_type": "code",
      "metadata": {
        "id": "uZNy8LsBcP2A",
        "colab": {
          "base_uri": "https://localhost:8080/",
          "height": 419
        },
        "outputId": "9ebf8bc1-8b11-439c-d494-95f842e5ee56"
      },
      "source": [
        "dataset"
      ],
      "execution_count": 5,
      "outputs": [
        {
          "output_type": "execute_result",
          "data": {
            "text/html": [
              "<div>\n",
              "<style scoped>\n",
              "    .dataframe tbody tr th:only-of-type {\n",
              "        vertical-align: middle;\n",
              "    }\n",
              "\n",
              "    .dataframe tbody tr th {\n",
              "        vertical-align: top;\n",
              "    }\n",
              "\n",
              "    .dataframe thead th {\n",
              "        text-align: right;\n",
              "    }\n",
              "</style>\n",
              "<table border=\"1\" class=\"dataframe\">\n",
              "  <thead>\n",
              "    <tr style=\"text-align: right;\">\n",
              "      <th></th>\n",
              "      <th>datapath_id</th>\n",
              "      <th>ip_src</th>\n",
              "      <th>tp_src</th>\n",
              "      <th>ip_dst</th>\n",
              "      <th>tp_dst</th>\n",
              "      <th>ip_proto</th>\n",
              "      <th>icmp_code</th>\n",
              "      <th>icmp_type</th>\n",
              "      <th>flow_duration_sec</th>\n",
              "      <th>flags</th>\n",
              "      <th>packet_count</th>\n",
              "      <th>byte_count</th>\n",
              "      <th>packet_count_per_second</th>\n",
              "      <th>packet_count_per_nanosec</th>\n",
              "      <th>byte_count_per_nanosec</th>\n",
              "      <th>label</th>\n",
              "    </tr>\n",
              "  </thead>\n",
              "  <tbody>\n",
              "    <tr>\n",
              "      <th>0</th>\n",
              "      <td>4</td>\n",
              "      <td>10.0.0.4</td>\n",
              "      <td>0</td>\n",
              "      <td>10.0.0.1</td>\n",
              "      <td>0</td>\n",
              "      <td>1</td>\n",
              "      <td>0</td>\n",
              "      <td>0</td>\n",
              "      <td>2</td>\n",
              "      <td>0</td>\n",
              "      <td>24</td>\n",
              "      <td>2928</td>\n",
              "      <td>0</td>\n",
              "      <td>0</td>\n",
              "      <td>5.545454545454545e-06</td>\n",
              "      <td>1</td>\n",
              "    </tr>\n",
              "    <tr>\n",
              "      <th>1</th>\n",
              "      <td>4</td>\n",
              "      <td>10.0.0.1</td>\n",
              "      <td>0</td>\n",
              "      <td>10.0.0.4</td>\n",
              "      <td>0</td>\n",
              "      <td>1</td>\n",
              "      <td>0</td>\n",
              "      <td>8</td>\n",
              "      <td>2</td>\n",
              "      <td>0</td>\n",
              "      <td>24</td>\n",
              "      <td>2928</td>\n",
              "      <td>0</td>\n",
              "      <td>0</td>\n",
              "      <td>5.534971644612476e-06</td>\n",
              "      <td>1</td>\n",
              "    </tr>\n",
              "    <tr>\n",
              "      <th>2</th>\n",
              "      <td>3</td>\n",
              "      <td>10.0.0.4</td>\n",
              "      <td>0</td>\n",
              "      <td>10.0.0.1</td>\n",
              "      <td>0</td>\n",
              "      <td>1</td>\n",
              "      <td>0</td>\n",
              "      <td>0</td>\n",
              "      <td>2</td>\n",
              "      <td>0</td>\n",
              "      <td>24</td>\n",
              "      <td>2928</td>\n",
              "      <td>0</td>\n",
              "      <td>0</td>\n",
              "      <td>5.555977229601518e-06</td>\n",
              "      <td>1</td>\n",
              "    </tr>\n",
              "    <tr>\n",
              "      <th>3</th>\n",
              "      <td>2</td>\n",
              "      <td>10.0.0.1</td>\n",
              "      <td>0</td>\n",
              "      <td>10.0.0.4</td>\n",
              "      <td>0</td>\n",
              "      <td>1</td>\n",
              "      <td>0</td>\n",
              "      <td>8</td>\n",
              "      <td>2</td>\n",
              "      <td>0</td>\n",
              "      <td>24</td>\n",
              "      <td>2928</td>\n",
              "      <td>0</td>\n",
              "      <td>0</td>\n",
              "      <td>5.514124293785311e-06</td>\n",
              "      <td>1</td>\n",
              "    </tr>\n",
              "    <tr>\n",
              "      <th>4</th>\n",
              "      <td>4</td>\n",
              "      <td>10.0.0.1</td>\n",
              "      <td>0</td>\n",
              "      <td>10.0.0.4</td>\n",
              "      <td>0</td>\n",
              "      <td>1</td>\n",
              "      <td>0</td>\n",
              "      <td>8</td>\n",
              "      <td>12</td>\n",
              "      <td>0</td>\n",
              "      <td>124</td>\n",
              "      <td>15128</td>\n",
              "      <td>0</td>\n",
              "      <td>0</td>\n",
              "      <td>2.843609022556391e-05</td>\n",
              "      <td>1</td>\n",
              "    </tr>\n",
              "    <tr>\n",
              "      <th>...</th>\n",
              "      <td>...</td>\n",
              "      <td>...</td>\n",
              "      <td>...</td>\n",
              "      <td>...</td>\n",
              "      <td>...</td>\n",
              "      <td>...</td>\n",
              "      <td>...</td>\n",
              "      <td>...</td>\n",
              "      <td>...</td>\n",
              "      <td>...</td>\n",
              "      <td>...</td>\n",
              "      <td>...</td>\n",
              "      <td>...</td>\n",
              "      <td>...</td>\n",
              "      <td>...</td>\n",
              "      <td>...</td>\n",
              "    </tr>\n",
              "    <tr>\n",
              "      <th>37512</th>\n",
              "      <td>2</td>\n",
              "      <td>81.198.226.242</td>\n",
              "      <td>3672</td>\n",
              "      <td>10.0.0.2</td>\n",
              "      <td>0</td>\n",
              "      <td>6</td>\n",
              "      <td>-1</td>\n",
              "      <td>-1</td>\n",
              "      <td>0</td>\n",
              "      <td>0</td>\n",
              "      <td>0</td>\n",
              "      <td>0</td>\n",
              "      <td>0</td>\n",
              "      <td>0</td>\n",
              "      <td>0.0</td>\n",
              "      <td>1</td>\n",
              "    </tr>\n",
              "    <tr>\n",
              "      <th>37513</th>\n",
              "      <td>2</td>\n",
              "      <td>82.210.216.138</td>\n",
              "      <td>3732</td>\n",
              "      <td>10.0.0.2</td>\n",
              "      <td>0</td>\n",
              "      <td>6</td>\n",
              "      <td>-1</td>\n",
              "      <td>-1</td>\n",
              "      <td>0</td>\n",
              "      <td>0</td>\n",
              "      <td>0</td>\n",
              "      <td>0</td>\n",
              "      <td>0</td>\n",
              "      <td>0</td>\n",
              "      <td>0.0</td>\n",
              "      <td>1</td>\n",
              "    </tr>\n",
              "    <tr>\n",
              "      <th>37514</th>\n",
              "      <td>2</td>\n",
              "      <td>83.233.209.218</td>\n",
              "      <td>3725</td>\n",
              "      <td>10.0.0.2</td>\n",
              "      <td>0</td>\n",
              "      <td>6</td>\n",
              "      <td>-1</td>\n",
              "      <td>-1</td>\n",
              "      <td>0</td>\n",
              "      <td>0</td>\n",
              "      <td>0</td>\n",
              "      <td>0</td>\n",
              "      <td>0</td>\n",
              "      <td>0</td>\n",
              "      <td>0.0</td>\n",
              "      <td>1</td>\n",
              "    </tr>\n",
              "    <tr>\n",
              "      <th>37515</th>\n",
              "      <td>2</td>\n",
              "      <td>9.233.176.107</td>\n",
              "      <td>3700</td>\n",
              "      <td>10.0.0.2</td>\n",
              "      <td>0</td>\n",
              "      <td>6</td>\n",
              "      <td>-1</td>\n",
              "      <td>-1</td>\n",
              "      <td>0</td>\n",
              "      <td>0</td>\n",
              "      <td>0</td>\n",
              "      <td>0</td>\n",
              "      <td>0</td>\n",
              "      <td>0</td>\n",
              "      <td>0.0</td>\n",
              "      <td>1</td>\n",
              "    </tr>\n",
              "    <tr>\n",
              "      <th>37516</th>\n",
              "      <td>2</td>\n",
              "      <td>95.212.242.126</td>\n",
              "      <td>3662</td>\n",
              "      <td>10.0.0.2</td>\n",
              "      <td>0</td>\n",
              "      <td>6</td>\n",
              "      <td>-1</td>\n",
              "      <td>-1</td>\n",
              "      <td>0</td>\n",
              "      <td>0</td>\n",
              "      <td>0</td>\n",
              "      <td>0</td>\n",
              "      <td>0</td>\n",
              "      <td>0</td>\n",
              "      <td>0.0</td>\n",
              "      <td>1</td>\n",
              "    </tr>\n",
              "  </tbody>\n",
              "</table>\n",
              "<p>37517 rows × 16 columns</p>\n",
              "</div>"
            ],
            "text/plain": [
              "       datapath_id          ip_src  ...  byte_count_per_nanosec label\n",
              "0                4        10.0.0.4  ...   5.545454545454545e-06     1\n",
              "1                4        10.0.0.1  ...   5.534971644612476e-06     1\n",
              "2                3        10.0.0.4  ...   5.555977229601518e-06     1\n",
              "3                2        10.0.0.1  ...   5.514124293785311e-06     1\n",
              "4                4        10.0.0.1  ...   2.843609022556391e-05     1\n",
              "...            ...             ...  ...                     ...   ...\n",
              "37512            2  81.198.226.242  ...                     0.0     1\n",
              "37513            2  82.210.216.138  ...                     0.0     1\n",
              "37514            2  83.233.209.218  ...                     0.0     1\n",
              "37515            2   9.233.176.107  ...                     0.0     1\n",
              "37516            2  95.212.242.126  ...                     0.0     1\n",
              "\n",
              "[37517 rows x 16 columns]"
            ]
          },
          "metadata": {},
          "execution_count": 5
        }
      ]
    },
    {
      "cell_type": "code",
      "metadata": {
        "id": "RVQ1OvDgzBDw"
      },
      "source": [
        ""
      ],
      "execution_count": 5,
      "outputs": []
    },
    {
      "cell_type": "code",
      "metadata": {
        "id": "_Z_BG1ShzBBO"
      },
      "source": [
        ""
      ],
      "execution_count": 5,
      "outputs": []
    },
    {
      "cell_type": "code",
      "metadata": {
        "id": "dMzys2SGzA-m"
      },
      "source": [
        ""
      ],
      "execution_count": 5,
      "outputs": []
    },
    {
      "cell_type": "markdown",
      "metadata": {
        "id": "Noi6lIpJmkjx"
      },
      "source": [
        "##KNN"
      ]
    },
    {
      "cell_type": "code",
      "metadata": {
        "id": "5-RS10Wger28"
      },
      "source": [
        "\n",
        "from sklearn.model_selection import train_test_split\n",
        "from sklearn.neighbors import KNeighborsClassifier\n",
        "from sklearn.metrics import confusion_matrix,classification_report\n",
        "from sklearn.metrics import accuracy_score\n",
        "import matplotlib.pyplot as plt\n",
        "import seaborn as sns\n",
        "\n",
        "\n",
        "dataset.iloc[:, 1] = dataset.iloc[:, 1].str.replace('.', '')\n",
        "dataset.iloc[:, 3] = dataset.iloc[:, 3].str.replace('.', '')\n",
        "dataset.iloc[:, -2] = dataset.iloc[:,-2].str.replace(\",\",\"\")\n",
        "\n",
        "X_flow = dataset.iloc[:, :-1].values\n",
        "X_flow = X_flow.astype('float32')\n",
        "y_flow = dataset.iloc[:, -1].values\n",
        "\n",
        "X_flow_train, X_flow_test, y_flow_train, y_flow_test = train_test_split(X_flow, y_flow, test_size=0.20, random_state=0)\n"
      ],
      "execution_count": 6,
      "outputs": []
    },
    {
      "cell_type": "code",
      "metadata": {
        "colab": {
          "base_uri": "https://localhost:8080/",
          "height": 1000
        },
        "id": "6FROFdOledEE",
        "outputId": "ec9db03c-a222-4d48-913c-e7f55c6f5903"
      },
      "source": [
        "metrics = ['minkowski','euclidean','manhattan','chebyshev']\n",
        "for i in range(1,8):\n",
        "  for metric in metrics:\n",
        "    X_flow_train, X_flow_test, y_flow_train, y_flow_test = train_test_split(X_flow, y_flow, test_size=0.2)\n",
        "    classifier = KNeighborsClassifier(n_neighbors=i, metric=metric)\n",
        "    flow_model = classifier.fit(X_flow_train, y_flow_train)\n",
        "    y_flow_pred = flow_model.predict(X_flow_test)\n",
        "    print(f\"Matríz de Confusión {metric} con N_NEIGHBORS = {i}\")\n",
        "    cm = confusion_matrix(y_flow_test, y_flow_pred)\n",
        "\n",
        "    sns.heatmap(cm, annot=True, \n",
        "              cmap='Blues', fmt='d')\n",
        "    plt.show()\n",
        "\n",
        "    acc = accuracy_score(y_flow_test, y_flow_pred)\n",
        "\n",
        "    print(\"success accuracy = {0:.02f} %\".format(acc*100))\n",
        "    fail = 1.0 - acc\n",
        "    print(\"fail accuracy = {0:.02f} %\".format(fail*100))\n",
        "    print(\"------------------------------------------------------------------------\")\n",
        "    print(\"\")\n",
        "    print(\" \")\n",
        "    print('Classification Report')\n",
        "    target_names = list(['BENIGNO','MALIGNO'])\n",
        "    print('')\n",
        "    print(classification_report(y_flow_test, y_flow_pred, target_names=target_names))\n",
        "\n"
      ],
      "execution_count": 18,
      "outputs": [
        {
          "output_type": "stream",
          "name": "stdout",
          "text": [
            "Matríz de Confusión minkowski con N_NEIGHBORS = 1\n"
          ]
        },
        {
          "output_type": "display_data",
          "data": {
            "image/png": "[encoded data removed]",
            "text/plain": [
              "<Figure size 432x288 with 2 Axes>"
            ]
          },
          "metadata": {
            "needs_background": "light"
          }
        },
        {
          "output_type": "stream",
          "name": "stdout",
          "text": [
            "success accuracy = 100.00 %\n",
            "fail accuracy = 0.00 %\n",
            "------------------------------------------------------------------------\n",
            "\n",
            " \n",
            "Classification Report\n",
            "\n",
            "              precision    recall  f1-score   support\n",
            "\n",
            "     BENIGNO       1.00      1.00      1.00      1544\n",
            "     MALIGNO       1.00      1.00      1.00      5960\n",
            "\n",
            "    accuracy                           1.00      7504\n",
            "   macro avg       1.00      1.00      1.00      7504\n",
            "weighted avg       1.00      1.00      1.00      7504\n",
            "\n",
            "Matríz de Confusión euclidean con N_NEIGHBORS = 1\n"
          ]
        },
        {
          "output_type": "display_data",
          "data": {
            "image/png": "[encoded data removed]",
            "text/plain": [
              "<Figure size 432x288 with 2 Axes>"
            ]
          },
          "metadata": {
            "needs_background": "light"
          }
        },
        {
          "output_type": "stream",
          "name": "stdout",
          "text": [
            "success accuracy = 100.00 %\n",
            "fail accuracy = 0.00 %\n",
            "------------------------------------------------------------------------\n",
            "\n",
            " \n",
            "Classification Report\n",
            "\n",
            "              precision    recall  f1-score   support\n",
            "\n",
            "     BENIGNO       1.00      1.00      1.00      1508\n",
            "     MALIGNO       1.00      1.00      1.00      5996\n",
            "\n",
            "    accuracy                           1.00      7504\n",
            "   macro avg       1.00      1.00      1.00      7504\n",
            "weighted avg       1.00      1.00      1.00      7504\n",
            "\n",
            "Matríz de Confusión manhattan con N_NEIGHBORS = 1\n"
          ]
        },
        {
          "output_type": "display_data",
          "data": {
            "image/png": "[encoded data removed]",
            "text/plain": [
              "<Figure size 432x288 with 2 Axes>"
            ]
          },
          "metadata": {
            "needs_background": "light"
          }
        },
        {
          "output_type": "stream",
          "name": "stdout",
          "text": [
            "success accuracy = 100.00 %\n",
            "fail accuracy = 0.00 %\n",
            "------------------------------------------------------------------------\n",
            "\n",
            " \n",
            "Classification Report\n",
            "\n",
            "              precision    recall  f1-score   support\n",
            "\n",
            "     BENIGNO       1.00      1.00      1.00      1470\n",
            "     MALIGNO       1.00      1.00      1.00      6034\n",
            "\n",
            "    accuracy                           1.00      7504\n",
            "   macro avg       1.00      1.00      1.00      7504\n",
            "weighted avg       1.00      1.00      1.00      7504\n",
            "\n",
            "Matríz de Confusión chebyshev con N_NEIGHBORS = 1\n"
          ]
        },
        {
          "output_type": "display_data",
          "data": {
            "image/png": "[encoded data removed]",
            "text/plain": [
              "<Figure size 432x288 with 2 Axes>"
            ]
          },
          "metadata": {
            "needs_background": "light"
          }
        },
        {
          "output_type": "stream",
          "name": "stdout",
          "text": [
            "success accuracy = 100.00 %\n",
            "fail accuracy = 0.00 %\n",
            "------------------------------------------------------------------------\n",
            "\n",
            " \n",
            "Classification Report\n",
            "\n",
            "              precision    recall  f1-score   support\n",
            "\n",
            "     BENIGNO       1.00      1.00      1.00      1491\n",
            "     MALIGNO       1.00      1.00      1.00      6013\n",
            "\n",
            "    accuracy                           1.00      7504\n",
            "   macro avg       1.00      1.00      1.00      7504\n",
            "weighted avg       1.00      1.00      1.00      7504\n",
            "\n",
            "Matríz de Confusión minkowski con N_NEIGHBORS = 2\n"
          ]
        },
        {
          "output_type": "display_data",
          "data": {
            "image/png": "[encoded data removed]",
            "text/plain": [
              "<Figure size 432x288 with 2 Axes>"
            ]
          },
          "metadata": {
            "needs_background": "light"
          }
        },
        {
          "output_type": "stream",
          "name": "stdout",
          "text": [
            "success accuracy = 100.00 %\n",
            "fail accuracy = 0.00 %\n",
            "------------------------------------------------------------------------\n",
            "\n",
            " \n",
            "Classification Report\n",
            "\n",
            "              precision    recall  f1-score   support\n",
            "\n",
            "     BENIGNO       1.00      1.00      1.00      1506\n",
            "     MALIGNO       1.00      1.00      1.00      5998\n",
            "\n",
            "    accuracy                           1.00      7504\n",
            "   macro avg       1.00      1.00      1.00      7504\n",
            "weighted avg       1.00      1.00      1.00      7504\n",
            "\n",
            "Matríz de Confusión euclidean con N_NEIGHBORS = 2\n"
          ]
        },
        {
          "output_type": "display_data",
          "data": {
            "image/png": "[encoded data removed]",
            "text/plain": [
              "<Figure size 432x288 with 2 Axes>"
            ]
          },
          "metadata": {
            "needs_background": "light"
          }
        },
        {
          "output_type": "stream",
          "name": "stdout",
          "text": [
            "success accuracy = 99.96 %\n",
            "fail accuracy = 0.04 %\n",
            "------------------------------------------------------------------------\n",
            "\n",
            " \n",
            "Classification Report\n",
            "\n",
            "              precision    recall  f1-score   support\n",
            "\n",
            "     BENIGNO       1.00      1.00      1.00      1523\n",
            "     MALIGNO       1.00      1.00      1.00      5981\n",
            "\n",
            "    accuracy                           1.00      7504\n",
            "   macro avg       1.00      1.00      1.00      7504\n",
            "weighted avg       1.00      1.00      1.00      7504\n",
            "\n",
            "Matríz de Confusión manhattan con N_NEIGHBORS = 2\n"
          ]
        },
        {
          "output_type": "display_data",
          "data": {
            "image/png": "[encoded data removed]",
            "text/plain": [
              "<Figure size 432x288 with 2 Axes>"
            ]
          },
          "metadata": {
            "needs_background": "light"
          }
        },
        {
          "output_type": "stream",
          "name": "stdout",
          "text": [
            "success accuracy = 99.96 %\n",
            "fail accuracy = 0.04 %\n",
            "------------------------------------------------------------------------\n",
            "\n",
            " \n",
            "Classification Report\n",
            "\n",
            "              precision    recall  f1-score   support\n",
            "\n",
            "     BENIGNO       1.00      1.00      1.00      1481\n",
            "     MALIGNO       1.00      1.00      1.00      6023\n",
            "\n",
            "    accuracy                           1.00      7504\n",
            "   macro avg       1.00      1.00      1.00      7504\n",
            "weighted avg       1.00      1.00      1.00      7504\n",
            "\n",
            "Matríz de Confusión chebyshev con N_NEIGHBORS = 2\n"
          ]
        },
        {
          "output_type": "display_data",
          "data": {
            "image/png": "[encoded data removed]",
            "text/plain": [
              "<Figure size 432x288 with 2 Axes>"
            ]
          },
          "metadata": {
            "needs_background": "light"
          }
        },
        {
          "output_type": "stream",
          "name": "stdout",
          "text": [
            "success accuracy = 100.00 %\n",
            "fail accuracy = 0.00 %\n",
            "------------------------------------------------------------------------\n",
            "\n",
            " \n",
            "Classification Report\n",
            "\n",
            "              precision    recall  f1-score   support\n",
            "\n",
            "     BENIGNO       1.00      1.00      1.00      1538\n",
            "     MALIGNO       1.00      1.00      1.00      5966\n",
            "\n",
            "    accuracy                           1.00      7504\n",
            "   macro avg       1.00      1.00      1.00      7504\n",
            "weighted avg       1.00      1.00      1.00      7504\n",
            "\n",
            "Matríz de Confusión minkowski con N_NEIGHBORS = 3\n"
          ]
        },
        {
          "output_type": "display_data",
          "data": {
            "image/png": "[encoded data removed]",
            "text/plain": [
              "<Figure size 432x288 with 2 Axes>"
            ]
          },
          "metadata": {
            "needs_background": "light"
          }
        },
        {
          "output_type": "stream",
          "name": "stdout",
          "text": [
            "success accuracy = 100.00 %\n",
            "fail accuracy = 0.00 %\n",
            "------------------------------------------------------------------------\n",
            "\n",
            " \n",
            "Classification Report\n",
            "\n",
            "              precision    recall  f1-score   support\n",
            "\n",
            "     BENIGNO       1.00      1.00      1.00      1430\n",
            "     MALIGNO       1.00      1.00      1.00      6074\n",
            "\n",
            "    accuracy                           1.00      7504\n",
            "   macro avg       1.00      1.00      1.00      7504\n",
            "weighted avg       1.00      1.00      1.00      7504\n",
            "\n",
            "Matríz de Confusión euclidean con N_NEIGHBORS = 3\n"
          ]
        },
        {
          "output_type": "display_data",
          "data": {
            "image/png": "[encoded data removed]",
            "text/plain": [
              "<Figure size 432x288 with 2 Axes>"
            ]
          },
          "metadata": {
            "needs_background": "light"
          }
        },
        {
          "output_type": "stream",
          "name": "stdout",
          "text": [
            "success accuracy = 100.00 %\n",
            "fail accuracy = 0.00 %\n",
            "------------------------------------------------------------------------\n",
            "\n",
            " \n",
            "Classification Report\n",
            "\n",
            "              precision    recall  f1-score   support\n",
            "\n",
            "     BENIGNO       1.00      1.00      1.00      1484\n",
            "     MALIGNO       1.00      1.00      1.00      6020\n",
            "\n",
            "    accuracy                           1.00      7504\n",
            "   macro avg       1.00      1.00      1.00      7504\n",
            "weighted avg       1.00      1.00      1.00      7504\n",
            "\n",
            "Matríz de Confusión manhattan con N_NEIGHBORS = 3\n"
          ]
        },
        {
          "output_type": "display_data",
          "data": {
            "image/png": "[encoded data removed]",
            "text/plain": [
              "<Figure size 432x288 with 2 Axes>"
            ]
          },
          "metadata": {
            "needs_background": "light"
          }
        },
        {
          "output_type": "stream",
          "name": "stdout",
          "text": [
            "success accuracy = 100.00 %\n",
            "fail accuracy = 0.00 %\n",
            "------------------------------------------------------------------------\n",
            "\n",
            " \n",
            "Classification Report\n",
            "\n",
            "              precision    recall  f1-score   support\n",
            "\n",
            "     BENIGNO       1.00      1.00      1.00      1529\n",
            "     MALIGNO       1.00      1.00      1.00      5975\n",
            "\n",
            "    accuracy                           1.00      7504\n",
            "   macro avg       1.00      1.00      1.00      7504\n",
            "weighted avg       1.00      1.00      1.00      7504\n",
            "\n",
            "Matríz de Confusión chebyshev con N_NEIGHBORS = 3\n"
          ]
        },
        {
          "output_type": "display_data",
          "data": {
            "image/png": "[encoded data removed]",
            "text/plain": [
              "<Figure size 432x288 with 2 Axes>"
            ]
          },
          "metadata": {
            "needs_background": "light"
          }
        },
        {
          "output_type": "stream",
          "name": "stdout",
          "text": [
            "success accuracy = 100.00 %\n",
            "fail accuracy = 0.00 %\n",
            "------------------------------------------------------------------------\n",
            "\n",
            " \n",
            "Classification Report\n",
            "\n",
            "              precision    recall  f1-score   support\n",
            "\n",
            "     BENIGNO       1.00      1.00      1.00      1477\n",
            "     MALIGNO       1.00      1.00      1.00      6027\n",
            "\n",
            "    accuracy                           1.00      7504\n",
            "   macro avg       1.00      1.00      1.00      7504\n",
            "weighted avg       1.00      1.00      1.00      7504\n",
            "\n",
            "Matríz de Confusión minkowski con N_NEIGHBORS = 4\n"
          ]
        },
        {
          "output_type": "display_data",
          "data": {
            "image/png": "[encoded data removed]",
            "text/plain": [
              "<Figure size 432x288 with 2 Axes>"
            ]
          },
          "metadata": {
            "needs_background": "light"
          }
        },
        {
          "output_type": "stream",
          "name": "stdout",
          "text": [
            "success accuracy = 100.00 %\n",
            "fail accuracy = 0.00 %\n",
            "------------------------------------------------------------------------\n",
            "\n",
            " \n",
            "Classification Report\n",
            "\n",
            "              precision    recall  f1-score   support\n",
            "\n",
            "     BENIGNO       1.00      1.00      1.00      1491\n",
            "     MALIGNO       1.00      1.00      1.00      6013\n",
            "\n",
            "    accuracy                           1.00      7504\n",
            "   macro avg       1.00      1.00      1.00      7504\n",
            "weighted avg       1.00      1.00      1.00      7504\n",
            "\n",
            "Matríz de Confusión euclidean con N_NEIGHBORS = 4\n"
          ]
        },
        {
          "output_type": "display_data",
          "data": {
            "image/png": "[encoded data removed]",
            "text/plain": [
              "<Figure size 432x288 with 2 Axes>"
            ]
          },
          "metadata": {
            "needs_background": "light"
          }
        },
        {
          "output_type": "stream",
          "name": "stdout",
          "text": [
            "success accuracy = 100.00 %\n",
            "fail accuracy = 0.00 %\n",
            "------------------------------------------------------------------------\n",
            "\n",
            " \n",
            "Classification Report\n",
            "\n",
            "              precision    recall  f1-score   support\n",
            "\n",
            "     BENIGNO       1.00      1.00      1.00      1520\n",
            "     MALIGNO       1.00      1.00      1.00      5984\n",
            "\n",
            "    accuracy                           1.00      7504\n",
            "   macro avg       1.00      1.00      1.00      7504\n",
            "weighted avg       1.00      1.00      1.00      7504\n",
            "\n",
            "Matríz de Confusión manhattan con N_NEIGHBORS = 4\n"
          ]
        },
        {
          "output_type": "display_data",
          "data": {
            "image/png": "[encoded data removed]",
            "text/plain": [
              "<Figure size 432x288 with 2 Axes>"
            ]
          },
          "metadata": {
            "needs_background": "light"
          }
        },
        {
          "output_type": "stream",
          "name": "stdout",
          "text": [
            "success accuracy = 99.97 %\n",
            "fail accuracy = 0.03 %\n",
            "------------------------------------------------------------------------\n",
            "\n",
            " \n",
            "Classification Report\n",
            "\n",
            "              precision    recall  f1-score   support\n",
            "\n",
            "     BENIGNO       1.00      1.00      1.00      1452\n",
            "     MALIGNO       1.00      1.00      1.00      6052\n",
            "\n",
            "    accuracy                           1.00      7504\n",
            "   macro avg       1.00      1.00      1.00      7504\n",
            "weighted avg       1.00      1.00      1.00      7504\n",
            "\n",
            "Matríz de Confusión chebyshev con N_NEIGHBORS = 4\n"
          ]
        },
        {
          "output_type": "display_data",
          "data": {
            "image/png": "[encoded data removed]",
            "text/plain": [
              "<Figure size 432x288 with 2 Axes>"
            ]
          },
          "metadata": {
            "needs_background": "light"
          }
        },
        {
          "output_type": "stream",
          "name": "stdout",
          "text": [
            "success accuracy = 99.96 %\n",
            "fail accuracy = 0.04 %\n",
            "------------------------------------------------------------------------\n",
            "\n",
            " \n",
            "Classification Report\n",
            "\n",
            "              precision    recall  f1-score   support\n",
            "\n",
            "     BENIGNO       1.00      1.00      1.00      1426\n",
            "     MALIGNO       1.00      1.00      1.00      6078\n",
            "\n",
            "    accuracy                           1.00      7504\n",
            "   macro avg       1.00      1.00      1.00      7504\n",
            "weighted avg       1.00      1.00      1.00      7504\n",
            "\n",
            "Matríz de Confusión minkowski con N_NEIGHBORS = 5\n"
          ]
        },
        {
          "output_type": "display_data",
          "data": {
            "image/png": "[encoded data removed]",
            "text/plain": [
              "<Figure size 432x288 with 2 Axes>"
            ]
          },
          "metadata": {
            "needs_background": "light"
          }
        },
        {
          "output_type": "stream",
          "name": "stdout",
          "text": [
            "success accuracy = 100.00 %\n",
            "fail accuracy = 0.00 %\n",
            "------------------------------------------------------------------------\n",
            "\n",
            " \n",
            "Classification Report\n",
            "\n",
            "              precision    recall  f1-score   support\n",
            "\n",
            "     BENIGNO       1.00      1.00      1.00      1477\n",
            "     MALIGNO       1.00      1.00      1.00      6027\n",
            "\n",
            "    accuracy                           1.00      7504\n",
            "   macro avg       1.00      1.00      1.00      7504\n",
            "weighted avg       1.00      1.00      1.00      7504\n",
            "\n",
            "Matríz de Confusión euclidean con N_NEIGHBORS = 5\n"
          ]
        },
        {
          "output_type": "display_data",
          "data": {
            "image/png": "[encoded data removed]",
            "text/plain": [
              "<Figure size 432x288 with 2 Axes>"
            ]
          },
          "metadata": {
            "needs_background": "light"
          }
        },
        {
          "output_type": "stream",
          "name": "stdout",
          "text": [
            "success accuracy = 99.97 %\n",
            "fail accuracy = 0.03 %\n",
            "------------------------------------------------------------------------\n",
            "\n",
            " \n",
            "Classification Report\n",
            "\n",
            "              precision    recall  f1-score   support\n",
            "\n",
            "     BENIGNO       1.00      1.00      1.00      1535\n",
            "     MALIGNO       1.00      1.00      1.00      5969\n",
            "\n",
            "    accuracy                           1.00      7504\n",
            "   macro avg       1.00      1.00      1.00      7504\n",
            "weighted avg       1.00      1.00      1.00      7504\n",
            "\n",
            "Matríz de Confusión manhattan con N_NEIGHBORS = 5\n"
          ]
        },
        {
          "output_type": "display_data",
          "data": {
            "image/png": "[encoded data removed]",
            "text/plain": [
              "<Figure size 432x288 with 2 Axes>"
            ]
          },
          "metadata": {
            "needs_background": "light"
          }
        },
        {
          "output_type": "stream",
          "name": "stdout",
          "text": [
            "success accuracy = 99.97 %\n",
            "fail accuracy = 0.03 %\n",
            "------------------------------------------------------------------------\n",
            "\n",
            " \n",
            "Classification Report\n",
            "\n",
            "              precision    recall  f1-score   support\n",
            "\n",
            "     BENIGNO       1.00      1.00      1.00      1468\n",
            "     MALIGNO       1.00      1.00      1.00      6036\n",
            "\n",
            "    accuracy                           1.00      7504\n",
            "   macro avg       1.00      1.00      1.00      7504\n",
            "weighted avg       1.00      1.00      1.00      7504\n",
            "\n",
            "Matríz de Confusión chebyshev con N_NEIGHBORS = 5\n"
          ]
        },
        {
          "output_type": "display_data",
          "data": {
            "image/png": "[encoded data removed]",
            "text/plain": [
              "<Figure size 432x288 with 2 Axes>"
            ]
          },
          "metadata": {
            "needs_background": "light"
          }
        },
        {
          "output_type": "stream",
          "name": "stdout",
          "text": [
            "success accuracy = 100.00 %\n",
            "fail accuracy = 0.00 %\n",
            "------------------------------------------------------------------------\n",
            "\n",
            " \n",
            "Classification Report\n",
            "\n",
            "              precision    recall  f1-score   support\n",
            "\n",
            "     BENIGNO       1.00      1.00      1.00      1498\n",
            "     MALIGNO       1.00      1.00      1.00      6006\n",
            "\n",
            "    accuracy                           1.00      7504\n",
            "   macro avg       1.00      1.00      1.00      7504\n",
            "weighted avg       1.00      1.00      1.00      7504\n",
            "\n",
            "Matríz de Confusión minkowski con N_NEIGHBORS = 6\n"
          ]
        },
        {
          "output_type": "display_data",
          "data": {
            "image/png": "[encoded data removed]",
            "text/plain": [
              "<Figure size 432x288 with 2 Axes>"
            ]
          },
          "metadata": {
            "needs_background": "light"
          }
        },
        {
          "output_type": "stream",
          "name": "stdout",
          "text": [
            "success accuracy = 99.95 %\n",
            "fail accuracy = 0.05 %\n",
            "------------------------------------------------------------------------\n",
            "\n",
            " \n",
            "Classification Report\n",
            "\n",
            "              precision    recall  f1-score   support\n",
            "\n",
            "     BENIGNO       1.00      1.00      1.00      1534\n",
            "     MALIGNO       1.00      1.00      1.00      5970\n",
            "\n",
            "    accuracy                           1.00      7504\n",
            "   macro avg       1.00      1.00      1.00      7504\n",
            "weighted avg       1.00      1.00      1.00      7504\n",
            "\n",
            "Matríz de Confusión euclidean con N_NEIGHBORS = 6\n"
          ]
        },
        {
          "output_type": "display_data",
          "data": {
            "image/png": "[encoded data removed]",
            "text/plain": [
              "<Figure size 432x288 with 2 Axes>"
            ]
          },
          "metadata": {
            "needs_background": "light"
          }
        },
        {
          "output_type": "stream",
          "name": "stdout",
          "text": [
            "success accuracy = 99.96 %\n",
            "fail accuracy = 0.04 %\n",
            "------------------------------------------------------------------------\n",
            "\n",
            " \n",
            "Classification Report\n",
            "\n",
            "              precision    recall  f1-score   support\n",
            "\n",
            "     BENIGNO       1.00      1.00      1.00      1540\n",
            "     MALIGNO       1.00      1.00      1.00      5964\n",
            "\n",
            "    accuracy                           1.00      7504\n",
            "   macro avg       1.00      1.00      1.00      7504\n",
            "weighted avg       1.00      1.00      1.00      7504\n",
            "\n",
            "Matríz de Confusión manhattan con N_NEIGHBORS = 6\n"
          ]
        },
        {
          "output_type": "display_data",
          "data": {
            "image/png": "[encoded data removed]",
            "text/plain": [
              "<Figure size 432x288 with 2 Axes>"
            ]
          },
          "metadata": {
            "needs_background": "light"
          }
        },
        {
          "output_type": "stream",
          "name": "stdout",
          "text": [
            "success accuracy = 99.95 %\n",
            "fail accuracy = 0.05 %\n",
            "------------------------------------------------------------------------\n",
            "\n",
            " \n",
            "Classification Report\n",
            "\n",
            "              precision    recall  f1-score   support\n",
            "\n",
            "     BENIGNO       1.00      1.00      1.00      1461\n",
            "     MALIGNO       1.00      1.00      1.00      6043\n",
            "\n",
            "    accuracy                           1.00      7504\n",
            "   macro avg       1.00      1.00      1.00      7504\n",
            "weighted avg       1.00      1.00      1.00      7504\n",
            "\n",
            "Matríz de Confusión chebyshev con N_NEIGHBORS = 6\n"
          ]
        },
        {
          "output_type": "display_data",
          "data": {
            "image/png": "[encoded data removed]",
            "text/plain": [
              "<Figure size 432x288 with 2 Axes>"
            ]
          },
          "metadata": {
            "needs_background": "light"
          }
        },
        {
          "output_type": "stream",
          "name": "stdout",
          "text": [
            "success accuracy = 99.95 %\n",
            "fail accuracy = 0.05 %\n",
            "------------------------------------------------------------------------\n",
            "\n",
            " \n",
            "Classification Report\n",
            "\n",
            "              precision    recall  f1-score   support\n",
            "\n",
            "     BENIGNO       1.00      1.00      1.00      1453\n",
            "     MALIGNO       1.00      1.00      1.00      6051\n",
            "\n",
            "    accuracy                           1.00      7504\n",
            "   macro avg       1.00      1.00      1.00      7504\n",
            "weighted avg       1.00      1.00      1.00      7504\n",
            "\n",
            "Matríz de Confusión minkowski con N_NEIGHBORS = 7\n"
          ]
        },
        {
          "output_type": "display_data",
          "data": {
            "image/png": "[encoded data removed]",
            "text/plain": [
              "<Figure size 432x288 with 2 Axes>"
            ]
          },
          "metadata": {
            "needs_background": "light"
          }
        },
        {
          "output_type": "stream",
          "name": "stdout",
          "text": [
            "success accuracy = 99.97 %\n",
            "fail accuracy = 0.03 %\n",
            "------------------------------------------------------------------------\n",
            "\n",
            " \n",
            "Classification Report\n",
            "\n",
            "              precision    recall  f1-score   support\n",
            "\n",
            "     BENIGNO       1.00      1.00      1.00      1519\n",
            "     MALIGNO       1.00      1.00      1.00      5985\n",
            "\n",
            "    accuracy                           1.00      7504\n",
            "   macro avg       1.00      1.00      1.00      7504\n",
            "weighted avg       1.00      1.00      1.00      7504\n",
            "\n",
            "Matríz de Confusión euclidean con N_NEIGHBORS = 7\n"
          ]
        },
        {
          "output_type": "display_data",
          "data": {
            "image/png": "[encoded data removed]",
            "text/plain": [
              "<Figure size 432x288 with 2 Axes>"
            ]
          },
          "metadata": {
            "needs_background": "light"
          }
        },
        {
          "output_type": "stream",
          "name": "stdout",
          "text": [
            "success accuracy = 99.99 %\n",
            "fail accuracy = 0.01 %\n",
            "------------------------------------------------------------------------\n",
            "\n",
            " \n",
            "Classification Report\n",
            "\n",
            "              precision    recall  f1-score   support\n",
            "\n",
            "     BENIGNO       1.00      1.00      1.00      1514\n",
            "     MALIGNO       1.00      1.00      1.00      5990\n",
            "\n",
            "    accuracy                           1.00      7504\n",
            "   macro avg       1.00      1.00      1.00      7504\n",
            "weighted avg       1.00      1.00      1.00      7504\n",
            "\n",
            "Matríz de Confusión manhattan con N_NEIGHBORS = 7\n"
          ]
        },
        {
          "output_type": "display_data",
          "data": {
            "image/png": "[encoded data removed]",
            "text/plain": [
              "<Figure size 432x288 with 2 Axes>"
            ]
          },
          "metadata": {
            "needs_background": "light"
          }
        },
        {
          "output_type": "stream",
          "name": "stdout",
          "text": [
            "success accuracy = 99.92 %\n",
            "fail accuracy = 0.08 %\n",
            "------------------------------------------------------------------------\n",
            "\n",
            " \n",
            "Classification Report\n",
            "\n",
            "              precision    recall  f1-score   support\n",
            "\n",
            "     BENIGNO       1.00      1.00      1.00      1438\n",
            "     MALIGNO       1.00      1.00      1.00      6066\n",
            "\n",
            "    accuracy                           1.00      7504\n",
            "   macro avg       1.00      1.00      1.00      7504\n",
            "weighted avg       1.00      1.00      1.00      7504\n",
            "\n",
            "Matríz de Confusión chebyshev con N_NEIGHBORS = 7\n"
          ]
        },
        {
          "output_type": "display_data",
          "data": {
            "image/png": "[encoded data removed]",
            "text/plain": [
              "<Figure size 432x288 with 2 Axes>"
            ]
          },
          "metadata": {
            "needs_background": "light"
          }
        },
        {
          "output_type": "stream",
          "name": "stdout",
          "text": [
            "success accuracy = 99.99 %\n",
            "fail accuracy = 0.01 %\n",
            "------------------------------------------------------------------------\n",
            "\n",
            " \n",
            "Classification Report\n",
            "\n",
            "              precision    recall  f1-score   support\n",
            "\n",
            "     BENIGNO       1.00      1.00      1.00      1525\n",
            "     MALIGNO       1.00      1.00      1.00      5979\n",
            "\n",
            "    accuracy                           1.00      7504\n",
            "   macro avg       1.00      1.00      1.00      7504\n",
            "weighted avg       1.00      1.00      1.00      7504\n",
            "\n"
          ]
        }
      ]
    },
    {
      "cell_type": "code",
      "metadata": {
        "id": "mOaP--LddwvV",
        "colab": {
          "base_uri": "https://localhost:8080/",
          "height": 279
        },
        "outputId": "63a4accc-6a5d-4610-e6d1-dd7b58c57e48"
      },
      "source": [
        "k_range = range(1, 20)\n",
        "scores = []\n",
        "for k in k_range:\n",
        "    knn = KNeighborsClassifier(n_neighbors = k)\n",
        "    knn.fit(X_flow, y_flow)\n",
        "    scores.append(knn.score(X_flow_test, y_flow_test))\n",
        "plt.figure()\n",
        "plt.xlabel('k')\n",
        "plt.ylabel('accuracy')\n",
        "plt.scatter(k_range, scores)\n",
        "plt.xticks([0,5,10,15,20])\n",
        "plt.show()"
      ],
      "execution_count": 22,
      "outputs": [
        {
          "output_type": "display_data",
          "data": {
            "image/png": "[encoded data removed]",
            "text/plain": [
              "<Figure size 432x288 with 1 Axes>"
            ]
          },
          "metadata": {
            "needs_background": "light"
          }
        }
      ]
    },
    {
      "cell_type": "code",
      "metadata": {
        "id": "3Au3LK4Pd-8l",
        "colab": {
          "base_uri": "https://localhost:8080/",
          "height": 279
        },
        "outputId": "65f65722-119d-45a7-bc08-fc32db276605"
      },
      "source": [
        "plt.figure()\n",
        "plt.xlabel('k')\n",
        "plt.ylabel('accuracy')\n",
        "plt.scatter(k_range, scores,cmap=\"cmap_bold\")\n",
        "plt.xticks([0,5,10,15,20])\n",
        "plt.show()"
      ],
      "execution_count": 23,
      "outputs": [
        {
          "output_type": "display_data",
          "data": {
            "image/png": "[encoded data removed]",
            "text/plain": [
              "<Figure size 432x288 with 1 Axes>"
            ]
          },
          "metadata": {
            "needs_background": "light"
          }
        }
      ]
    },
    {
      "cell_type": "code",
      "metadata": {
        "id": "lRWALOV9cpF_"
      },
      "source": [
        "from sklearn.ensemble import RandomForestClassifier\n",
        "import seaborn as sns"
      ],
      "execution_count": 25,
      "outputs": []
    },
    {
      "cell_type": "code",
      "metadata": {
        "id": "QpDfVHA4cfuw"
      },
      "source": [
        "criterions = ['entropy','gini']\n",
        "n_estimators = [10,20,30,40,50,80,100]"
      ],
      "execution_count": 26,
      "outputs": []
    },
    {
      "cell_type": "code",
      "metadata": {
        "id": "GMkV7MjzcbYP",
        "colab": {
          "base_uri": "https://localhost:8080/",
          "height": 1000
        },
        "outputId": "1a19d53c-df58-4e71-d465-d2ea53adf313"
      },
      "source": [
        "criterions = ['entropy','gini']\n",
        "n_estimators = [10,20,30,40,50,80,100]\n",
        "for criterion in criterions:\n",
        "  for estim in n_estimators:\n",
        "    X_flow_train, X_flow_test, y_flow_train, y_flow_test = train_test_split(X_flow, y_flow,\n",
        "                                                                            test_size=0.25, shuffle=True)\n",
        "    classifier = RandomForestClassifier(n_estimators=estim, criterion=criterion, random_state=0)\n",
        "    flow_model = classifier.fit(X_flow_train, y_flow_train)\n",
        "    y_flow_pred = flow_model.predict(X_flow_test)\n",
        "    print(f\"Matríz de Confusión {criterion} y n_estimators = {estim}\")\n",
        "    cm = confusion_matrix(y_flow_test, y_flow_pred)\n",
        "\n",
        "    sns.heatmap(cm, annot=True, \n",
        "              cmap='Blues', fmt='d')\n",
        "    plt.show()\n",
        "\n",
        "    acc = accuracy_score(y_flow_test, y_flow_pred)\n",
        "\n",
        "    print(\"success accuracy = {0:.2f} %\".format(acc*100))\n",
        "    fail = 1.0 - acc\n",
        "    print(\"fail accuracy = {0:.2f} %\".format(fail*100))\n",
        "    print(\"------------------------------------------------------------------------------\")\n",
        "    print(\" \")\n",
        "    print('Classification Report')\n",
        "    target_names = list(['BENIGNO','MALIGNO'])\n",
        "    print('')\n",
        "    print(classification_report(y_flow_test, y_flow_pred, target_names=target_names))"
      ],
      "execution_count": 27,
      "outputs": [
        {
          "output_type": "stream",
          "name": "stdout",
          "text": [
            "Matríz de Confusión entropy y n_estimators = 10\n"
          ]
        },
        {
          "output_type": "display_data",
          "data": {
            "image/png": "[encoded data removed]",
            "text/plain": [
              "<Figure size 432x288 with 2 Axes>"
            ]
          },
          "metadata": {
            "needs_background": "light"
          }
        },
        {
          "output_type": "stream",
          "name": "stdout",
          "text": [
            "success accuracy = 99.98 %\n",
            "fail accuracy = 0.02 %\n",
            "------------------------------------------------------------------------------\n",
            " \n",
            "Classification Report\n",
            "\n",
            "              precision    recall  f1-score   support\n",
            "\n",
            "     BENIGNO       1.00      1.00      1.00      1847\n",
            "     MALIGNO       1.00      1.00      1.00      7533\n",
            "\n",
            "    accuracy                           1.00      9380\n",
            "   macro avg       1.00      1.00      1.00      9380\n",
            "weighted avg       1.00      1.00      1.00      9380\n",
            "\n",
            "Matríz de Confusión entropy y n_estimators = 20\n"
          ]
        },
        {
          "output_type": "display_data",
          "data": {
            "image/png": "[encoded data removed]",
            "text/plain": [
              "<Figure size 432x288 with 2 Axes>"
            ]
          },
          "metadata": {
            "needs_background": "light"
          }
        },
        {
          "output_type": "stream",
          "name": "stdout",
          "text": [
            "success accuracy = 99.98 %\n",
            "fail accuracy = 0.02 %\n",
            "------------------------------------------------------------------------------\n",
            " \n",
            "Classification Report\n",
            "\n",
            "              precision    recall  f1-score   support\n",
            "\n",
            "     BENIGNO       1.00      1.00      1.00      1850\n",
            "     MALIGNO       1.00      1.00      1.00      7530\n",
            "\n",
            "    accuracy                           1.00      9380\n",
            "   macro avg       1.00      1.00      1.00      9380\n",
            "weighted avg       1.00      1.00      1.00      9380\n",
            "\n",
            "Matríz de Confusión entropy y n_estimators = 30\n"
          ]
        },
        {
          "output_type": "display_data",
          "data": {
            "image/png": "[encoded data removed]",
            "text/plain": [
              "<Figure size 432x288 with 2 Axes>"
            ]
          },
          "metadata": {
            "needs_background": "light"
          }
        },
        {
          "output_type": "stream",
          "name": "stdout",
          "text": [
            "success accuracy = 99.98 %\n",
            "fail accuracy = 0.02 %\n",
            "------------------------------------------------------------------------------\n",
            " \n",
            "Classification Report\n",
            "\n",
            "              precision    recall  f1-score   support\n",
            "\n",
            "     BENIGNO       1.00      1.00      1.00      1912\n",
            "     MALIGNO       1.00      1.00      1.00      7468\n",
            "\n",
            "    accuracy                           1.00      9380\n",
            "   macro avg       1.00      1.00      1.00      9380\n",
            "weighted avg       1.00      1.00      1.00      9380\n",
            "\n",
            "Matríz de Confusión entropy y n_estimators = 40\n"
          ]
        },
        {
          "output_type": "display_data",
          "data": {
            "image/png": "[encoded data removed]",
            "text/plain": [
              "<Figure size 432x288 with 2 Axes>"
            ]
          },
          "metadata": {
            "needs_background": "light"
          }
        },
        {
          "output_type": "stream",
          "name": "stdout",
          "text": [
            "success accuracy = 99.99 %\n",
            "fail accuracy = 0.01 %\n",
            "------------------------------------------------------------------------------\n",
            " \n",
            "Classification Report\n",
            "\n",
            "              precision    recall  f1-score   support\n",
            "\n",
            "     BENIGNO       1.00      1.00      1.00      1905\n",
            "     MALIGNO       1.00      1.00      1.00      7475\n",
            "\n",
            "    accuracy                           1.00      9380\n",
            "   macro avg       1.00      1.00      1.00      9380\n",
            "weighted avg       1.00      1.00      1.00      9380\n",
            "\n",
            "Matríz de Confusión entropy y n_estimators = 50\n"
          ]
        },
        {
          "output_type": "display_data",
          "data": {
            "image/png": "[encoded data removed]",
            "text/plain": [
              "<Figure size 432x288 with 2 Axes>"
            ]
          },
          "metadata": {
            "needs_background": "light"
          }
        },
        {
          "output_type": "stream",
          "name": "stdout",
          "text": [
            "success accuracy = 99.99 %\n",
            "fail accuracy = 0.01 %\n",
            "------------------------------------------------------------------------------\n",
            " \n",
            "Classification Report\n",
            "\n",
            "              precision    recall  f1-score   support\n",
            "\n",
            "     BENIGNO       1.00      1.00      1.00      1877\n",
            "     MALIGNO       1.00      1.00      1.00      7503\n",
            "\n",
            "    accuracy                           1.00      9380\n",
            "   macro avg       1.00      1.00      1.00      9380\n",
            "weighted avg       1.00      1.00      1.00      9380\n",
            "\n",
            "Matríz de Confusión entropy y n_estimators = 80\n"
          ]
        },
        {
          "output_type": "display_data",
          "data": {
            "image/png": "[encoded data removed]",
            "text/plain": [
              "<Figure size 432x288 with 2 Axes>"
            ]
          },
          "metadata": {
            "needs_background": "light"
          }
        },
        {
          "output_type": "stream",
          "name": "stdout",
          "text": [
            "success accuracy = 99.99 %\n",
            "fail accuracy = 0.01 %\n",
            "------------------------------------------------------------------------------\n",
            " \n",
            "Classification Report\n",
            "\n",
            "              precision    recall  f1-score   support\n",
            "\n",
            "     BENIGNO       1.00      1.00      1.00      1920\n",
            "     MALIGNO       1.00      1.00      1.00      7460\n",
            "\n",
            "    accuracy                           1.00      9380\n",
            "   macro avg       1.00      1.00      1.00      9380\n",
            "weighted avg       1.00      1.00      1.00      9380\n",
            "\n",
            "Matríz de Confusión entropy y n_estimators = 100\n"
          ]
        },
        {
          "output_type": "display_data",
          "data": {
            "image/png": "[encoded data removed]",
            "text/plain": [
              "<Figure size 432x288 with 2 Axes>"
            ]
          },
          "metadata": {
            "needs_background": "light"
          }
        },
        {
          "output_type": "stream",
          "name": "stdout",
          "text": [
            "success accuracy = 99.99 %\n",
            "fail accuracy = 0.01 %\n",
            "------------------------------------------------------------------------------\n",
            " \n",
            "Classification Report\n",
            "\n",
            "              precision    recall  f1-score   support\n",
            "\n",
            "     BENIGNO       1.00      1.00      1.00      1832\n",
            "     MALIGNO       1.00      1.00      1.00      7548\n",
            "\n",
            "    accuracy                           1.00      9380\n",
            "   macro avg       1.00      1.00      1.00      9380\n",
            "weighted avg       1.00      1.00      1.00      9380\n",
            "\n",
            "Matríz de Confusión gini y n_estimators = 10\n"
          ]
        },
        {
          "output_type": "display_data",
          "data": {
            "image/png": "[encoded data removed]",
            "text/plain": [
              "<Figure size 432x288 with 2 Axes>"
            ]
          },
          "metadata": {
            "needs_background": "light"
          }
        },
        {
          "output_type": "stream",
          "name": "stdout",
          "text": [
            "success accuracy = 99.99 %\n",
            "fail accuracy = 0.01 %\n",
            "------------------------------------------------------------------------------\n",
            " \n",
            "Classification Report\n",
            "\n",
            "              precision    recall  f1-score   support\n",
            "\n",
            "     BENIGNO       1.00      1.00      1.00      1885\n",
            "     MALIGNO       1.00      1.00      1.00      7495\n",
            "\n",
            "    accuracy                           1.00      9380\n",
            "   macro avg       1.00      1.00      1.00      9380\n",
            "weighted avg       1.00      1.00      1.00      9380\n",
            "\n",
            "Matríz de Confusión gini y n_estimators = 20\n"
          ]
        },
        {
          "output_type": "display_data",
          "data": {
            "image/png": "[encoded data removed]",
            "text/plain": [
              "<Figure size 432x288 with 2 Axes>"
            ]
          },
          "metadata": {
            "needs_background": "light"
          }
        },
        {
          "output_type": "stream",
          "name": "stdout",
          "text": [
            "success accuracy = 100.00 %\n",
            "fail accuracy = 0.00 %\n",
            "------------------------------------------------------------------------------\n",
            " \n",
            "Classification Report\n",
            "\n",
            "              precision    recall  f1-score   support\n",
            "\n",
            "     BENIGNO       1.00      1.00      1.00      1879\n",
            "     MALIGNO       1.00      1.00      1.00      7501\n",
            "\n",
            "    accuracy                           1.00      9380\n",
            "   macro avg       1.00      1.00      1.00      9380\n",
            "weighted avg       1.00      1.00      1.00      9380\n",
            "\n",
            "Matríz de Confusión gini y n_estimators = 30\n"
          ]
        },
        {
          "output_type": "display_data",
          "data": {
            "image/png": "[encoded data removed]",
            "text/plain": [
              "<Figure size 432x288 with 2 Axes>"
            ]
          },
          "metadata": {
            "needs_background": "light"
          }
        },
        {
          "output_type": "stream",
          "name": "stdout",
          "text": [
            "success accuracy = 100.00 %\n",
            "fail accuracy = 0.00 %\n",
            "------------------------------------------------------------------------------\n",
            " \n",
            "Classification Report\n",
            "\n",
            "              precision    recall  f1-score   support\n",
            "\n",
            "     BENIGNO       1.00      1.00      1.00      1826\n",
            "     MALIGNO       1.00      1.00      1.00      7554\n",
            "\n",
            "    accuracy                           1.00      9380\n",
            "   macro avg       1.00      1.00      1.00      9380\n",
            "weighted avg       1.00      1.00      1.00      9380\n",
            "\n",
            "Matríz de Confusión gini y n_estimators = 40\n"
          ]
        },
        {
          "output_type": "display_data",
          "data": {
            "image/png": "[encoded data removed]",
            "text/plain": [
              "<Figure size 432x288 with 2 Axes>"
            ]
          },
          "metadata": {
            "needs_background": "light"
          }
        },
        {
          "output_type": "stream",
          "name": "stdout",
          "text": [
            "success accuracy = 100.00 %\n",
            "fail accuracy = 0.00 %\n",
            "------------------------------------------------------------------------------\n",
            " \n",
            "Classification Report\n",
            "\n",
            "              precision    recall  f1-score   support\n",
            "\n",
            "     BENIGNO       1.00      1.00      1.00      1883\n",
            "     MALIGNO       1.00      1.00      1.00      7497\n",
            "\n",
            "    accuracy                           1.00      9380\n",
            "   macro avg       1.00      1.00      1.00      9380\n",
            "weighted avg       1.00      1.00      1.00      9380\n",
            "\n",
            "Matríz de Confusión gini y n_estimators = 50\n"
          ]
        },
        {
          "output_type": "display_data",
          "data": {
            "image/png": "[encoded data removed]",
            "text/plain": [
              "<Figure size 432x288 with 2 Axes>"
            ]
          },
          "metadata": {
            "needs_background": "light"
          }
        },
        {
          "output_type": "stream",
          "name": "stdout",
          "text": [
            "success accuracy = 99.99 %\n",
            "fail accuracy = 0.01 %\n",
            "------------------------------------------------------------------------------\n",
            " \n",
            "Classification Report\n",
            "\n",
            "              precision    recall  f1-score   support\n",
            "\n",
            "     BENIGNO       1.00      1.00      1.00      1867\n",
            "     MALIGNO       1.00      1.00      1.00      7513\n",
            "\n",
            "    accuracy                           1.00      9380\n",
            "   macro avg       1.00      1.00      1.00      9380\n",
            "weighted avg       1.00      1.00      1.00      9380\n",
            "\n",
            "Matríz de Confusión gini y n_estimators = 80\n"
          ]
        },
        {
          "output_type": "display_data",
          "data": {
            "image/png": "[encoded data removed]",
            "text/plain": [
              "<Figure size 432x288 with 2 Axes>"
            ]
          },
          "metadata": {
            "needs_background": "light"
          }
        },
        {
          "output_type": "stream",
          "name": "stdout",
          "text": [
            "success accuracy = 100.00 %\n",
            "fail accuracy = 0.00 %\n",
            "------------------------------------------------------------------------------\n",
            " \n",
            "Classification Report\n",
            "\n",
            "              precision    recall  f1-score   support\n",
            "\n",
            "     BENIGNO       1.00      1.00      1.00      1838\n",
            "     MALIGNO       1.00      1.00      1.00      7542\n",
            "\n",
            "    accuracy                           1.00      9380\n",
            "   macro avg       1.00      1.00      1.00      9380\n",
            "weighted avg       1.00      1.00      1.00      9380\n",
            "\n",
            "Matríz de Confusión gini y n_estimators = 100\n"
          ]
        },
        {
          "output_type": "display_data",
          "data": {
            "image/png": "[encoded data removed]",
            "text/plain": [
              "<Figure size 432x288 with 2 Axes>"
            ]
          },
          "metadata": {
            "needs_background": "light"
          }
        },
        {
          "output_type": "stream",
          "name": "stdout",
          "text": [
            "success accuracy = 100.00 %\n",
            "fail accuracy = 0.00 %\n",
            "------------------------------------------------------------------------------\n",
            " \n",
            "Classification Report\n",
            "\n",
            "              precision    recall  f1-score   support\n",
            "\n",
            "     BENIGNO       1.00      1.00      1.00      1858\n",
            "     MALIGNO       1.00      1.00      1.00      7522\n",
            "\n",
            "    accuracy                           1.00      9380\n",
            "   macro avg       1.00      1.00      1.00      9380\n",
            "weighted avg       1.00      1.00      1.00      9380\n",
            "\n"
          ]
        }
      ]
    },
    {
      "cell_type": "code",
      "metadata": {
        "id": "br9k66qSb8Bw"
      },
      "source": [
        "from sklearn import svm\n",
        "from sklearn.pipeline import make_pipeline\n",
        "from sklearn.preprocessing import StandardScaler"
      ],
      "execution_count": 28,
      "outputs": []
    },
    {
      "cell_type": "code",
      "metadata": {
        "id": "iZmAmfMQb18Y",
        "colab": {
          "base_uri": "https://localhost:8080/",
          "height": 299
        },
        "outputId": "a3705b4c-6e7d-4e91-d30b-d4116e3c6d79"
      },
      "source": [
        "X_flow = dataset.iloc[:, :-1].values\n",
        "X_flow = X_flow.astype('float32')\n",
        "\n",
        "y_flow = dataset.iloc[:, -1].values\n",
        "\n",
        "X_flow_train, X_flow_test, y_flow_train, y_flow_test = train_test_split(X_flow, y_flow, test_size=0.25)\n",
        "\n",
        "clf = make_pipeline(StandardScaler(), svm.SVC(gamma='auto'))\n",
        "flow_model = clf.fit(X_flow_train, y_flow_train)\n",
        "y_flow_pred = flow_model.predict(X_flow_test)\n",
        "\n",
        "cm = confusion_matrix(y_flow_test, y_flow_pred)\n",
        "\n",
        "sns.heatmap(cm, annot=True, \n",
        "          cmap='Blues', fmt='d')\n",
        "plt.show()\n",
        "acc = accuracy_score(y_flow_test, y_flow_pred)\n",
        "\n",
        "print(\"success accuracy = {0:.2f} %\".format(acc*100))\n",
        "fail = 1.0 - acc\n",
        "print(\"fail accuracy = {0:.2f} %\".format(fail*100))"
      ],
      "execution_count": 30,
      "outputs": [
        {
          "output_type": "display_data",
          "data": {
            "image/png": "[encoded data removed]",
            "text/plain": [
              "<Figure size 432x288 with 2 Axes>"
            ]
          },
          "metadata": {
            "needs_background": "light"
          }
        },
        {
          "output_type": "stream",
          "name": "stdout",
          "text": [
            "success accuracy = 99.63 %\n",
            "fail accuracy = 0.37 %\n"
          ]
        }
      ]
    },
    {
      "cell_type": "code",
      "metadata": {
        "id": "S_LdKdwpbwZY",
        "colab": {
          "base_uri": "https://localhost:8080/"
        },
        "outputId": "6c60a6dc-7f73-4c9d-8327-999c9716aa69"
      },
      "source": [
        " print(\" \")\n",
        "print('Classification Report')\n",
        "target_names = list(['BENIGNO','MALIGNO'])\n",
        "print('')\n",
        "print(classification_report(y_flow_test, y_flow_pred, target_names=target_names))"
      ],
      "execution_count": 31,
      "outputs": [
        {
          "output_type": "stream",
          "name": "stdout",
          "text": [
            " \n",
            "Classification Report\n",
            "\n",
            "              precision    recall  f1-score   support\n",
            "\n",
            "     BENIGNO       1.00      0.98      0.99      1870\n",
            "     MALIGNO       1.00      1.00      1.00      7510\n",
            "\n",
            "    accuracy                           1.00      9380\n",
            "   macro avg       1.00      0.99      0.99      9380\n",
            "weighted avg       1.00      1.00      1.00      9380\n",
            "\n"
          ]
        }
      ]
    },
    {
      "cell_type": "markdown",
      "metadata": {
        "id": "B27BL84PZgpk"
      },
      "source": [
        "#ANN"
      ]
    },
    {
      "cell_type": "code",
      "metadata": {
        "id": "A1GCvXSSdgBG"
      },
      "source": [
        "from sklearn.neural_network import MLPClassifier"
      ],
      "execution_count": 32,
      "outputs": []
    },
    {
      "cell_type": "code",
      "metadata": {
        "id": "0dGKlr_RcWZ-"
      },
      "source": [
        "clf = MLPClassifier(solver='lbfgs',max_iter=100, alpha=1e-5, batch_size=55,\n",
        "                    hidden_layer_sizes=(64,32,16), random_state=1,verbose=True)\n",
        "clf.fit(X_flow_train, y_flow_train)\n",
        "y_flow_pred = clf.predict(X_flow_test)"
      ],
      "execution_count": 44,
      "outputs": []
    },
    {
      "cell_type": "code",
      "metadata": {
        "colab": {
          "base_uri": "https://localhost:8080/",
          "height": 519
        },
        "id": "xz4Q7MG4ZwXC",
        "outputId": "d58d0603-856a-444a-e673-82e5d014dc09"
      },
      "source": [
        "cm = confusion_matrix(y_flow_test, y_flow_pred)\n",
        "\n",
        "sns.heatmap(cm, annot=True, \n",
        "        cmap='Blues', fmt='d')\n",
        "plt.title('Matríz de confusión ANN')\n",
        "plt.show()\n",
        "\n",
        "acc = accuracy_score(y_flow_test, y_flow_pred)\n",
        "\n",
        "print(\"success accuracy = {0:.2f} %\".format(acc*100))\n",
        "fail = 1.0 - acc\n",
        "print(\"fail accuracy = {0:.2f} %\".format(fail*100))\n",
        "\n",
        "print(\" \")\n",
        "print('Classification Report')\n",
        "target_names = list(['BENIGNO','MALIGNO'])\n",
        "print('')\n",
        "print(classification_report(y_flow_test, y_flow_pred, target_names=target_names))"
      ],
      "execution_count": 45,
      "outputs": [
        {
          "output_type": "display_data",
          "data": {
            "image/png": "[encoded data removed]",
            "text/plain": [
              "<Figure size 432x288 with 2 Axes>"
            ]
          },
          "metadata": {
            "needs_background": "light"
          }
        },
        {
          "output_type": "stream",
          "name": "stdout",
          "text": [
            "success accuracy = 97.75 %\n",
            "fail accuracy = 2.25 %\n",
            " \n",
            "Classification Report\n",
            "\n",
            "              precision    recall  f1-score   support\n",
            "\n",
            "     BENIGNO       0.90      1.00      0.95      1870\n",
            "     MALIGNO       1.00      0.97      0.99      7510\n",
            "\n",
            "    accuracy                           0.98      9380\n",
            "   macro avg       0.95      0.99      0.97      9380\n",
            "weighted avg       0.98      0.98      0.98      9380\n",
            "\n"
          ]
        }
      ]
    },
    {
      "cell_type": "code",
      "metadata": {
        "id": "uq49KuUT1tP9"
      },
      "source": [
        ""
      ],
      "execution_count": null,
      "outputs": []
    },
    {
      "cell_type": "markdown",
      "metadata": {
        "id": "R8XxC8pDD2p1"
      },
      "source": [
        "#DT"
      ]
    },
    {
      "cell_type": "code",
      "metadata": {
        "id": "H6YqYhmRD3Xo"
      },
      "source": [
        "from sklearn.tree import DecisionTreeClassifier"
      ],
      "execution_count": 46,
      "outputs": []
    },
    {
      "cell_type": "code",
      "metadata": {
        "id": "JtOWDthpcScP",
        "colab": {
          "base_uri": "https://localhost:8080/",
          "height": 992
        },
        "outputId": "489c636f-cb6b-47cc-d1b7-1950b5b489a0"
      },
      "source": [
        "for criterion in criterions:\n",
        "  X_flow_train, X_flow_test, y_flow_train, y_flow_test = train_test_split(X_flow, y_flow, test_size=0.2)\n",
        "\n",
        "  classifier = DecisionTreeClassifier(criterion=criterion, random_state=0)\n",
        "  flow_model = classifier.fit(X_flow_train, y_flow_train)\n",
        "  y_flow_pred = flow_model.predict(X_flow_test)\n",
        "\n",
        "  cm = confusion_matrix(y_flow_test, y_flow_pred)\n",
        "  \n",
        "\n",
        "  sns.heatmap(cm, annot=True, \n",
        "            cmap='Blues', fmt='d')\n",
        "  plt.show()\n",
        "  acc = accuracy_score(y_flow_test, y_flow_pred)\n",
        "\n",
        "  print(\"success accuracy = {0:.2f} %\".format(acc*100))\n",
        "  fail = 1.0 - acc\n",
        "  print(\"fail accuracy = {0:.2f} %\".format(fail*100))\n",
        "\n",
        "  print(\" \")\n",
        "  print('Classification Report')\n",
        "  target_names = list(['BENIGNO','MALIGNO'])\n",
        "  print('')\n",
        "  print(classification_report(y_flow_test, y_flow_pred, target_names=target_names))"
      ],
      "execution_count": 47,
      "outputs": [
        {
          "output_type": "display_data",
          "data": {
            "image/png": "[encoded data removed]",
            "text/plain": [
              "<Figure size 432x288 with 2 Axes>"
            ]
          },
          "metadata": {
            "needs_background": "light"
          }
        },
        {
          "output_type": "stream",
          "name": "stdout",
          "text": [
            "success accuracy = 99.96 %\n",
            "fail accuracy = 0.04 %\n",
            " \n",
            "Classification Report\n",
            "\n",
            "              precision    recall  f1-score   support\n",
            "\n",
            "     BENIGNO       1.00      1.00      1.00      1472\n",
            "     MALIGNO       1.00      1.00      1.00      6032\n",
            "\n",
            "    accuracy                           1.00      7504\n",
            "   macro avg       1.00      1.00      1.00      7504\n",
            "weighted avg       1.00      1.00      1.00      7504\n",
            "\n"
          ]
        },
        {
          "output_type": "display_data",
          "data": {
            "image/png": "[encoded data removed]",
            "text/plain": [
              "<Figure size 432x288 with 2 Axes>"
            ]
          },
          "metadata": {
            "needs_background": "light"
          }
        },
        {
          "output_type": "stream",
          "name": "stdout",
          "text": [
            "success accuracy = 99.99 %\n",
            "fail accuracy = 0.01 %\n",
            " \n",
            "Classification Report\n",
            "\n",
            "              precision    recall  f1-score   support\n",
            "\n",
            "     BENIGNO       1.00      1.00      1.00      1522\n",
            "     MALIGNO       1.00      1.00      1.00      5982\n",
            "\n",
            "    accuracy                           1.00      7504\n",
            "   macro avg       1.00      1.00      1.00      7504\n",
            "weighted avg       1.00      1.00      1.00      7504\n",
            "\n"
          ]
        }
      ]
    },
    {
      "cell_type": "code",
      "metadata": {
        "id": "J3X5N9rAEWl7"
      },
      "source": [
        ""
      ],
      "execution_count": null,
      "outputs": []
    },
    {
      "cell_type": "markdown",
      "metadata": {
        "id": "jYaCivv5sSBw"
      },
      "source": [
        "#Pickle"
      ]
    },
    {
      "cell_type": "code",
      "metadata": {
        "colab": {
          "base_uri": "https://localhost:8080/",
          "height": 554
        },
        "id": "K4PjhS7PsTxe",
        "outputId": "c1692c26-c1e7-487d-b2e9-40c41bcbb2d5"
      },
      "source": [
        "X_flow_train, X_flow_test, y_flow_train, y_flow_test = train_test_split(X_flow, y_flow, test_size=0.25, shuffle=True)\n",
        "classifier = KNeighborsClassifier(n_neighbors=5, metric='minkowski')\n",
        "flow_model = classifier.fit(X_flow_train, y_flow_train)\n",
        "y_flow_pred = flow_model.predict(X_flow_test)\n",
        "print(\"Matríz de Confusión con N_NEIGHBORS = 5\")\n",
        "cm = confusion_matrix(y_flow_test, y_flow_pred)\n",
        "\n",
        "sns.heatmap(cm, annot=True, \n",
        "          cmap='Blues', fmt='d')\n",
        "plt.show()\n",
        "\n",
        "acc = accuracy_score(y_flow_test, y_flow_pred)\n",
        "\n",
        "print(\"success accuracy = {0:.02f} %\".format(acc*100))\n",
        "fail = 1.0 - acc\n",
        "print(\"fail accuracy = {0:.02f} %\".format(fail*100))\n",
        "print(\"------------------------------------------------------------------------\")\n",
        "print(\"\")\n",
        "print(\" \")\n",
        "print('Classification Report')\n",
        "target_names = list(['BENIGNO','MALIGNO'])\n",
        "print('')\n",
        "print(classification_report(y_flow_test, y_flow_pred, target_names=target_names))\n"
      ],
      "execution_count": 50,
      "outputs": [
        {
          "output_type": "stream",
          "name": "stdout",
          "text": [
            "Matríz de Confusión con N_NEIGHBORS = 5\n"
          ]
        },
        {
          "output_type": "display_data",
          "data": {
            "image/png": "[encoded data removed]",
            "text/plain": [
              "<Figure size 432x288 with 2 Axes>"
            ]
          },
          "metadata": {
            "needs_background": "light"
          }
        },
        {
          "output_type": "stream",
          "name": "stdout",
          "text": [
            "success accuracy = 100.00 %\n",
            "fail accuracy = 0.00 %\n",
            "------------------------------------------------------------------------\n",
            "\n",
            " \n",
            "Classification Report\n",
            "\n",
            "              precision    recall  f1-score   support\n",
            "\n",
            "     BENIGNO       1.00      1.00      1.00      1844\n",
            "     MALIGNO       1.00      1.00      1.00      7536\n",
            "\n",
            "    accuracy                           1.00      9380\n",
            "   macro avg       1.00      1.00      1.00      9380\n",
            "weighted avg       1.00      1.00      1.00      9380\n",
            "\n"
          ]
        }
      ]
    },
    {
      "cell_type": "code",
      "metadata": {
        "id": "obLAj51oscIc"
      },
      "source": [
        "import pickle\n",
        "# save the model to disk\n",
        "filename = 'modelo_knn.sav'\n",
        "pickle.dump(flow_model, open(filename, 'wb'))"
      ],
      "execution_count": 51,
      "outputs": []
    },
    {
      "cell_type": "code",
      "metadata": {
        "id": "iDx4MIVFs0RP"
      },
      "source": [
        ""
      ],
      "execution_count": null,
      "outputs": []
    },
    {
      "cell_type": "code",
      "metadata": {
        "colab": {
          "base_uri": "https://localhost:8080/",
          "height": 522
        },
        "id": "D5IZuxdKtPD9",
        "outputId": "a7a17c36-7abb-402c-f2c4-57d5b23acda3"
      },
      "source": [
        "from sklearn.ensemble import RandomForestClassifier\n",
        "\n",
        "X_flow_train, X_flow_test, y_flow_train, y_flow_test = train_test_split(X_flow, y_flow,\n",
        "                                                                            test_size=0.2)\n",
        "classifier = RandomForestClassifier(n_estimators=100, criterion='gini', random_state=0)\n",
        "flow_model = classifier.fit(X_flow_train, y_flow_train)\n",
        "y_flow_pred = flow_model.predict(X_flow_test)\n",
        "cm = confusion_matrix(y_flow_test, y_flow_pred)\n",
        "\n",
        "sns.heatmap(cm, annot=True, \n",
        "            cmap='Blues', fmt='d')\n",
        "plt.show()\n",
        "\n",
        "acc = accuracy_score(y_flow_test, y_flow_pred)\n",
        "\n",
        "print(\"success accuracy = {0:.2f} %\".format(acc*100))\n",
        "fail = 1.0 - acc\n",
        "print(\"fail accuracy = {0:.2f} %\".format(fail*100))\n",
        "print(\"------------------------------------------------------------------------------\")\n",
        "print(\" \")\n",
        "print('Classification Report')\n",
        "target_names = list(['BENIGNO','MALIGNO'])\n",
        "print('')\n",
        "print(classification_report(y_flow_test, y_flow_pred, target_names=target_names))"
      ],
      "execution_count": 54,
      "outputs": [
        {
          "output_type": "display_data",
          "data": {
            "image/png": "[encoded data removed]",
            "text/plain": [
              "<Figure size 432x288 with 2 Axes>"
            ]
          },
          "metadata": {
            "needs_background": "light"
          }
        },
        {
          "output_type": "stream",
          "name": "stdout",
          "text": [
            "success accuracy = 100.00 %\n",
            "fail accuracy = 0.00 %\n",
            "------------------------------------------------------------------------------\n",
            " \n",
            "Classification Report\n",
            "\n",
            "              precision    recall  f1-score   support\n",
            "\n",
            "     BENIGNO       1.00      1.00      1.00      1436\n",
            "     MALIGNO       1.00      1.00      1.00      6068\n",
            "\n",
            "    accuracy                           1.00      7504\n",
            "   macro avg       1.00      1.00      1.00      7504\n",
            "weighted avg       1.00      1.00      1.00      7504\n",
            "\n"
          ]
        }
      ]
    },
    {
      "cell_type": "code",
      "metadata": {
        "id": "U2HUQ6_98ELv"
      },
      "source": [
        "import pickle\n",
        "# save the model to disk\n",
        "filename = 'modelo_RF.sav'\n",
        "pickle.dump(flow_model, open(filename, 'wb'))"
      ],
      "execution_count": 55,
      "outputs": []
    },
    {
      "cell_type": "code",
      "metadata": {
        "id": "QqSuYvm_8UhO"
      },
      "source": [
        "from sklearn import svm\n",
        "from sklearn.pipeline import make_pipeline\n",
        "from sklearn.preprocessing import StandardScaler"
      ],
      "execution_count": 56,
      "outputs": []
    },
    {
      "cell_type": "code",
      "metadata": {
        "colab": {
          "base_uri": "https://localhost:8080/",
          "height": 303
        },
        "id": "hZkM3e4_8dKM",
        "outputId": "50aa7440-e4a7-477d-8b4c-84fe1f2d5c54"
      },
      "source": [
        "X_flow = dataset.iloc[:, :-1].values\n",
        "X_flow = X_flow.astype('float32')\n",
        "\n",
        "y_flow = dataset.iloc[:, -1].values\n",
        "\n",
        "X_flow_train, X_flow_test, y_flow_train, y_flow_test = train_test_split(X_flow, y_flow, test_size=0.2)\n",
        "\n",
        "clf = make_pipeline(StandardScaler(), svm.SVC(gamma='auto'))\n",
        "flow_model = clf.fit(X_flow_train, y_flow_train)\n",
        "y_flow_pred = flow_model.predict(X_flow_test)\n",
        "\n",
        "cm = confusion_matrix(y_flow_test, y_flow_pred)\n",
        "\n",
        "sns.heatmap(cm, annot=True, \n",
        "          cmap='Blues', fmt='d')\n",
        "plt.show()\n",
        "acc = accuracy_score(y_flow_test, y_flow_pred)\n",
        "\n",
        "print(\"success accuracy = {0:.2f} %\".format(acc*100))\n",
        "fail = 1.0 - acc\n",
        "print(\"fail accuracy = {0:.2f} %\".format(fail*100))"
      ],
      "execution_count": 57,
      "outputs": [
        {
          "output_type": "display_data",
          "data": {
            "image/png": "[encoded data removed]",
            "text/plain": [
              "<Figure size 432x288 with 2 Axes>"
            ]
          },
          "metadata": {
            "needs_background": "light"
          }
        },
        {
          "output_type": "stream",
          "name": "stdout",
          "text": [
            "success accuracy = 99.51 %\n",
            "fail accuracy = 0.49 %\n"
          ]
        }
      ]
    },
    {
      "cell_type": "code",
      "metadata": {
        "id": "XDXjUAAz8doh"
      },
      "source": [
        "import pickle\n",
        "# save the model to disk\n",
        "filename = 'modelo_SVM.sav'\n",
        "pickle.dump(flow_model, open(filename, 'wb'))"
      ],
      "execution_count": 58,
      "outputs": []
    },
    {
      "cell_type": "code",
      "metadata": {
        "id": "P4boqlcW8ihQ"
      },
      "source": [
        ""
      ],
      "execution_count": null,
      "outputs": []
    }
  ]
}